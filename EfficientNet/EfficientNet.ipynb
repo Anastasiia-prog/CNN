{
 "cells": [
  {
   "cell_type": "code",
   "execution_count": 1,
   "id": "22d794ed-5eed-4c20-bde4-9b6d19481219",
   "metadata": {},
   "outputs": [],
   "source": [
    "from SEBlock import SE_Block\n",
    "import torch.nn.functional as F\n",
    "from torch import nn\n",
    "import torch\n",
    "from torch.optim import Adam\n",
    "import torchvision\n",
    "import math\n",
    "from loading_dataset import load_imagenette\n",
    "from model_learning import Training_valid_testing_model\n",
    "from EfficientBlock import EfficientNet"
   ]
  },
  {
   "cell_type": "code",
   "execution_count": 2,
   "id": "d6e77ed1-f71b-4225-806c-b390fc297460",
   "metadata": {},
   "outputs": [],
   "source": [
    "train_loader, val_loader, test_loader, test_dataset = load_imagenette()"
   ]
  },
  {
   "cell_type": "code",
   "execution_count": 3,
   "id": "8edb0fac-0b82-4c56-917f-a61f78e7f72a",
   "metadata": {},
   "outputs": [
    {
     "name": "stdout",
     "output_type": "stream",
     "text": [
      "env: CUDA_VISIBLE_DEVICES='3'\n"
     ]
    }
   ],
   "source": [
    "%load_ext autoreload\n",
    "%env CUDA_VISIBLE_DEVICES = '3'"
   ]
  },
  {
   "cell_type": "code",
   "execution_count": 4,
   "id": "3a51f0f4-6ecd-4cee-aa47-7ad4f50babb9",
   "metadata": {},
   "outputs": [],
   "source": [
    "device = torch.device('cuda:3' if torch.cuda.is_available() else 'cpu')"
   ]
  },
  {
   "cell_type": "code",
   "execution_count": 5,
   "id": "64d95cf1-f785-4d7a-833e-9c5ffcace835",
   "metadata": {},
   "outputs": [],
   "source": [
    "# b0 version by default, but it can be changed by varying width_factor and depth_factor\n",
    "model = EfficientNet()\n",
    "model = model.to(device)\n",
    "num_epochs = 40\n",
    "learning_rate = 0.001\n",
    "loss_function = nn.CrossEntropyLoss()\n",
    "optimizer = Adam(params=model.parameters(), lr=learning_rate)"
   ]
  },
  {
   "cell_type": "code",
   "execution_count": 6,
   "id": "e5437f8d-7411-4b34-8c76-09190b5f56ae",
   "metadata": {},
   "outputs": [
    {
     "name": "stdout",
     "output_type": "stream",
     "text": [
      "parameters: 4020358\n"
     ]
    }
   ],
   "source": [
    "# In pytorch - EfficientNet B0 parameters: 5288548\n",
    "print('parameters:', sum(param.numel() for param in model.parameters()))"
   ]
  },
  {
   "cell_type": "code",
   "execution_count": 7,
   "id": "b823b6dc-13e7-4140-b793-547d5dec5eec",
   "metadata": {},
   "outputs": [],
   "source": [
    "learning = Training_valid_testing_model(model=model, loss_function=loss_function,\n",
    "                                        optimizer=optimizer, num_epochs=num_epochs, train_loader=train_loader,\n",
    "                                        val_loader=val_loader, test_loader=test_loader, test_dataset=test_dataset,\n",
    "                                        device=device)"
   ]
  },
  {
   "cell_type": "code",
   "execution_count": 8,
   "id": "80b7dead-80a4-46fc-bdd4-93f6f4347e0f",
   "metadata": {},
   "outputs": [
    {
     "name": "stderr",
     "output_type": "stream",
     "text": [
      "  0%|          | 0/40 [00:00<?, ?it/s]"
     ]
    },
    {
     "name": "stdout",
     "output_type": "stream",
     "text": [
      "Epoch number is 1\n"
     ]
    },
    {
     "name": "stderr",
     "output_type": "stream",
     "text": [
      "  2%|▎         | 1/40 [03:34<2:19:08, 214.07s/it]"
     ]
    },
    {
     "name": "stdout",
     "output_type": "stream",
     "text": [
      "CrossEntropyLoss train 2.0226807115045755\n",
      "CrossEntropyLoss validation 1.887166448629619\n",
      "Validation accuracy: 35.07692307692308\n",
      "Epoch number is 2\n"
     ]
    },
    {
     "name": "stderr",
     "output_type": "stream",
     "text": [
      "  5%|▌         | 2/40 [07:21<2:20:29, 221.84s/it]"
     ]
    },
    {
     "name": "stdout",
     "output_type": "stream",
     "text": [
      "CrossEntropyLoss train 1.748463138333849\n",
      "CrossEntropyLoss validation 1.5801085787392706\n",
      "Validation accuracy: 44.957264957264954\n",
      "Epoch number is 3\n"
     ]
    },
    {
     "name": "stderr",
     "output_type": "stream",
     "text": [
      "  8%|▊         | 3/40 [11:03<2:16:47, 221.83s/it]"
     ]
    },
    {
     "name": "stdout",
     "output_type": "stream",
     "text": [
      "CrossEntropyLoss train 1.6128668610912722\n",
      "CrossEntropyLoss validation 1.4285263933770644\n",
      "Validation accuracy: 51.65811965811966\n",
      "Epoch number is 4\n"
     ]
    },
    {
     "name": "stderr",
     "output_type": "stream",
     "text": [
      " 10%|█         | 4/40 [14:54<2:15:14, 225.41s/it]"
     ]
    },
    {
     "name": "stdout",
     "output_type": "stream",
     "text": [
      "CrossEntropyLoss train 1.4479216639254544\n",
      "CrossEntropyLoss validation 1.3061871623080936\n",
      "Validation accuracy: 57.53846153846154\n",
      "Epoch number is 5\n"
     ]
    },
    {
     "name": "stderr",
     "output_type": "stream",
     "text": [
      " 12%|█▎        | 5/40 [18:35<2:10:40, 224.02s/it]"
     ]
    },
    {
     "name": "stdout",
     "output_type": "stream",
     "text": [
      "CrossEntropyLoss train 1.3085368662267118\n",
      "CrossEntropyLoss validation 1.1487795831075782\n",
      "Validation accuracy: 61.2991452991453\n",
      "Epoch number is 6\n"
     ]
    },
    {
     "name": "stderr",
     "output_type": "stream",
     "text": [
      " 15%|█▌        | 6/40 [22:24<2:07:53, 225.68s/it]"
     ]
    },
    {
     "name": "stdout",
     "output_type": "stream",
     "text": [
      "CrossEntropyLoss train 1.194979288288065\n",
      "CrossEntropyLoss validation 1.1064881172662224\n",
      "Validation accuracy: 63.52136752136752\n",
      "Epoch number is 7\n"
     ]
    },
    {
     "name": "stderr",
     "output_type": "stream",
     "text": [
      " 18%|█▊        | 7/40 [26:11<2:04:21, 226.11s/it]"
     ]
    },
    {
     "name": "stdout",
     "output_type": "stream",
     "text": [
      "CrossEntropyLoss train 1.1099014335588828\n",
      "CrossEntropyLoss validation 0.9464530335749434\n",
      "Validation accuracy: 69.23076923076923\n",
      "Epoch number is 8\n"
     ]
    },
    {
     "name": "stderr",
     "output_type": "stream",
     "text": [
      " 20%|██        | 8/40 [29:53<1:59:52, 224.78s/it]"
     ]
    },
    {
     "name": "stdout",
     "output_type": "stream",
     "text": [
      "CrossEntropyLoss train 1.018954534284972\n",
      "CrossEntropyLoss validation 0.942755863803332\n",
      "Validation accuracy: 69.74358974358974\n",
      "Epoch number is 9\n"
     ]
    },
    {
     "name": "stderr",
     "output_type": "stream",
     "text": [
      " 22%|██▎       | 9/40 [33:41<1:56:36, 225.70s/it]"
     ]
    },
    {
     "name": "stdout",
     "output_type": "stream",
     "text": [
      "CrossEntropyLoss train 0.9616738273384603\n",
      "CrossEntropyLoss validation 0.8643863774388214\n",
      "Validation accuracy: 71.6923076923077\n",
      "Epoch number is 10\n"
     ]
    },
    {
     "name": "stderr",
     "output_type": "stream",
     "text": [
      " 25%|██▌       | 10/40 [37:34<1:53:59, 228.00s/it]"
     ]
    },
    {
     "name": "stdout",
     "output_type": "stream",
     "text": [
      "CrossEntropyLoss train 0.9021068934250522\n",
      "CrossEntropyLoss validation 0.8532274270155391\n",
      "Validation accuracy: 72.47863247863248\n",
      "Epoch number is 11\n"
     ]
    },
    {
     "name": "stderr",
     "output_type": "stream",
     "text": [
      " 28%|██▊       | 11/40 [41:24<1:50:34, 228.77s/it]"
     ]
    },
    {
     "name": "stdout",
     "output_type": "stream",
     "text": [
      "CrossEntropyLoss train 0.8670205838625898\n",
      "CrossEntropyLoss validation 0.7922110538013646\n",
      "Validation accuracy: 74.63247863247864\n",
      "Epoch number is 12\n"
     ]
    },
    {
     "name": "stderr",
     "output_type": "stream",
     "text": [
      " 30%|███       | 12/40 [45:19<1:47:38, 230.66s/it]"
     ]
    },
    {
     "name": "stdout",
     "output_type": "stream",
     "text": [
      "CrossEntropyLoss train 0.8321713463629823\n",
      "CrossEntropyLoss validation 0.8063837240546778\n",
      "Validation accuracy: 74.5982905982906\n",
      "Epoch number is 13\n"
     ]
    },
    {
     "name": "stderr",
     "output_type": "stream",
     "text": [
      " 32%|███▎      | 13/40 [49:16<1:44:38, 232.54s/it]"
     ]
    },
    {
     "name": "stdout",
     "output_type": "stream",
     "text": [
      "CrossEntropyLoss train 0.7953411857975093\n",
      "CrossEntropyLoss validation 0.7585103240658025\n",
      "Validation accuracy: 76.47863247863248\n",
      "Epoch number is 14\n"
     ]
    },
    {
     "name": "stderr",
     "output_type": "stream",
     "text": [
      " 35%|███▌      | 14/40 [53:06<1:40:23, 231.68s/it]"
     ]
    },
    {
     "name": "stdout",
     "output_type": "stream",
     "text": [
      "CrossEntropyLoss train 0.7742257251882473\n",
      "CrossEntropyLoss validation 0.7287396587472145\n",
      "Validation accuracy: 76.61538461538461\n",
      "Epoch number is 15\n"
     ]
    },
    {
     "name": "stderr",
     "output_type": "stream",
     "text": [
      " 38%|███▊      | 15/40 [57:01<1:37:01, 232.85s/it]"
     ]
    },
    {
     "name": "stdout",
     "output_type": "stream",
     "text": [
      "CrossEntropyLoss train 0.7382160179770073\n",
      "CrossEntropyLoss validation 0.6885697515935846\n",
      "Validation accuracy: 77.67521367521367\n",
      "Epoch number is 16\n"
     ]
    },
    {
     "name": "stderr",
     "output_type": "stream",
     "text": [
      " 40%|████      | 16/40 [1:00:50<1:32:36, 231.53s/it]"
     ]
    },
    {
     "name": "stdout",
     "output_type": "stream",
     "text": [
      "CrossEntropyLoss train 0.7048684520697271\n",
      "CrossEntropyLoss validation 0.6875658812092953\n",
      "Validation accuracy: 78.52991452991454\n",
      "Epoch number is 17\n"
     ]
    },
    {
     "name": "stderr",
     "output_type": "stream",
     "text": [
      " 42%|████▎     | 17/40 [1:04:38<1:28:18, 230.35s/it]"
     ]
    },
    {
     "name": "stdout",
     "output_type": "stream",
     "text": [
      "CrossEntropyLoss train 0.683874221266927\n",
      "CrossEntropyLoss validation 0.6530825558011649\n",
      "Validation accuracy: 78.5982905982906\n",
      "Epoch number is 18\n"
     ]
    },
    {
     "name": "stderr",
     "output_type": "stream",
     "text": [
      " 45%|████▌     | 18/40 [1:08:36<1:25:23, 232.89s/it]"
     ]
    },
    {
     "name": "stdout",
     "output_type": "stream",
     "text": [
      "CrossEntropyLoss train 0.6703542043782167\n",
      "CrossEntropyLoss validation 0.6431099827823743\n",
      "Validation accuracy: 79.45299145299145\n",
      "Epoch number is 19\n"
     ]
    },
    {
     "name": "stderr",
     "output_type": "stream",
     "text": [
      " 48%|████▊     | 19/40 [1:12:28<1:21:25, 232.66s/it]"
     ]
    },
    {
     "name": "stdout",
     "output_type": "stream",
     "text": [
      "CrossEntropyLoss train 0.64677105390945\n",
      "CrossEntropyLoss validation 0.671828394175553\n",
      "Validation accuracy: 79.55555555555556\n",
      "Epoch number is 20\n"
     ]
    },
    {
     "name": "stderr",
     "output_type": "stream",
     "text": [
      " 50%|█████     | 20/40 [1:16:23<1:17:46, 233.33s/it]"
     ]
    },
    {
     "name": "stdout",
     "output_type": "stream",
     "text": [
      "CrossEntropyLoss train 0.6312263534605704\n",
      "CrossEntropyLoss validation 0.6210318518588778\n",
      "Validation accuracy: 81.26495726495726\n",
      "Epoch number is 21\n"
     ]
    },
    {
     "name": "stderr",
     "output_type": "stream",
     "text": [
      " 52%|█████▎    | 21/40 [1:20:18<1:14:02, 233.84s/it]"
     ]
    },
    {
     "name": "stdout",
     "output_type": "stream",
     "text": [
      "CrossEntropyLoss train 0.6060658866740964\n",
      "CrossEntropyLoss validation 0.627501206523408\n",
      "Validation accuracy: 79.72649572649573\n",
      "Epoch number is 22\n"
     ]
    },
    {
     "name": "stderr",
     "output_type": "stream",
     "text": [
      " 55%|█████▌    | 22/40 [1:24:14<1:10:17, 234.33s/it]"
     ]
    },
    {
     "name": "stdout",
     "output_type": "stream",
     "text": [
      "CrossEntropyLoss train 0.5835634763478428\n",
      "CrossEntropyLoss validation 0.6154405764543294\n",
      "Validation accuracy: 80.88888888888889\n",
      "Epoch number is 23\n"
     ]
    },
    {
     "name": "stderr",
     "output_type": "stream",
     "text": [
      " 57%|█████▊    | 23/40 [1:28:02<1:05:51, 232.45s/it]"
     ]
    },
    {
     "name": "stdout",
     "output_type": "stream",
     "text": [
      "CrossEntropyLoss train 0.5639751017773272\n",
      "CrossEntropyLoss validation 0.6396034659176576\n",
      "Validation accuracy: 80.34188034188034\n",
      "Epoch number is 24\n"
     ]
    },
    {
     "name": "stderr",
     "output_type": "stream",
     "text": [
      " 60%|██████    | 24/40 [1:31:48<1:01:26, 230.42s/it]"
     ]
    },
    {
     "name": "stdout",
     "output_type": "stream",
     "text": [
      "CrossEntropyLoss train 0.5631716901411277\n",
      "CrossEntropyLoss validation 0.5855540329478478\n",
      "Validation accuracy: 82.05128205128206\n",
      "Epoch number is 25\n"
     ]
    },
    {
     "name": "stderr",
     "output_type": "stream",
     "text": [
      " 62%|██████▎   | 25/40 [1:35:39<57:39, 230.66s/it]  "
     ]
    },
    {
     "name": "stdout",
     "output_type": "stream",
     "text": [
      "CrossEntropyLoss train 0.5279080960647883\n",
      "CrossEntropyLoss validation 0.6596478416986479\n",
      "Validation accuracy: 80.58119658119658\n",
      "Epoch number is 26\n"
     ]
    },
    {
     "name": "stderr",
     "output_type": "stream",
     "text": [
      " 65%|██████▌   | 26/40 [1:39:18<53:02, 227.34s/it]"
     ]
    },
    {
     "name": "stdout",
     "output_type": "stream",
     "text": [
      "CrossEntropyLoss train 0.5316507716763865\n",
      "CrossEntropyLoss validation 0.5486102308772627\n",
      "Validation accuracy: 83.21367521367522\n",
      "Epoch number is 27\n"
     ]
    },
    {
     "name": "stderr",
     "output_type": "stream",
     "text": [
      " 68%|██████▊   | 27/40 [1:42:58<48:45, 225.03s/it]"
     ]
    },
    {
     "name": "stdout",
     "output_type": "stream",
     "text": [
      "CrossEntropyLoss train 0.5127219240105635\n",
      "CrossEntropyLoss validation 0.5876647480280022\n",
      "Validation accuracy: 82.15384615384616\n",
      "Epoch number is 28\n"
     ]
    },
    {
     "name": "stderr",
     "output_type": "stream",
     "text": [
      " 70%|███████   | 28/40 [1:46:43<44:59, 225.00s/it]"
     ]
    },
    {
     "name": "stdout",
     "output_type": "stream",
     "text": [
      "CrossEntropyLoss train 0.5007229730600139\n",
      "CrossEntropyLoss validation 0.5407423038503837\n",
      "Validation accuracy: 83.7948717948718\n",
      "Epoch number is 29\n"
     ]
    },
    {
     "name": "stderr",
     "output_type": "stream",
     "text": [
      " 72%|███████▎  | 29/40 [1:50:38<41:46, 227.88s/it]"
     ]
    },
    {
     "name": "stdout",
     "output_type": "stream",
     "text": [
      "CrossEntropyLoss train 0.4823429977263299\n",
      "CrossEntropyLoss validation 0.5835623574224326\n",
      "Validation accuracy: 81.77777777777777\n",
      "Epoch number is 30\n"
     ]
    },
    {
     "name": "stderr",
     "output_type": "stream",
     "text": [
      " 75%|███████▌  | 30/40 [1:54:40<38:41, 232.16s/it]"
     ]
    },
    {
     "name": "stdout",
     "output_type": "stream",
     "text": [
      "CrossEntropyLoss train 0.4751819448948309\n",
      "CrossEntropyLoss validation 0.5866084706872865\n",
      "Validation accuracy: 81.53846153846153\n",
      "Epoch number is 31\n"
     ]
    },
    {
     "name": "stderr",
     "output_type": "stream",
     "text": [
      " 78%|███████▊  | 31/40 [1:58:27<34:37, 230.81s/it]"
     ]
    },
    {
     "name": "stdout",
     "output_type": "stream",
     "text": [
      "CrossEntropyLoss train 0.45639820956322996\n",
      "CrossEntropyLoss validation 0.5429001788664711\n",
      "Validation accuracy: 83.11111111111111\n",
      "Epoch number is 32\n"
     ]
    },
    {
     "name": "stderr",
     "output_type": "stream",
     "text": [
      " 80%|████████  | 32/40 [2:02:12<30:31, 228.92s/it]"
     ]
    },
    {
     "name": "stdout",
     "output_type": "stream",
     "text": [
      "CrossEntropyLoss train 0.458783272556281\n",
      "CrossEntropyLoss validation 0.5644327492906096\n",
      "Validation accuracy: 83.48717948717949\n",
      "Epoch number is 33\n"
     ]
    },
    {
     "name": "stderr",
     "output_type": "stream",
     "text": [
      " 82%|████████▎ | 33/40 [2:06:01<26:43, 229.09s/it]"
     ]
    },
    {
     "name": "stdout",
     "output_type": "stream",
     "text": [
      "CrossEntropyLoss train 0.44986049186853644\n",
      "CrossEntropyLoss validation 0.6338961265696202\n",
      "Validation accuracy: 81.05982905982906\n",
      "Epoch number is 34\n"
     ]
    },
    {
     "name": "stderr",
     "output_type": "stream",
     "text": [
      " 85%|████████▌ | 34/40 [2:09:49<22:51, 228.56s/it]"
     ]
    },
    {
     "name": "stdout",
     "output_type": "stream",
     "text": [
      "CrossEntropyLoss train 0.4283713453096917\n",
      "CrossEntropyLoss validation 0.5830495903889338\n",
      "Validation accuracy: 82.73504273504274\n",
      "Epoch number is 35\n"
     ]
    },
    {
     "name": "stderr",
     "output_type": "stream",
     "text": [
      " 88%|████████▊ | 35/40 [2:13:28<18:49, 225.81s/it]"
     ]
    },
    {
     "name": "stdout",
     "output_type": "stream",
     "text": [
      "CrossEntropyLoss train 0.40880167365665676\n",
      "CrossEntropyLoss validation 0.5524947692238079\n",
      "Validation accuracy: 83.58974358974359\n",
      "Epoch number is 36\n"
     ]
    },
    {
     "name": "stderr",
     "output_type": "stream",
     "text": [
      " 90%|█████████ | 36/40 [2:17:03<14:50, 222.61s/it]"
     ]
    },
    {
     "name": "stdout",
     "output_type": "stream",
     "text": [
      "CrossEntropyLoss train 0.402748137872943\n",
      "CrossEntropyLoss validation 0.5606240997996812\n",
      "Validation accuracy: 84.1025641025641\n",
      "Epoch number is 37\n"
     ]
    },
    {
     "name": "stderr",
     "output_type": "stream",
     "text": [
      " 92%|█████████▎| 37/40 [2:20:49<11:10, 223.49s/it]"
     ]
    },
    {
     "name": "stdout",
     "output_type": "stream",
     "text": [
      "CrossEntropyLoss train 0.3924359713706213\n",
      "CrossEntropyLoss validation 0.5624200498349354\n",
      "Validation accuracy: 83.52136752136752\n",
      "Epoch number is 38\n"
     ]
    },
    {
     "name": "stderr",
     "output_type": "stream",
     "text": [
      " 95%|█████████▌| 38/40 [2:24:31<07:26, 223.03s/it]"
     ]
    },
    {
     "name": "stdout",
     "output_type": "stream",
     "text": [
      "CrossEntropyLoss train 0.3824908471590764\n",
      "CrossEntropyLoss validation 0.5225937020013242\n",
      "Validation accuracy: 84.64957264957265\n",
      "Epoch number is 39\n"
     ]
    },
    {
     "name": "stderr",
     "output_type": "stream",
     "text": [
      " 98%|█████████▊| 39/40 [2:28:12<03:42, 222.50s/it]"
     ]
    },
    {
     "name": "stdout",
     "output_type": "stream",
     "text": [
      "CrossEntropyLoss train 0.3735511050987485\n",
      "CrossEntropyLoss validation 0.5751027145570582\n",
      "Validation accuracy: 83.28205128205128\n",
      "Epoch number is 40\n"
     ]
    },
    {
     "name": "stderr",
     "output_type": "stream",
     "text": [
      "100%|██████████| 40/40 [2:31:57<00:00, 227.93s/it]"
     ]
    },
    {
     "name": "stdout",
     "output_type": "stream",
     "text": [
      "CrossEntropyLoss train 0.37804204283433185\n",
      "CrossEntropyLoss validation 0.550716971581588\n",
      "Validation accuracy: 84.1025641025641\n"
     ]
    },
    {
     "name": "stderr",
     "output_type": "stream",
     "text": [
      "\n"
     ]
    },
    {
     "name": "stdout",
     "output_type": "stream",
     "text": [
      "Test accuracy: 84.1025641025641\n",
      "Test F1-score: tensor(189.2308)\n"
     ]
    }
   ],
   "source": [
    "learning.launch_epochs_calculations()"
   ]
  },
  {
   "cell_type": "code",
   "execution_count": 9,
   "id": "b2ecc023-fc77-4ff1-8deb-c303200f9b49",
   "metadata": {},
   "outputs": [],
   "source": [
    "model_path = 'efficientnet_b0_model_imagenette320'\n",
    "torch.save(model.state_dict(), model_path)"
   ]
  },
  {
   "cell_type": "code",
   "execution_count": 10,
   "id": "196bd66e-776f-4d7c-8ae1-79080b278c6d",
   "metadata": {},
   "outputs": [],
   "source": [
    "train_losses = learning.get_train_avg_loss()\n",
    "valid_losses = learning.get_valid_avg_loss()\n",
    "validation_accuracy = learning.get_valid_accuracy()"
   ]
  },
  {
   "cell_type": "code",
   "execution_count": 11,
   "id": "2a373435-6319-46cf-9662-948d86e2f11a",
   "metadata": {},
   "outputs": [
    {
     "data": {
      "image/png": "[encoded data removed]",
      "text/plain": [
       "<Figure size 576x360 with 1 Axes>"
      ]
     },
     "metadata": {
      "needs_background": "light"
     },
     "output_type": "display_data"
    }
   ],
   "source": [
    "learning.plot_losses(train_losses=train_losses, valid_losses=valid_losses,\n",
    "            fig_size_width=8, fig_size_height=5)"
   ]
  },
  {
   "cell_type": "code",
   "execution_count": 12,
   "id": "12cf5e69-82ac-43f2-adf6-3e0f49b68265",
   "metadata": {},
   "outputs": [
    {
     "data": {
      "image/png": "[encoded data removed]",
      "text/plain": [
       "<Figure size 576x360 with 1 Axes>"
      ]
     },
     "metadata": {
      "needs_background": "light"
     },
     "output_type": "display_data"
    }
   ],
   "source": [
    "learning.plot_accuracy(validation_accuracy=validation_accuracy,\n",
    "              fig_size_width=8, fig_size_height=5)"
   ]
  },
  {
   "cell_type": "code",
   "execution_count": 13,
   "id": "d0afa20d-6b58-41f7-8aed-c2973d7190d5",
   "metadata": {},
   "outputs": [
    {
     "ename": "TypeError",
     "evalue": "'NoneType' object is not subscriptable",
     "output_type": "error",
     "traceback": [
      "\u001b[0;31m---------------------------------------------------------------------------\u001b[0m",
      "\u001b[0;31mTypeError\u001b[0m                                 Traceback (most recent call last)",
      "\u001b[0;32m/tmp/ipykernel_35291/2642095750.py\u001b[0m in \u001b[0;36m<module>\u001b[0;34m\u001b[0m\n\u001b[0;32m----> 1\u001b[0;31m \u001b[0mlearning\u001b[0m\u001b[0;34m.\u001b[0m\u001b[0mpredict_image\u001b[0m\u001b[0;34m(\u001b[0m\u001b[0mtest_dataset\u001b[0m\u001b[0;34m[\u001b[0m\u001b[0;36m200\u001b[0m\u001b[0;34m]\u001b[0m\u001b[0;34m[\u001b[0m\u001b[0;36m0\u001b[0m\u001b[0;34m]\u001b[0m\u001b[0;34m)\u001b[0m\u001b[0;34m\u001b[0m\u001b[0;34m\u001b[0m\u001b[0m\n\u001b[0m",
      "\u001b[0;32m/notebooks/22/model_learning.py\u001b[0m in \u001b[0;36mpredict_image\u001b[0;34m(self, img)\u001b[0m\n\u001b[1;32m    162\u001b[0m         \u001b[0m_\u001b[0m\u001b[0;34m,\u001b[0m \u001b[0mpreds\u001b[0m  \u001b[0;34m=\u001b[0m \u001b[0mtorch\u001b[0m\u001b[0;34m.\u001b[0m\u001b[0mmax\u001b[0m\u001b[0;34m(\u001b[0m\u001b[0myb\u001b[0m\u001b[0;34m,\u001b[0m \u001b[0mdim\u001b[0m\u001b[0;34m=\u001b[0m\u001b[0;36m1\u001b[0m\u001b[0;34m)\u001b[0m\u001b[0;34m\u001b[0m\u001b[0;34m\u001b[0m\u001b[0m\n\u001b[1;32m    163\u001b[0m \u001b[0;34m\u001b[0m\u001b[0m\n\u001b[0;32m--> 164\u001b[0;31m         \u001b[0mself\u001b[0m\u001b[0;34m.\u001b[0m\u001b[0mshow_sample\u001b[0m\u001b[0;34m(\u001b[0m\u001b[0mimg\u001b[0m\u001b[0;34m,\u001b[0m \u001b[0mtarget\u001b[0m\u001b[0;34m=\u001b[0m\u001b[0mself\u001b[0m\u001b[0;34m.\u001b[0m\u001b[0mtest_dataset\u001b[0m\u001b[0;34m.\u001b[0m\u001b[0mclasses\u001b[0m\u001b[0;34m[\u001b[0m\u001b[0mpreds\u001b[0m\u001b[0;34m[\u001b[0m\u001b[0;36m0\u001b[0m\u001b[0;34m]\u001b[0m\u001b[0;34m.\u001b[0m\u001b[0mitem\u001b[0m\u001b[0;34m(\u001b[0m\u001b[0;34m)\u001b[0m\u001b[0;34m]\u001b[0m\u001b[0;34m)\u001b[0m\u001b[0;34m\u001b[0m\u001b[0;34m\u001b[0m\u001b[0m\n\u001b[0m\u001b[1;32m    165\u001b[0m \u001b[0;34m\u001b[0m\u001b[0m\n",
      "\u001b[0;31mTypeError\u001b[0m: 'NoneType' object is not subscriptable"
     ]
    }
   ],
   "source": [
    "learning.predict_image(test_dataset[200][0])"
   ]
  },
  {
   "cell_type": "code",
   "execution_count": null,
   "id": "6bbb550b-210b-494c-839f-91ab094b8bd7",
   "metadata": {},
   "outputs": [],
   "source": []
  }
 ],
 "metadata": {
  "kernelspec": {
   "display_name": "Python 3 (ipykernel)",
   "language": "python",
   "name": "python3"
  },
  "language_info": {
   "codemirror_mode": {
    "name": "ipython",
    "version": 3
   },
   "file_extension": ".py",
   "mimetype": "text/x-python",
   "name": "python",
   "nbconvert_exporter": "python",
   "pygments_lexer": "ipython3",
   "version": "3.8.10"
  }
 },
 "nbformat": 4,
 "nbformat_minor": 5
}
