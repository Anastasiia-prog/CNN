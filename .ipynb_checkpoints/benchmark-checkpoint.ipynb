{
 "cells": [
  {
   "cell_type": "code",
   "execution_count": 13,
   "id": "b73bc000-1f61-4858-b49e-f7d83f1a8300",
   "metadata": {},
   "outputs": [],
   "source": [
    "import timeit\n",
    "import torch\n",
    "from torch import nn"
   ]
  },
  {
   "cell_type": "code",
   "execution_count": 2,
   "id": "7e5ac487-fc61-4d88-a88c-e2ff4689a7df",
   "metadata": {},
   "outputs": [
    {
     "data": {
      "text/plain": [
       "'\\nCheck speed/memory torch operations on gpu.\\nConv2d VS depthwise + pointwise VS grouped\\nwith different batch_size / in_channels / hw / kernel_size\\n'"
      ]
     },
     "execution_count": 2,
     "metadata": {},
     "output_type": "execute_result"
    }
   ],
   "source": [
    "'''\n",
    "Check speed/memory torch operations on gpu.\n",
    "Conv2d VS depthwise + pointwise VS grouped\n",
    "with different batch_size / in_channels / hw / kernel_size\n",
    "'''"
   ]
  },
  {
   "cell_type": "code",
   "execution_count": 3,
   "id": "63b7ef23-9093-4f57-894b-6806e4c124e7",
   "metadata": {},
   "outputs": [],
   "source": [
    "# the best for memory\n",
    "# torch.backends.cudnn.deterministic=True"
   ]
  },
  {
   "cell_type": "code",
   "execution_count": 4,
   "id": "af9f5fd1-6fea-47f0-9e60-00d59651aaf3",
   "metadata": {},
   "outputs": [],
   "source": [
    "# the best for speed\n",
    "# torch.backends.cudnn.benchmark=True"
   ]
  },
  {
   "cell_type": "code",
   "execution_count": 7,
   "id": "2c849a19-4a3c-4d99-b26b-c6d86d935dbf",
   "metadata": {},
   "outputs": [],
   "source": [
    "class SeparableConv2d(nn.Module):\n",
    "    ''' depthwise + pointwise\n",
    "        depthwise \n",
    "        groups=in_channels, out_channels = kernel_size * in_channels '''\n",
    "\n",
    "    def __init__(self, in_channels, out_channels, kernel_size, bias=False):\n",
    "        super().__init__()\n",
    "        self.depthwise = nn.Conv2d(in_channels, in_channels, kernel_size=kernel_size, \n",
    "                                   groups=in_channels, bias=bias, padding=1)\n",
    "        self.pointwise = nn.Conv2d(in_channels, out_channels, \n",
    "                                   kernel_size=1, bias=bias)\n",
    "\n",
    "    def forward(self, x):\n",
    "        out = self.depthwise(x)\n",
    "        out = self.pointwise(out)\n",
    "        return out"
   ]
  },
  {
   "cell_type": "code",
   "execution_count": 8,
   "id": "3aa9f45d-bd66-4f3e-a121-58a494d9e5c5",
   "metadata": {},
   "outputs": [],
   "source": [
    "def benchmark(in_channels, out_channels, kernel_size, groups, H, W, batch_size, conv_type=None):\n",
    "    device = \"cuda:0\" if torch.cuda.is_available() else \"cpu\"\n",
    "    \n",
    "    start = torch.cuda.Event(enable_timing=True)\n",
    "    end = torch.cuda.Event(enable_timing=True)\n",
    "    \n",
    "    start.record()\n",
    "    if conv_type == 'depth':\n",
    "        conv = SeparableConv2d(in_channels=in_channels, out_channels=out_channels, kernel_size=kernel_size)\n",
    "    else:\n",
    "        conv = nn.Conv2d(in_channels=in_channels, out_channels=out_channels, kernel_size=kernel_size, groups=groups)\n",
    "    \n",
    "    xs = torch.rand((batch_size, in_channels, H, W))\n",
    "\n",
    "    conv.to(device)\n",
    "    \n",
    "    print('parameters:', sum(param.numel() for param in conv.parameters()))\n",
    "    \n",
    "    xs = xs.to(device)\n",
    "    xs.requires_grad = True\n",
    "    \n",
    "    ys = conv(xs)\n",
    "\n",
    "    mb = 1024 * 1024\n",
    "\n",
    "    print('forward, gpu memory:', torch.cuda.memory_allocated()/mb, 'Mb')\n",
    "    \n",
    "    ys.backward(torch.ones_like(ys))\n",
    "    end.record()\n",
    "    print('backward, gpu memory:', torch.cuda.memory_allocated()/mb, 'Mb')\n",
    "    print('backward, gpu memory (max):', torch.cuda.max_memory_allocated()/mb, 'Mb')\n",
    "    \n",
    "    torch.cuda.synchronize()\n",
    "    print('Execution time:', start.elapsed_time(end) / 1000, 'sec')\n"
   ]
  },
  {
   "cell_type": "code",
   "execution_count": 21,
   "id": "d5d8f886-d945-480c-b43e-84e0a58b4d5d",
   "metadata": {},
   "outputs": [],
   "source": [
    "def check_benchmark(in_channels, out_channels, kernel_size, H, W, batch_size):\n",
    "    \n",
    "    # usual convolution\n",
    "    print('in_channels =', in_channels, 'out_channels =', out_channels, 'kernel_size =', kernel_size, 'H =', H, 'W =', W, 'batch_size =', batch_size)\n",
    "    print()\n",
    "    print('Usual convolution')\n",
    "    print()\n",
    "    benchmark(in_channels=in_channels, out_channels=out_channels, kernel_size=kernel_size, groups=1, H=H, W=W, batch_size=batch_size)\n",
    "    print()\n",
    "    print('depthwise + pointwise convolution')\n",
    "    print()\n",
    "    benchmark(in_channels=in_channels, out_channels=out_channels, kernel_size=kernel_size, groups=groups, H=H, W=W, batch_size=batch_size, conv_type='depth')\n",
    "    print()\n",
    "    # grouped\n",
    "    print('grouped convolution')\n",
    "    print()\n",
    "    benchmark(in_channels=in_channels, out_channels=out_channels, kernel_size=kernel_size, groups=groups, H=H, W=W, batch_size=batch_size)"
   ]
  },
  {
   "cell_type": "code",
   "execution_count": 24,
   "id": "394ca52a-019a-4a35-8620-4f2bd670c04a",
   "metadata": {},
   "outputs": [],
   "source": [
    "in_channels = [16, 32]\n",
    "out_channels = 256\n",
    "kernel_size = [3, 5]\n",
    "groups = 4\n",
    "H = [160, 224]\n",
    "W = [160, 224]\n",
    "batch_size = [8, 16]"
   ]
  },
  {
   "cell_type": "code",
   "execution_count": 25,
   "id": "b430357e-1fe8-4c4d-aeb1-363ffd509c82",
   "metadata": {},
   "outputs": [
    {
     "name": "stdout",
     "output_type": "stream",
     "text": [
      "in_channels = 16 out_channels = 256 kernel_size = 3 H = 160 W = 160 batch_size = 8\n",
      "\n",
      "Usual convolution\n",
      "\n",
      "parameters: 37120\n",
      "forward, gpu memory: 207.6728515625 Mb\n",
      "backward, gpu memory: 220.314453125 Mb\n",
      "backward, gpu memory (max): 3566.70703125 Mb\n",
      "Execution time: 0.044849151611328124 sec\n",
      "\n",
      "depthwise + pointwise convolution\n",
      "\n",
      "parameters: 4240\n",
      "forward, gpu memory: 225.0166015625 Mb\n",
      "backward, gpu memory: 225.033203125 Mb\n",
      "backward, gpu memory (max): 3566.70703125 Mb\n",
      "Execution time: 0.03440534210205078 sec\n",
      "\n",
      "grouped convolution\n",
      "\n",
      "parameters: 9472\n",
      "forward, gpu memory: 207.5673828125 Mb\n",
      "backward, gpu memory: 220.103515625 Mb\n",
      "backward, gpu memory (max): 3566.70703125 Mb\n",
      "Execution time: 0.03783747100830078 sec\n"
     ]
    }
   ],
   "source": [
    "check_benchmark(in_channels[0], out_channels, kernel_size[0], H[0], W[0], batch_size[0])"
   ]
  },
  {
   "cell_type": "code",
   "execution_count": 26,
   "id": "d04f8878-81a7-48f6-afe1-23825658ef7c",
   "metadata": {},
   "outputs": [
    {
     "name": "stdout",
     "output_type": "stream",
     "text": [
      "in_channels = 32 out_channels = 256 kernel_size = 3 H = 160 W = 160 batch_size = 8\n",
      "\n",
      "Usual convolution\n",
      "\n",
      "parameters: 73984\n",
      "forward, gpu memory: 220.3134765625 Mb\n",
      "backward, gpu memory: 245.595703125 Mb\n",
      "backward, gpu memory (max): 3566.70703125 Mb\n",
      "Execution time: 0.08809017944335938 sec\n",
      "\n",
      "depthwise + pointwise convolution\n",
      "\n",
      "parameters: 8480\n",
      "forward, gpu memory: 250.03271484375 Mb\n",
      "backward, gpu memory: 250.0654296875 Mb\n",
      "backward, gpu memory (max): 3566.70703125 Mb\n",
      "Execution time: 0.07118029022216797 sec\n",
      "\n",
      "grouped convolution\n",
      "\n",
      "parameters: 18688\n",
      "forward, gpu memory: 220.1025390625 Mb\n",
      "backward, gpu memory: 245.173828125 Mb\n",
      "backward, gpu memory (max): 3566.70703125 Mb\n",
      "Execution time: 0.06709410858154297 sec\n"
     ]
    }
   ],
   "source": [
    "check_benchmark(in_channels[1], out_channels, kernel_size[0], H[0], W[0], batch_size[0])"
   ]
  },
  {
   "cell_type": "code",
   "execution_count": 27,
   "id": "ac548f55-4a10-4f82-b095-5136f20a1a71",
   "metadata": {},
   "outputs": [
    {
     "name": "stdout",
     "output_type": "stream",
     "text": [
      "in_channels = 32 out_channels = 256 kernel_size = 5 H = 160 W = 160 batch_size = 8\n",
      "\n",
      "Usual convolution\n",
      "\n",
      "parameters: 205056\n",
      "forward, gpu memory: 215.9072265625 Mb\n",
      "backward, gpu memory: 241.689453125 Mb\n",
      "backward, gpu memory (max): 3566.70703125 Mb\n",
      "Execution time: 0.08014546966552734 sec\n",
      "\n",
      "depthwise + pointwise convolution\n",
      "\n",
      "parameters: 8992\n",
      "forward, gpu memory: 244.44482421875 Mb\n",
      "backward, gpu memory: 245.1005859375 Mb\n",
      "backward, gpu memory (max): 3566.70703125 Mb\n",
      "Execution time: 0.06526604461669921 sec\n",
      "\n",
      "grouped convolution\n",
      "\n",
      "parameters: 51456\n",
      "forward, gpu memory: 215.3212890625 Mb\n",
      "backward, gpu memory: 240.517578125 Mb\n",
      "backward, gpu memory (max): 3566.70703125 Mb\n",
      "Execution time: 0.11503616333007813 sec\n"
     ]
    }
   ],
   "source": [
    "check_benchmark(in_channels[1], out_channels, kernel_size[1], H[0], W[0], batch_size[0])"
   ]
  },
  {
   "cell_type": "code",
   "execution_count": 28,
   "id": "e58ffd4c-4169-4ff1-9301-74f3b06a2448",
   "metadata": {},
   "outputs": [
    {
     "name": "stdout",
     "output_type": "stream",
     "text": [
      "in_channels = 32 out_channels = 256 kernel_size = 5 H = 224 W = 224 batch_size = 8\n",
      "\n",
      "Usual convolution\n",
      "\n",
      "parameters: 205056\n",
      "forward, gpu memory: 427.9072265625 Mb\n",
      "backward, gpu memory: 477.689453125 Mb\n",
      "backward, gpu memory (max): 3566.70703125 Mb\n",
      "Execution time: 0.19270005798339843 sec\n",
      "\n",
      "depthwise + pointwise convolution\n",
      "\n",
      "parameters: 8992\n",
      "forward, gpu memory: 483.06591796875 Mb\n",
      "backward, gpu memory: 483.1005859375 Mb\n",
      "backward, gpu memory (max): 3566.70703125 Mb\n",
      "Execution time: 0.14364035034179687 sec\n",
      "\n",
      "grouped convolution\n",
      "\n",
      "parameters: 51456\n",
      "forward, gpu memory: 427.3212890625 Mb\n",
      "backward, gpu memory: 476.517578125 Mb\n",
      "backward, gpu memory (max): 3566.70703125 Mb\n",
      "Execution time: 0.24001741027832033 sec\n"
     ]
    }
   ],
   "source": [
    "check_benchmark(in_channels[1], out_channels, kernel_size[1], H[1], W[1], batch_size[0])"
   ]
  },
  {
   "cell_type": "code",
   "execution_count": 29,
   "id": "2161752e-178b-4eba-80bc-e4676f536e6e",
   "metadata": {},
   "outputs": [
    {
     "name": "stdout",
     "output_type": "stream",
     "text": [
      "in_channels = 32 out_channels = 256 kernel_size = 5 H = 224 W = 224 batch_size = 16\n",
      "\n",
      "Usual convolution\n",
      "\n",
      "parameters: 205056\n",
      "forward, gpu memory: 855.0322265625 Mb\n",
      "backward, gpu memory: 953.814453125 Mb\n",
      "backward, gpu memory (max): 3566.70703125 Mb\n",
      "Execution time: 0.3881612548828125 sec\n",
      "\n",
      "depthwise + pointwise convolution\n",
      "\n",
      "parameters: 8992\n",
      "forward, gpu memory: 964.35498046875 Mb\n",
      "backward, gpu memory: 966.1318359375 Mb\n",
      "backward, gpu memory (max): 3566.70703125 Mb\n",
      "Execution time: 0.21024520874023436 sec\n",
      "\n",
      "grouped convolution\n",
      "\n",
      "parameters: 51456\n",
      "forward, gpu memory: 854.4462890625 Mb\n",
      "backward, gpu memory: 952.642578125 Mb\n",
      "backward, gpu memory (max): 3566.70703125 Mb\n",
      "Execution time: 0.23246234130859375 sec\n"
     ]
    }
   ],
   "source": [
    "check_benchmark(in_channels[1], out_channels, kernel_size[1], H[1], W[1], batch_size[1])"
   ]
  }
 ],
 "metadata": {
  "kernelspec": {
   "display_name": "Python 3 (ipykernel)",
   "language": "python",
   "name": "python3"
  },
  "language_info": {
   "codemirror_mode": {
    "name": "ipython",
    "version": 3
   },
   "file_extension": ".py",
   "mimetype": "text/x-python",
   "name": "python",
   "nbconvert_exporter": "python",
   "pygments_lexer": "ipython3",
   "version": "3.8.10"
  }
 },
 "nbformat": 4,
 "nbformat_minor": 5
}
