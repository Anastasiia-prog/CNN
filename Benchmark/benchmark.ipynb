{
 "cells": [
  {
   "cell_type": "code",
   "execution_count": 1,
   "id": "43773169-db42-46cc-a90d-12e89902ecd9",
   "metadata": {},
   "outputs": [
    {
     "name": "stdout",
     "output_type": "stream",
     "text": [
      "env: CUDA_VISIBLE_DEVICES=3\n"
     ]
    }
   ],
   "source": [
    "%load_ext autoreload\n",
    "%autoreload 2\n",
    "%env CUDA_VISIBLE_DEVICES = 3"
   ]
  },
  {
   "cell_type": "code",
   "execution_count": 4,
   "id": "25d2c3ce-d130-460c-ab61-9a0f74fe18a3",
   "metadata": {},
   "outputs": [
    {
     "ename": "ImportError",
     "evalue": "cannot import name 'make_initialization_inputs' from 'batchflow.utils' (/opt/conda/lib/python3.8/site-packages/batchflow/utils.py)",
     "output_type": "error",
     "traceback": [
      "\u001b[0;31m---------------------------------------------------------------------------\u001b[0m",
      "\u001b[0;31mImportError\u001b[0m                               Traceback (most recent call last)",
      "\u001b[0;32m/tmp/ipykernel_8677/512883582.py\u001b[0m in \u001b[0;36m<module>\u001b[0;34m\u001b[0m\n\u001b[0;32m----> 1\u001b[0;31m \u001b[0;32mfrom\u001b[0m \u001b[0mbatchflow\u001b[0m\u001b[0;34m.\u001b[0m\u001b[0mutils\u001b[0m \u001b[0;32mimport\u001b[0m \u001b[0mmake_initialization_inputs\u001b[0m\u001b[0;34m\u001b[0m\u001b[0;34m\u001b[0m\u001b[0m\n\u001b[0m",
      "\u001b[0;31mImportError\u001b[0m: cannot import name 'make_initialization_inputs' from 'batchflow.utils' (/opt/conda/lib/python3.8/site-packages/batchflow/utils.py)"
     ]
    }
   ],
   "source": [
    "from batchflow.batchflow.utils import make_initialization_inputs"
   ]
  },
  {
   "cell_type": "code",
   "execution_count": 2,
   "id": "203bfcbd-d1ff-4de2-8cd4-6bfd39e287a0",
   "metadata": {},
   "outputs": [
    {
     "ename": "ImportError",
     "evalue": "cannot import name 'make_initialization_inputs' from 'batchflow.utils' (/opt/conda/lib/python3.8/site-packages/batchflow/utils.py)",
     "output_type": "error",
     "traceback": [
      "\u001b[0;31m---------------------------------------------------------------------------\u001b[0m",
      "\u001b[0;31mImportError\u001b[0m                               Traceback (most recent call last)",
      "\u001b[0;32m/tmp/ipykernel_8677/759324377.py\u001b[0m in \u001b[0;36m<module>\u001b[0;34m\u001b[0m\n\u001b[1;32m      2\u001b[0m \u001b[0;32mimport\u001b[0m \u001b[0mtorch\u001b[0m\u001b[0;34m.\u001b[0m\u001b[0mnn\u001b[0m \u001b[0;32mas\u001b[0m \u001b[0mnn\u001b[0m\u001b[0;34m\u001b[0m\u001b[0;34m\u001b[0m\u001b[0m\n\u001b[1;32m      3\u001b[0m \u001b[0;34m\u001b[0m\u001b[0m\n\u001b[0;32m----> 4\u001b[0;31m \u001b[0;32mfrom\u001b[0m \u001b[0mbenchmark\u001b[0m \u001b[0;32mimport\u001b[0m \u001b[0mget_module_performance\u001b[0m\u001b[0;34m\u001b[0m\u001b[0;34m\u001b[0m\u001b[0m\n\u001b[0m\u001b[1;32m      5\u001b[0m \u001b[0;34m\u001b[0m\u001b[0m\n\u001b[1;32m      6\u001b[0m \u001b[0mpd\u001b[0m\u001b[0;34m.\u001b[0m\u001b[0mset_option\u001b[0m\u001b[0;34m(\u001b[0m\u001b[0;34m\"display.precision\"\u001b[0m\u001b[0;34m,\u001b[0m \u001b[0;36m2\u001b[0m\u001b[0;34m)\u001b[0m\u001b[0;34m\u001b[0m\u001b[0;34m\u001b[0m\u001b[0m\n",
      "\u001b[0;32m/notebooks/22/CNN/Benchmark/benchmark.py\u001b[0m in \u001b[0;36m<module>\u001b[0;34m\u001b[0m\n\u001b[1;32m      7\u001b[0m     \u001b[0mptflops\u001b[0m \u001b[0;34m=\u001b[0m \u001b[0;32mNone\u001b[0m\u001b[0;34m\u001b[0m\u001b[0;34m\u001b[0m\u001b[0m\n\u001b[1;32m      8\u001b[0m \u001b[0mptflops\u001b[0m \u001b[0;34m=\u001b[0m \u001b[0;32mNone\u001b[0m\u001b[0;34m\u001b[0m\u001b[0;34m\u001b[0m\u001b[0m\n\u001b[0;32m----> 9\u001b[0;31m \u001b[0;32mfrom\u001b[0m \u001b[0mbatchflow\u001b[0m\u001b[0;34m.\u001b[0m\u001b[0mutils\u001b[0m \u001b[0;32mimport\u001b[0m \u001b[0mmake_initialization_inputs\u001b[0m\u001b[0;34m\u001b[0m\u001b[0;34m\u001b[0m\u001b[0m\n\u001b[0m\u001b[1;32m     10\u001b[0m \u001b[0;34m\u001b[0m\u001b[0m\n\u001b[1;32m     11\u001b[0m \u001b[0;31m# Different units for memory representation\u001b[0m\u001b[0;34m\u001b[0m\u001b[0;34m\u001b[0m\u001b[0;34m\u001b[0m\u001b[0m\n",
      "\u001b[0;31mImportError\u001b[0m: cannot import name 'make_initialization_inputs' from 'batchflow.utils' (/opt/conda/lib/python3.8/site-packages/batchflow/utils.py)"
     ]
    }
   ],
   "source": [
    "import pandas as pd\n",
    "import torch.nn as nn\n",
    "\n",
    "from benchmark import get_module_performance\n",
    "\n",
    "pd.set_option(\"display.precision\", 2)"
   ]
  },
  {
   "cell_type": "code",
   "execution_count": null,
   "id": "974d13dc-dafe-43ad-97d5-3e463b7a73ff",
   "metadata": {},
   "outputs": [],
   "source": [
    "device = 'cuda:0'\n",
    "device"
   ]
  },
  {
   "cell_type": "code",
   "execution_count": null,
   "id": "fb5f6be5-d8a6-4ba7-afb1-97e97399e42a",
   "metadata": {},
   "outputs": [],
   "source": [
    "shape = (1, 64, 128, 128)\n",
    "\n",
    "module_collection = {'conv_64_512_1x1': nn.Conv2d(kernel_size=1, in_channels=64, out_channels=512), \n",
    "                     'conv_64_512_3x3': nn.Conv2d(kernel_size=3, in_channels=64, out_channels=512), \n",
    "                     'bottleneck_64_512_3x3': nn.Sequential(*[nn.Conv2d(kernel_size=1, in_channels=64, out_channels=32), \n",
    "                                                             nn.Conv2d(kernel_size=3, in_channels=32, out_channels=512),\n",
    "                                                              ]),\n",
    "                      'conv_64_512_3x3_g2': nn.Conv2d(kernel_size=7, in_channels=64, out_channels=512, groups=2),\n",
    "                      'conv_64_512_3x3_g8': nn.Conv2d(kernel_size=7, in_channels=64, out_channels=512, groups=8),\n",
    "                      'conv_padding': nn.Conv2d(kernel_size=3, in_channels=64, out_channels=512, padding=1),\n",
    "                      'conv_nn_Padding': nn.Sequential(nn.ZeroPad2d(1),\n",
    "                                                       nn.Conv2d(kernel_size=3, in_channels=64, out_channels=512))\n",
    "                    }"
   ]
  },
  {
   "cell_type": "code",
   "execution_count": null,
   "id": "91812498-ec3c-48f5-86d8-fcb705879999",
   "metadata": {},
   "outputs": [],
   "source": [
    "# contiguous\n",
    "module_collection_stats = pd.DataFrame(index=module_collection.keys(), \n",
    "                                       columns=['forward time mean(ms)', 'forward time std(ms)',\n",
    "                                                'backward time mean(ms)', 'backward time std(ms)',\n",
    "                                                'forward memory','backward memory',\n",
    "                                                'macs', 'parameters', 'time total(ms)'])\n",
    "        \n",
    "for module_name, module_value in module_collection.items():\n",
    "    module_collection_stats.loc[module_name] = get_module_performance(module_value, inputs=shape, device=device, \n",
    "                                                               track_backward=True, memory_unit='KB')\n",
    "\n",
    "module_collection_stats"
   ]
  },
  {
   "cell_type": "code",
   "execution_count": null,
   "id": "56ea6c82-a10f-4a48-973a-c04b0da6a11a",
   "metadata": {},
   "outputs": [],
   "source": [
    "# channels last\n",
    "module_collection_stats = pd.DataFrame(index=module_collection.keys(), \n",
    "                                       columns=['forward time mean(ms)', 'forward time std(ms)',\n",
    "                                                'backward time mean(ms)', 'backward time std(ms)',\n",
    "                                                'forward memory','backward memory',\n",
    "                                                'macs', 'parameters','time total(ms)'])\n",
    "        \n",
    "for module_name, module_value in module_collection.items():\n",
    "    module_collection_stats.loc[module_name] = get_module_performance(module_value, inputs=shape, device=device,\n",
    "                                                               track_backward=True, channels_last=True, memory_unit='MB')\n",
    "\n",
    "module_collection_stats"
   ]
  },
  {
   "cell_type": "code",
   "execution_count": null,
   "id": "9d7f7a6c-482e-42ac-96ce-8d8fc6fcc9b5",
   "metadata": {},
   "outputs": [],
   "source": [
    "# amp\n",
    "module_collection_stats = pd.DataFrame(index=module_collection.keys(), \n",
    "                                       columns=['forward time mean(ms)', 'forward time std(ms)',\n",
    "                                                'backward time mean(ms)', 'backward time std(ms)',\n",
    "                                                'forward memory','backward memory',\n",
    "                                                'macs', 'parameters','time total(ms)'])\n",
    "        \n",
    "for module_name, module_value in module_collection.items():\n",
    "    module_collection_stats.loc[module_name] = get_module_performance(module_value, inputs=shape, device=device,\n",
    "                                                               track_backward=True, amp=True, memory_unit='GB')\n",
    "\n",
    "module_collection_stats"
   ]
  },
  {
   "cell_type": "code",
   "execution_count": null,
   "id": "2fd80adf-a3c0-4873-8fbf-fee0e82420df",
   "metadata": {},
   "outputs": [],
   "source": [
    "# amp + channels last\n",
    "module_collection_stats = pd.DataFrame(index=module_collection.keys(), \n",
    "                                       columns=['forward time mean(ms)', 'forward time std(ms)',\n",
    "                                                'backward time mean(ms)', 'backward time std(ms)',\n",
    "                                                'forward memory','backward memory',\n",
    "                                                'macs', 'parameters','time total(ms)'])\n",
    "        \n",
    "for module_name, module_value in module_collection.items():\n",
    "    module_collection_stats.loc[module_name] = get_module_performance(module_value, inputs=shape, device=device,\n",
    "                                                               track_backward=True, channels_last=True, amp=True, memory_unit='B')\n",
    "\n",
    "module_collection_stats"
   ]
  }
 ],
 "metadata": {
  "kernelspec": {
   "display_name": "Python 3 (ipykernel)",
   "language": "python",
   "name": "python3"
  },
  "language_info": {
   "codemirror_mode": {
    "name": "ipython",
    "version": 3
   },
   "file_extension": ".py",
   "mimetype": "text/x-python",
   "name": "python",
   "nbconvert_exporter": "python",
   "pygments_lexer": "ipython3",
   "version": "3.8.10"
  }
 },
 "nbformat": 4,
 "nbformat_minor": 5
}
