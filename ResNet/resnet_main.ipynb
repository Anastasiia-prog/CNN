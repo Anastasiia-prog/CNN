{
 "cells": [
  {
   "cell_type": "code",
   "execution_count": null,
   "id": "0ee90296-283f-4be2-b2ca-f3fbda090237",
   "metadata": {},
   "outputs": [],
   "source": [
    "from torchvision import datasets\n",
    "from torch.utils.data import DataLoader, random_split\n",
    "from torchvision import transforms as T\n",
    "import torch.nn.functional as F\n",
    "from torch.optim import SGD, Adam\n",
    "from torch import nn\n",
    "import torch\n",
    "import os\n",
    "from tqdm import tqdm\n",
    "import matplotlib.pyplot as plt\n",
    "import tarfile\n",
    "from torchvision.datasets.utils import download_url\n",
    "import numpy as np\n",
    "from imagenette_ds import load_imagenette\n",
    "from resblock import ResNetNN\n",
    "from SEBlock import SE_Block\n",
    "from model_learning import Training_valid_testing_model"
   ]
  },
  {
   "cell_type": "code",
   "execution_count": null,
   "id": "6bf78375-6184-4431-9f77-28fbd4e7c2c8",
   "metadata": {},
   "outputs": [],
   "source": [
    "train_loader, val_loader, test_loader, test_dataset = load_imagenette()"
   ]
  },
  {
   "cell_type": "code",
   "execution_count": null,
   "id": "032551fd-026a-4dbb-a0da-99685664a077",
   "metadata": {},
   "outputs": [],
   "source": [
    "%load_ext autoreload\n",
    "%env CUDA_VISIBLE_DEVICES = '2'"
   ]
  },
  {
   "cell_type": "code",
   "execution_count": null,
   "id": "2504cc53-5180-46b9-9c2f-17c456720f16",
   "metadata": {},
   "outputs": [],
   "source": [
    "device = torch.device('cuda:2' if torch.cuda.is_available() else 'cpu')"
   ]
  },
  {
   "cell_type": "code",
   "execution_count": null,
   "id": "ec126333-e6d7-4260-9f83-66dc473edc28",
   "metadata": {},
   "outputs": [],
   "source": [
    "model = ResNetNN(num_classes=10, resnet_number=50)\n",
    "model = model.to(device)\n",
    "num_epochs = 35\n",
    "learning_rate = 0.001\n",
    "loss_function = nn.CrossEntropyLoss()\n",
    "optimizer = Adam(params=model.parameters(), lr=learning_rate)"
   ]
  },
  {
   "cell_type": "code",
   "execution_count": null,
   "id": "3f7a1e35-a22b-4ea8-b2e5-b8d093ced1b7",
   "metadata": {},
   "outputs": [],
   "source": [
    "model_learning = Training_valid_testing_model(model=model, loss_function=loss_function,\n",
    "                                              optimizer=optimizer, num_epochs=num_epochs, train_loader=train_loader,\n",
    "                                              val_loader=val_loader, test_loader=test_loader, test_dataset=test_dataset,\n",
    "                                              device=device)"
   ]
  },
  {
   "cell_type": "code",
   "execution_count": null,
   "id": "37350360-f738-48fe-878a-e056b1a99c41",
   "metadata": {},
   "outputs": [],
   "source": [
    "model_learning.launch_epochs_calculations()"
   ]
  },
  {
   "cell_type": "code",
   "execution_count": null,
   "id": "7809c8d0-5df0-466b-ad68-e38c8c546f94",
   "metadata": {},
   "outputs": [],
   "source": [
    "model_path = 'resnet_model_imagenette320'\n",
    "torch.save(model.state_dict(), model_path)"
   ]
  },
  {
   "cell_type": "code",
   "execution_count": null,
   "id": "4ffd0cce-ab09-4370-8e77-3a140c3d38da",
   "metadata": {},
   "outputs": [],
   "source": [
    "model_learning.predict_image(test_dataset[5][0])"
   ]
  },
  {
   "cell_type": "code",
   "execution_count": null,
   "id": "d807f3bf-b434-460f-b742-8838a1293d30",
   "metadata": {},
   "outputs": [],
   "source": []
  }
 ],
 "metadata": {
  "kernelspec": {
   "display_name": "Python 3 (ipykernel)",
   "language": "python",
   "name": "python3"
  },
  "language_info": {
   "codemirror_mode": {
    "name": "ipython",
    "version": 3
   },
   "file_extension": ".py",
   "mimetype": "text/x-python",
   "name": "python",
   "nbconvert_exporter": "python",
   "pygments_lexer": "ipython3",
   "version": "3.8.10"
  }
 },
 "nbformat": 4,
 "nbformat_minor": 5
}
