{
 "cells": [
  {
   "cell_type": "code",
   "execution_count": 1,
   "id": "0ee90296-283f-4be2-b2ca-f3fbda090237",
   "metadata": {},
   "outputs": [],
   "source": [
    "from torchvision import datasets\n",
    "import torchvision\n",
    "from torch.utils.data import DataLoader, random_split\n",
    "from torchvision import transforms as T\n",
    "import torch.nn.functional as F\n",
    "from torch.optim import SGD, Adam\n",
    "from torch import nn\n",
    "import torch\n",
    "import os\n",
    "from tqdm import tqdm\n",
    "import matplotlib.pyplot as plt\n",
    "import tarfile\n",
    "from torchvision.datasets.utils import download_url\n",
    "import numpy as np\n",
    "from imagenette_ds import load_imagenette\n",
    "from resblock import ResNetNN\n",
    "from SEBlock import SE_Block\n",
    "from model_learning import Training_valid_testing_model"
   ]
  },
  {
   "cell_type": "code",
   "execution_count": 2,
   "id": "6bf78375-6184-4431-9f77-28fbd4e7c2c8",
   "metadata": {},
   "outputs": [],
   "source": [
    "train_loader, val_loader, test_loader, test_dataset = load_imagenette()"
   ]
  },
  {
   "cell_type": "code",
   "execution_count": 3,
   "id": "032551fd-026a-4dbb-a0da-99685664a077",
   "metadata": {},
   "outputs": [
    {
     "name": "stdout",
     "output_type": "stream",
     "text": [
      "env: CUDA_VISIBLE_DEVICES='2'\n"
     ]
    }
   ],
   "source": [
    "%load_ext autoreload\n",
    "%env CUDA_VISIBLE_DEVICES = '2'"
   ]
  },
  {
   "cell_type": "code",
   "execution_count": 4,
   "id": "2504cc53-5180-46b9-9c2f-17c456720f16",
   "metadata": {},
   "outputs": [],
   "source": [
    "device = torch.device('cuda:2' if torch.cuda.is_available() else 'cpu')"
   ]
  },
  {
   "cell_type": "code",
   "execution_count": 5,
   "id": "ec126333-e6d7-4260-9f83-66dc473edc28",
   "metadata": {},
   "outputs": [],
   "source": [
    "model = ResNetNN(resnet_number=34, num_classes=10, start_channels=3)\n",
    "model = model.to(device)\n",
    "num_epochs = 35\n",
    "learning_rate = 0.001\n",
    "loss_function = nn.CrossEntropyLoss()\n",
    "optimizer = Adam(params=model.parameters(), lr=learning_rate)"
   ]
  },
  {
   "cell_type": "code",
   "execution_count": 6,
   "id": "6a8e3e5f-26b9-4484-b7de-02592d492053",
   "metadata": {},
   "outputs": [
    {
     "name": "stdout",
     "output_type": "stream",
     "text": [
      "parameters: 21451894\n"
     ]
    }
   ],
   "source": [
    "print('parameters:', sum(param.numel() for param in model.parameters()))"
   ]
  },
  {
   "cell_type": "code",
   "execution_count": 7,
   "id": "59a9f090-cdc0-42b1-b0a1-c4f56f13c2fd",
   "metadata": {},
   "outputs": [
    {
     "name": "stdout",
     "output_type": "stream",
     "text": [
      "model (from pytorch) parameters: 21797672\n"
     ]
    }
   ],
   "source": [
    "model_source = torchvision.models.resnet34()\n",
    "print('model (from pytorch) parameters:', sum(param.numel() for param in model_source.parameters()))"
   ]
  },
  {
   "cell_type": "code",
   "execution_count": 8,
   "id": "3f7a1e35-a22b-4ea8-b2e5-b8d093ced1b7",
   "metadata": {},
   "outputs": [],
   "source": [
    "learning = Training_valid_testing_model(model=model, loss_function=loss_function,\n",
    "                                        optimizer=optimizer, num_epochs=num_epochs, train_loader=train_loader,\n",
    "                                        val_loader=val_loader, test_loader=test_loader, test_dataset=test_dataset,\n",
    "                                        device=device)"
   ]
  },
  {
   "cell_type": "code",
   "execution_count": 9,
   "id": "37350360-f738-48fe-878a-e056b1a99c41",
   "metadata": {
    "tags": []
   },
   "outputs": [
    {
     "name": "stderr",
     "output_type": "stream",
     "text": [
      "  0%|          | 0/35 [00:00<?, ?it/s]"
     ]
    },
    {
     "name": "stdout",
     "output_type": "stream",
     "text": [
      "Epoch number is 1\n"
     ]
    },
    {
     "name": "stderr",
     "output_type": "stream",
     "text": [
      "  3%|▎         | 1/35 [03:25<1:56:15, 205.16s/it]"
     ]
    },
    {
     "name": "stdout",
     "output_type": "stream",
     "text": [
      "CrossEntropyLoss train 1.9806186194355424\n",
      "CrossEntropyLoss validation 1.804133511957575\n",
      "Validation accuracy: 35.82905982905983\n",
      "Epoch number is 2\n"
     ]
    },
    {
     "name": "stderr",
     "output_type": "stream",
     "text": [
      "  6%|▌         | 2/35 [06:43<1:50:45, 201.38s/it]"
     ]
    },
    {
     "name": "stdout",
     "output_type": "stream",
     "text": [
      "CrossEntropyLoss train 1.684337714838015\n",
      "CrossEntropyLoss validation 1.5094425691281512\n",
      "Validation accuracy: 49.26495726495727\n",
      "Epoch number is 3\n"
     ]
    },
    {
     "name": "stderr",
     "output_type": "stream",
     "text": [
      "  9%|▊         | 3/35 [09:56<1:45:20, 197.51s/it]"
     ]
    },
    {
     "name": "stdout",
     "output_type": "stream",
     "text": [
      "CrossEntropyLoss train 1.46635235513787\n",
      "CrossEntropyLoss validation 1.3268722771295434\n",
      "Validation accuracy: 55.00854700854701\n",
      "Epoch number is 4\n"
     ]
    },
    {
     "name": "stderr",
     "output_type": "stream",
     "text": [
      " 11%|█▏        | 4/35 [13:19<1:43:08, 199.62s/it]"
     ]
    },
    {
     "name": "stdout",
     "output_type": "stream",
     "text": [
      "CrossEntropyLoss train 1.2994407807048913\n",
      "CrossEntropyLoss validation 1.1179654663377772\n",
      "Validation accuracy: 63.35042735042735\n",
      "Epoch number is 5\n"
     ]
    },
    {
     "name": "stderr",
     "output_type": "stream",
     "text": [
      " 14%|█▍        | 5/35 [16:23<1:37:02, 194.09s/it]"
     ]
    },
    {
     "name": "stdout",
     "output_type": "stream",
     "text": [
      "CrossEntropyLoss train 1.1701758342316828\n",
      "CrossEntropyLoss validation 1.1528830612943473\n",
      "Validation accuracy: 63.38461538461539\n",
      "Epoch number is 6\n"
     ]
    },
    {
     "name": "stderr",
     "output_type": "stream",
     "text": [
      " 17%|█▋        | 6/35 [19:27<1:32:09, 190.66s/it]"
     ]
    },
    {
     "name": "stdout",
     "output_type": "stream",
     "text": [
      "CrossEntropyLoss train 1.0780336378091895\n",
      "CrossEntropyLoss validation 0.9980538054242161\n",
      "Validation accuracy: 67.35042735042735\n",
      "Epoch number is 7\n"
     ]
    },
    {
     "name": "stderr",
     "output_type": "stream",
     "text": [
      " 20%|██        | 7/35 [22:32<1:28:04, 188.72s/it]"
     ]
    },
    {
     "name": "stdout",
     "output_type": "stream",
     "text": [
      "CrossEntropyLoss train 1.0060258710102454\n",
      "CrossEntropyLoss validation 0.9189512913670045\n",
      "Validation accuracy: 70.42735042735043\n",
      "Epoch number is 8\n"
     ]
    },
    {
     "name": "stderr",
     "output_type": "stream",
     "text": [
      " 23%|██▎       | 8/35 [25:49<1:26:04, 191.30s/it]"
     ]
    },
    {
     "name": "stdout",
     "output_type": "stream",
     "text": [
      "CrossEntropyLoss train 0.9326997167254621\n",
      "CrossEntropyLoss validation 1.012570242738463\n",
      "Validation accuracy: 67.93162393162393\n",
      "Epoch number is 9\n"
     ]
    },
    {
     "name": "stderr",
     "output_type": "stream",
     "text": [
      " 26%|██▌       | 9/35 [28:53<1:21:53, 188.97s/it]"
     ]
    },
    {
     "name": "stdout",
     "output_type": "stream",
     "text": [
      "CrossEntropyLoss train 0.87574866524822\n",
      "CrossEntropyLoss validation 0.8705847851239918\n",
      "Validation accuracy: 72.51282051282051\n",
      "Epoch number is 10\n"
     ]
    },
    {
     "name": "stderr",
     "output_type": "stream",
     "text": [
      " 29%|██▊       | 10/35 [31:58<1:18:13, 187.74s/it]"
     ]
    },
    {
     "name": "stdout",
     "output_type": "stream",
     "text": [
      "CrossEntropyLoss train 0.83083564956748\n",
      "CrossEntropyLoss validation 0.8923130768244384\n",
      "Validation accuracy: 72.0\n",
      "Epoch number is 11\n"
     ]
    },
    {
     "name": "stderr",
     "output_type": "stream",
     "text": [
      " 31%|███▏      | 11/35 [35:15<1:16:12, 190.50s/it]"
     ]
    },
    {
     "name": "stdout",
     "output_type": "stream",
     "text": [
      "CrossEntropyLoss train 0.7980167754246174\n",
      "CrossEntropyLoss validation 0.8427461359670253\n",
      "Validation accuracy: 73.88034188034187\n",
      "Epoch number is 12\n"
     ]
    },
    {
     "name": "stderr",
     "output_type": "stream",
     "text": [
      " 34%|███▍      | 12/35 [38:25<1:12:58, 190.36s/it]"
     ]
    },
    {
     "name": "stdout",
     "output_type": "stream",
     "text": [
      "CrossEntropyLoss train 0.7575318382650211\n",
      "CrossEntropyLoss validation 0.8972149685920914\n",
      "Validation accuracy: 72.75213675213675\n",
      "Epoch number is 13\n"
     ]
    },
    {
     "name": "stderr",
     "output_type": "stream",
     "text": [
      " 37%|███▋      | 13/35 [41:37<1:09:58, 190.86s/it]"
     ]
    },
    {
     "name": "stdout",
     "output_type": "stream",
     "text": [
      "CrossEntropyLoss train 0.719791762883196\n",
      "CrossEntropyLoss validation 0.8089727644549042\n",
      "Validation accuracy: 74.4957264957265\n",
      "Epoch number is 14\n"
     ]
    },
    {
     "name": "stderr",
     "output_type": "stream",
     "text": [
      " 40%|████      | 14/35 [44:50<1:07:05, 191.71s/it]"
     ]
    },
    {
     "name": "stdout",
     "output_type": "stream",
     "text": [
      "CrossEntropyLoss train 0.6834423057860821\n",
      "CrossEntropyLoss validation 0.807545654190694\n",
      "Validation accuracy: 74.56410256410257\n",
      "Epoch number is 15\n"
     ]
    },
    {
     "name": "stderr",
     "output_type": "stream",
     "text": [
      " 43%|████▎     | 15/35 [48:04<1:04:05, 192.28s/it]"
     ]
    },
    {
     "name": "stdout",
     "output_type": "stream",
     "text": [
      "CrossEntropyLoss train 0.6472973799257463\n",
      "CrossEntropyLoss validation 0.7291549014263465\n",
      "Validation accuracy: 77.4017094017094\n",
      "Epoch number is 16\n"
     ]
    },
    {
     "name": "stderr",
     "output_type": "stream",
     "text": [
      " 46%|████▌     | 16/35 [51:14<1:00:41, 191.67s/it]"
     ]
    },
    {
     "name": "stdout",
     "output_type": "stream",
     "text": [
      "CrossEntropyLoss train 0.6103265741462441\n",
      "CrossEntropyLoss validation 0.8350733328875297\n",
      "Validation accuracy: 74.46153846153847\n",
      "Epoch number is 17\n"
     ]
    },
    {
     "name": "stderr",
     "output_type": "stream",
     "text": [
      " 49%|████▊     | 17/35 [54:24<57:22, 191.26s/it]  "
     ]
    },
    {
     "name": "stdout",
     "output_type": "stream",
     "text": [
      "CrossEntropyLoss train 0.593102825352469\n",
      "CrossEntropyLoss validation 0.7440810192966721\n",
      "Validation accuracy: 76.85470085470085\n",
      "Epoch number is 18\n"
     ]
    },
    {
     "name": "stderr",
     "output_type": "stream",
     "text": [
      " 51%|█████▏    | 18/35 [57:41<54:38, 192.88s/it]"
     ]
    },
    {
     "name": "stdout",
     "output_type": "stream",
     "text": [
      "CrossEntropyLoss train 0.5487765996918283\n",
      "CrossEntropyLoss validation 0.8269440955151626\n",
      "Validation accuracy: 75.6923076923077\n",
      "Epoch number is 19\n"
     ]
    },
    {
     "name": "stderr",
     "output_type": "stream",
     "text": [
      " 54%|█████▍    | 19/35 [1:00:47<50:54, 190.89s/it]"
     ]
    },
    {
     "name": "stdout",
     "output_type": "stream",
     "text": [
      "CrossEntropyLoss train 0.5415630821591696\n",
      "CrossEntropyLoss validation 0.6956314877734158\n",
      "Validation accuracy: 79.38461538461539\n",
      "Epoch number is 20\n"
     ]
    },
    {
     "name": "stderr",
     "output_type": "stream",
     "text": [
      " 57%|█████▋    | 20/35 [1:03:58<47:40, 190.68s/it]"
     ]
    },
    {
     "name": "stdout",
     "output_type": "stream",
     "text": [
      "CrossEntropyLoss train 0.5018257789338965\n",
      "CrossEntropyLoss validation 0.682997236323487\n",
      "Validation accuracy: 79.41880341880342\n",
      "Epoch number is 21\n"
     ]
    },
    {
     "name": "stderr",
     "output_type": "stream",
     "text": [
      " 60%|██████    | 21/35 [1:07:11<44:40, 191.44s/it]"
     ]
    },
    {
     "name": "stdout",
     "output_type": "stream",
     "text": [
      "CrossEntropyLoss train 0.4766329628214039\n",
      "CrossEntropyLoss validation 0.7818465724668867\n",
      "Validation accuracy: 77.23076923076923\n",
      "Epoch number is 22\n"
     ]
    },
    {
     "name": "stderr",
     "output_type": "stream",
     "text": [
      " 63%|██████▎   | 22/35 [1:10:26<41:44, 192.62s/it]"
     ]
    },
    {
     "name": "stdout",
     "output_type": "stream",
     "text": [
      "CrossEntropyLoss train 0.443880500618016\n",
      "CrossEntropyLoss validation 0.6879083662003768\n",
      "Validation accuracy: 79.48717948717949\n",
      "Epoch number is 23\n"
     ]
    },
    {
     "name": "stderr",
     "output_type": "stream",
     "text": [
      " 66%|██████▌   | 23/35 [1:13:32<38:08, 190.73s/it]"
     ]
    },
    {
     "name": "stdout",
     "output_type": "stream",
     "text": [
      "CrossEntropyLoss train 0.4402947616543168\n",
      "CrossEntropyLoss validation 0.7579014821619284\n",
      "Validation accuracy: 77.2991452991453\n",
      "Epoch number is 24\n"
     ]
    },
    {
     "name": "stderr",
     "output_type": "stream",
     "text": [
      " 69%|██████▊   | 24/35 [1:16:53<35:28, 193.54s/it]"
     ]
    },
    {
     "name": "stdout",
     "output_type": "stream",
     "text": [
      "CrossEntropyLoss train 0.398116567905212\n",
      "CrossEntropyLoss validation 0.6864068861948988\n",
      "Validation accuracy: 80.2051282051282\n",
      "Epoch number is 25\n"
     ]
    },
    {
     "name": "stderr",
     "output_type": "stream",
     "text": [
      " 71%|███████▏  | 25/35 [1:20:02<32:04, 192.42s/it]"
     ]
    },
    {
     "name": "stdout",
     "output_type": "stream",
     "text": [
      "CrossEntropyLoss train 0.3884415682767065\n",
      "CrossEntropyLoss validation 0.6804258212691447\n",
      "Validation accuracy: 80.44444444444444\n",
      "Epoch number is 26\n"
     ]
    },
    {
     "name": "stderr",
     "output_type": "stream",
     "text": [
      " 74%|███████▍  | 26/35 [1:23:07<28:30, 190.05s/it]"
     ]
    },
    {
     "name": "stdout",
     "output_type": "stream",
     "text": [
      "CrossEntropyLoss train 0.3698807504355303\n",
      "CrossEntropyLoss validation 0.7276008348565935\n",
      "Validation accuracy: 79.7948717948718\n",
      "Epoch number is 27\n"
     ]
    },
    {
     "name": "stderr",
     "output_type": "stream",
     "text": [
      " 77%|███████▋  | 27/35 [1:26:15<25:14, 189.32s/it]"
     ]
    },
    {
     "name": "stdout",
     "output_type": "stream",
     "text": [
      "CrossEntropyLoss train 0.35863106672626893\n",
      "CrossEntropyLoss validation 0.6329210383278099\n",
      "Validation accuracy: 81.33333333333333\n",
      "Epoch number is 28\n"
     ]
    },
    {
     "name": "stderr",
     "output_type": "stream",
     "text": [
      " 80%|████████  | 28/35 [1:29:27<22:11, 190.28s/it]"
     ]
    },
    {
     "name": "stdout",
     "output_type": "stream",
     "text": [
      "CrossEntropyLoss train 0.33348187634318666\n",
      "CrossEntropyLoss validation 0.6915586929300118\n",
      "Validation accuracy: 80.3076923076923\n",
      "Epoch number is 29\n"
     ]
    },
    {
     "name": "stderr",
     "output_type": "stream",
     "text": [
      " 83%|████████▎ | 29/35 [1:32:34<18:56, 189.35s/it]"
     ]
    },
    {
     "name": "stdout",
     "output_type": "stream",
     "text": [
      "CrossEntropyLoss train 0.30282094665154863\n",
      "CrossEntropyLoss validation 0.7656588410256339\n",
      "Validation accuracy: 78.76923076923077\n",
      "Epoch number is 30\n"
     ]
    },
    {
     "name": "stderr",
     "output_type": "stream",
     "text": [
      " 86%|████████▌ | 30/35 [1:36:01<16:12, 194.58s/it]"
     ]
    },
    {
     "name": "stdout",
     "output_type": "stream",
     "text": [
      "CrossEntropyLoss train 0.31156781791690485\n",
      "CrossEntropyLoss validation 0.685120846852253\n",
      "Validation accuracy: 80.92307692307692\n",
      "Epoch number is 31\n"
     ]
    },
    {
     "name": "stderr",
     "output_type": "stream",
     "text": [
      " 89%|████████▊ | 31/35 [1:39:03<12:43, 190.92s/it]"
     ]
    },
    {
     "name": "stdout",
     "output_type": "stream",
     "text": [
      "CrossEntropyLoss train 0.30177108640546557\n",
      "CrossEntropyLoss validation 0.6661658750368598\n",
      "Validation accuracy: 81.2991452991453\n",
      "Epoch number is 32\n"
     ]
    },
    {
     "name": "stderr",
     "output_type": "stream",
     "text": [
      " 91%|█████████▏| 32/35 [1:42:10<09:28, 189.48s/it]"
     ]
    },
    {
     "name": "stdout",
     "output_type": "stream",
     "text": [
      "CrossEntropyLoss train 0.2769132946441705\n",
      "CrossEntropyLoss validation 0.6640616261955005\n",
      "Validation accuracy: 81.57264957264957\n",
      "Epoch number is 33\n"
     ]
    },
    {
     "name": "stderr",
     "output_type": "stream",
     "text": [
      " 94%|█████████▍| 33/35 [1:45:11<06:14, 187.06s/it]"
     ]
    },
    {
     "name": "stdout",
     "output_type": "stream",
     "text": [
      "CrossEntropyLoss train 0.24220872827887385\n",
      "CrossEntropyLoss validation 0.7066039418180784\n",
      "Validation accuracy: 81.33333333333333\n",
      "Epoch number is 34\n"
     ]
    },
    {
     "name": "stderr",
     "output_type": "stream",
     "text": [
      " 97%|█████████▋| 34/35 [1:48:14<03:05, 185.78s/it]"
     ]
    },
    {
     "name": "stdout",
     "output_type": "stream",
     "text": [
      "CrossEntropyLoss train 0.2529349036835688\n",
      "CrossEntropyLoss validation 0.7123799099500387\n",
      "Validation accuracy: 81.05982905982906\n",
      "Epoch number is 35\n"
     ]
    },
    {
     "name": "stderr",
     "output_type": "stream",
     "text": [
      "100%|██████████| 35/35 [1:51:17<00:00, 190.78s/it]"
     ]
    },
    {
     "name": "stdout",
     "output_type": "stream",
     "text": [
      "CrossEntropyLoss train 0.24634023177723802\n",
      "CrossEntropyLoss validation 0.74771616894935\n",
      "Validation accuracy: 80.41025641025641\n"
     ]
    },
    {
     "name": "stderr",
     "output_type": "stream",
     "text": [
      "\n"
     ]
    },
    {
     "name": "stdout",
     "output_type": "stream",
     "text": [
      "Test accuracy: 80.41025641025641\n",
      "Test F1-score: tensor(180.9231)\n"
     ]
    }
   ],
   "source": [
    "learning.launch_epochs_calculations()"
   ]
  },
  {
   "cell_type": "code",
   "execution_count": 10,
   "id": "7809c8d0-5df0-466b-ad68-e38c8c546f94",
   "metadata": {},
   "outputs": [],
   "source": [
    "model_path = 'resnet34_model_imagenette320'\n",
    "torch.save(model.state_dict(), model_path)"
   ]
  },
  {
   "cell_type": "code",
   "execution_count": 11,
   "id": "d7f7c29a-1f9b-4499-b85a-9484acf7e2af",
   "metadata": {},
   "outputs": [],
   "source": [
    "train_losses = learning.get_train_avg_loss()\n",
    "valid_losses = learning.get_valid_avg_loss()\n",
    "validation_accuracy = learning.get_valid_accuracy()"
   ]
  },
  {
   "cell_type": "code",
   "execution_count": 14,
   "id": "77de5eea-c0b8-4d25-a5d5-41c50d161a76",
   "metadata": {},
   "outputs": [
    {
     "data": {
      "image/png": "[encoded data removed]",
      "text/plain": [
       "<Figure size 576x360 with 1 Axes>"
      ]
     },
     "metadata": {
      "needs_background": "light"
     },
     "output_type": "display_data"
    }
   ],
   "source": [
    "learning.plot_losses(train_losses=train_losses, valid_losses=valid_losses,\n",
    "            fig_size_width=8, fig_size_height=5)"
   ]
  },
  {
   "cell_type": "code",
   "execution_count": 15,
   "id": "e4cf7292-4cd8-4659-8d1e-f81058dfbc66",
   "metadata": {},
   "outputs": [
    {
     "data": {
      "image/png": "[encoded data removed]",
      "text/plain": [
       "<Figure size 576x360 with 1 Axes>"
      ]
     },
     "metadata": {
      "needs_background": "light"
     },
     "output_type": "display_data"
    }
   ],
   "source": [
    "learning.plot_accuracy(validation_accuracy=validation_accuracy,\n",
    "              fig_size_width=8, fig_size_height=5)"
   ]
  },
  {
   "cell_type": "code",
   "execution_count": 18,
   "id": "4ffd0cce-ab09-4370-8e77-3a140c3d38da",
   "metadata": {},
   "outputs": [
    {
     "name": "stderr",
     "output_type": "stream",
     "text": [
      "Clipping input data to the valid range for imshow with RGB data ([0..1] for floats or [0..255] for integers).\n"
     ]
    },
    {
     "name": "stdout",
     "output_type": "stream",
     "text": [
      "Labels: golf ball\n"
     ]
    },
    {
     "data": {
      "image/png": "[encoded data removed]",
      "text/plain": [
       "<Figure size 432x288 with 1 Axes>"
      ]
     },
     "metadata": {
      "needs_background": "light"
     },
     "output_type": "display_data"
    }
   ],
   "source": [
    "learning.predict_image(test_dataset[0][0])"
   ]
  },
  {
   "cell_type": "code",
   "execution_count": null,
   "id": "5031b0a0-e3ff-461b-b727-025ce75e7604",
   "metadata": {},
   "outputs": [],
   "source": []
  }
 ],
 "metadata": {
  "kernelspec": {
   "display_name": "Python 3 (ipykernel)",
   "language": "python",
   "name": "python3"
  },
  "language_info": {
   "codemirror_mode": {
    "name": "ipython",
    "version": 3
   },
   "file_extension": ".py",
   "mimetype": "text/x-python",
   "name": "python",
   "nbconvert_exporter": "python",
   "pygments_lexer": "ipython3",
   "version": "3.8.10"
  }
 },
 "nbformat": 4,
 "nbformat_minor": 5
}
