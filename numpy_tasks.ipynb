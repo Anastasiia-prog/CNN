{
 "cells": [
  {
   "cell_type": "code",
   "execution_count": 1,
   "id": "5799551a-5967-40a3-9c65-2c38edc2cd01",
   "metadata": {},
   "outputs": [],
   "source": [
    "import numpy as np\n",
    "from math import pi"
   ]
  },
  {
   "cell_type": "code",
   "execution_count": 2,
   "id": "ea3de50e-5d95-44e7-a7c8-693739ffd538",
   "metadata": {},
   "outputs": [
    {
     "data": {
      "text/plain": [
       "  C_CONTIGUOUS : True\n",
       "  F_CONTIGUOUS : True\n",
       "  OWNDATA : True\n",
       "  WRITEABLE : False\n",
       "  ALIGNED : True\n",
       "  WRITEBACKIFCOPY : False\n",
       "  UPDATEIFCOPY : False"
      ]
     },
     "execution_count": 2,
     "metadata": {},
     "output_type": "execute_result"
    }
   ],
   "source": [
    "# 1\n",
    "\n",
    "# 1. Создайте массив длины 10, заполненный нулями\n",
    "# 2. Сделайте полученный массив неизменяемым\n",
    "array = np.zeros(10)\n",
    "array.flags.writeable = False\n",
    "array.flags"
   ]
  },
  {
   "cell_type": "code",
   "execution_count": 3,
   "id": "161d98dc-734a-4b79-b777-006bc3fe8955",
   "metadata": {},
   "outputs": [
    {
     "data": {
      "text/plain": [
       "[array([[0.        , 1.57079633, 3.14159265, 4.71238898, 6.28318531],\n",
       "        [0.        , 1.57079633, 3.14159265, 4.71238898, 6.28318531],\n",
       "        [0.        , 1.57079633, 3.14159265, 4.71238898, 6.28318531],\n",
       "        [0.        , 1.57079633, 3.14159265, 4.71238898, 6.28318531],\n",
       "        [0.        , 1.57079633, 3.14159265, 4.71238898, 6.28318531]]),\n",
       " array([[1.00000000e+010, 1.00000000e+010, 1.00000000e+010,\n",
       "         1.00000000e+010, 1.00000000e+010],\n",
       "        [3.16227766e+032, 3.16227766e+032, 3.16227766e+032,\n",
       "         3.16227766e+032, 3.16227766e+032],\n",
       "        [1.00000000e+055, 1.00000000e+055, 1.00000000e+055,\n",
       "         1.00000000e+055, 1.00000000e+055],\n",
       "        [3.16227766e+077, 3.16227766e+077, 3.16227766e+077,\n",
       "         3.16227766e+077, 3.16227766e+077],\n",
       "        [1.00000000e+100, 1.00000000e+100, 1.00000000e+100,\n",
       "         1.00000000e+100, 1.00000000e+100]])]"
      ]
     },
     "execution_count": 3,
     "metadata": {},
     "output_type": "execute_result"
    }
   ],
   "source": [
    "# 2\n",
    "\n",
    "# 1. Создайте массив, содержащий 5 равноотстоящих точек, покрывающих диапазон от 0 до 2*pi\n",
    "# 2. Создайте массив, содержащий 5 равноотстоящих в логарифмическом масштабе точек, покрывающих диапазон от 10 до 100\n",
    "# 3. Составьте из полученных массивов координатную сеть (meshgrid)\n",
    "\n",
    "array1 = np.linspace(0, 2*pi, num=5)\n",
    "array2 = np.logspace(10, 100, num=5)\n",
    "\n",
    "np.meshgrid(array1, array2)"
   ]
  },
  {
   "cell_type": "code",
   "execution_count": 4,
   "id": "a497c00f-d14b-4179-a665-c11a841f919c",
   "metadata": {},
   "outputs": [
    {
     "data": {
      "text/plain": [
       "array([[0, 0, 0, 0, 0],\n",
       "       [1, 0, 0, 0, 0],\n",
       "       [0, 2, 0, 0, 0],\n",
       "       [0, 0, 3, 0, 0],\n",
       "       [0, 0, 0, 4, 0]])"
      ]
     },
     "execution_count": 4,
     "metadata": {},
     "output_type": "execute_result"
    }
   ],
   "source": [
    "# 3\n",
    "# Создайте двумерный массив 5х5 с элементами 1, 2, 3 и 4 под главной диагональю, остальные элементы заполните нулями\n",
    "\n",
    "np.diag([1, 2, 3, 4], -1)"
   ]
  },
  {
   "cell_type": "code",
   "execution_count": 5,
   "id": "8d3b7100-8923-48c6-8436-9822ee8b451d",
   "metadata": {},
   "outputs": [
    {
     "data": {
      "text/plain": [
       "array([0, 1, 2, 3, 4, 5, 6, 7, 8, 9])"
      ]
     },
     "execution_count": 5,
     "metadata": {},
     "output_type": "execute_result"
    }
   ],
   "source": [
    "# 4\n",
    "\n",
    "# 1. Создайте функцию-генератор, последовательно возвращающую целые числа от 0 до 9\n",
    "# 2. Создайте массив из построенного генератора\n",
    "\n",
    "def gen():\n",
    "    for i in range(10):\n",
    "        yield i \n",
    "        \n",
    "np.fromiter(gen(), int)"
   ]
  },
  {
   "cell_type": "code",
   "execution_count": 6,
   "id": "ba0b55bc-a951-4345-857d-202f18d6fd78",
   "metadata": {},
   "outputs": [],
   "source": [
    "# 5\n",
    "\n",
    "# Что будет выведено на экран?\n",
    "# a = np.arange(4).reshape(2,2)\n",
    "# a += 0.5\n",
    "# print(a)\n",
    "\n",
    "# Error (type a is int)"
   ]
  },
  {
   "cell_type": "code",
   "execution_count": 7,
   "id": "4786d8e4-73e2-4a01-9cb5-1b33ddc1181e",
   "metadata": {},
   "outputs": [],
   "source": [
    "# 6\n",
    "\n",
    "# Что будет выведено на экран?\n",
    "# a = np.array([1])\n",
    "# if a:\n",
    "  #  print(\"True\")\n",
    "# else:\n",
    " #   print(\"False\")\n",
    "\n",
    "# a = np.array([1, 2, 3])\n",
    "# if a:\n",
    "  #  print(\"True\")\n",
    "# else:\n",
    "  #  print(\"False\")\n",
    "    \n",
    "# True\n",
    "# Error (ambigious)"
   ]
  },
  {
   "cell_type": "code",
   "execution_count": 8,
   "id": "e78e5311-f698-4c4c-ba6d-375f7dca3449",
   "metadata": {},
   "outputs": [],
   "source": [
    "# 7\n",
    "\n",
    "\n",
    "# Что будет выведено на экран?\n",
    "# print(0 * np.nan)\n",
    "# print(np.nan - np.nan)\n",
    "# print(np.nan == np.nan)\n",
    "# print(np.nan is np.nan)\n",
    "# print(-np.inf < np.nan < np.inf)\n",
    "\n",
    "'''\n",
    "1. nan\n",
    "2. nan\n",
    "3. False\n",
    "4. True\n",
    "5. False \n",
    "''';"
   ]
  },
  {
   "cell_type": "code",
   "execution_count": 9,
   "id": "8c350e27-c404-428a-a3d2-6dfbf6e93739",
   "metadata": {},
   "outputs": [],
   "source": [
    "# 8\n",
    "\n",
    "# Что будет выведено на экран?\n",
    "# print(np.isnan(np.array([np.nan]).astype(np.int)))\n",
    "\n",
    "# array([False])"
   ]
  },
  {
   "cell_type": "code",
   "execution_count": 10,
   "id": "fde1d0eb-9a27-4257-9b64-8ff3139a2888",
   "metadata": {},
   "outputs": [
    {
     "data": {
      "text/plain": [
       "array([[ 0,  1,  2,  3,  4],\n",
       "       [10, 11, 12, 13, 14],\n",
       "       [20, 21, 22, 23, 24],\n",
       "       [30, 31, 32, 33, 34]])"
      ]
     },
     "execution_count": 10,
     "metadata": {},
     "output_type": "execute_result"
    }
   ],
   "source": [
    "# 9\n",
    "\n",
    "# 1. Создайте масив из четырех элементов: 0, 10, 20, 30\n",
    "# 2. Создайте двухмерный массив 4x5, в котором первый столбец - массив с шага 1, а каждый элемент каждой строки, начиная со второго,  \n",
    "# больше предыдущего элемента этой же строки на 1.\n",
    "\n",
    "array = np.array([0, 10, 20, 30]).reshape(4, 1)\n",
    "array + np.arange(5)"
   ]
  },
  {
   "cell_type": "code",
   "execution_count": 11,
   "id": "336319ba-931f-4312-9e7f-3d6a893e958e",
   "metadata": {},
   "outputs": [],
   "source": [
    "# 10\n",
    "\n",
    "# Какой shape будет у результата операции np.arange(5).reshape(1,-1) + np.arange(5).reshape(-1,1)?\n",
    "\n",
    "# shape(1, 5) + shape(5, 1) = shape(5, 5)"
   ]
  },
  {
   "cell_type": "code",
   "execution_count": 12,
   "id": "c74c55b8-bd96-4540-a6e4-42f74a4211af",
   "metadata": {},
   "outputs": [
    {
     "data": {
      "text/plain": [
       "array([[0., 1., 0., 1., 0., 1., 0., 1.],\n",
       "       [1., 0., 1., 0., 1., 0., 1., 0.],\n",
       "       [0., 1., 0., 1., 0., 1., 0., 1.],\n",
       "       [1., 0., 1., 0., 1., 0., 1., 0.],\n",
       "       [0., 1., 0., 1., 0., 1., 0., 1.],\n",
       "       [1., 0., 1., 0., 1., 0., 1., 0.],\n",
       "       [0., 1., 0., 1., 0., 1., 0., 1.],\n",
       "       [1., 0., 1., 0., 1., 0., 1., 0.]])"
      ]
     },
     "execution_count": 12,
     "metadata": {},
     "output_type": "execute_result"
    }
   ],
   "source": [
    "# 11\n",
    "\n",
    "# Создайте двумерный массив 8х8, заполненный 0 и 1 в шахматном порядке\n",
    "\n",
    "x = np.ones((8, 8))\n",
    "x[::2, ::2] = 0\n",
    "x[1::2, 1::2] = 0\n",
    "x"
   ]
  },
  {
   "cell_type": "code",
   "execution_count": 13,
   "id": "4de5dde0-872f-4c6f-b212-e4942989903a",
   "metadata": {},
   "outputs": [
    {
     "data": {
      "text/plain": [
       "array([1, 0, 2, 0, 3, 0, 4, 0, 5])"
      ]
     },
     "execution_count": 13,
     "metadata": {},
     "output_type": "execute_result"
    }
   ],
   "source": [
    "# 12\n",
    "\n",
    "# 1. Создайте одномерный массив целых чисел от 1 до 5\n",
    "# 2. Вставьте 0 между каждой парой соседних элементов\n",
    "\n",
    "array = np.arange(1, 6)\n",
    "size = array.shape[0]\n",
    "np.insert(array, np.repeat(np.arange(1, size), 1), 0)"
   ]
  },
  {
   "cell_type": "code",
   "execution_count": 14,
   "id": "ba11ec8d-5ece-43f0-9969-7d408683418a",
   "metadata": {},
   "outputs": [],
   "source": [
    "# 13\n",
    "\n",
    "# Что будет выведено на экран?\n",
    "# x = np.arange(36).reshape(2,3,2,3)\n",
    "# print(x[...,0,...])\n",
    "\n",
    "# error, because we can't have two ellipsis in this case"
   ]
  },
  {
   "cell_type": "code",
   "execution_count": 15,
   "id": "d3e654c7-6f7f-4d99-b9c8-fa1033707f7f",
   "metadata": {},
   "outputs": [
    {
     "name": "stdout",
     "output_type": "stream",
     "text": [
      "[[ 0  1  2  3]\n",
      " [ 4  5  6  7]\n",
      " [ 8  9 10 11]\n",
      " [12 13 14 15]]\n",
      "[[ 0  0  2  3]\n",
      " [ 0  0  6  7]\n",
      " [ 0  0 10 11]\n",
      " [ 0  0 14 15]]\n"
     ]
    }
   ],
   "source": [
    "# 14\n",
    "\n",
    "# Что будет выведено на экран?\n",
    "# x = np.arange(16).reshape(4,4)\n",
    "# y = x[:,[2,3]]\n",
    "# y[:] = 0\n",
    "# print(x)\n",
    "# y = x[:,:2]\n",
    "# y[:] = 0\n",
    "# print(x)\n",
    "\n",
    "x = np.arange(16).reshape(4,4)\n",
    "y = x[:, [2,3]]\n",
    "y[:] = 0\n",
    "print(x)\n",
    "y = x[:, :2]\n",
    "y[:] = 0\n",
    "print(x)"
   ]
  },
  {
   "cell_type": "code",
   "execution_count": 16,
   "id": "092712e4-81b1-4b07-9667-f801d052b546",
   "metadata": {},
   "outputs": [
    {
     "data": {
      "text/plain": [
       "array([0, 0, 5])"
      ]
     },
     "execution_count": 16,
     "metadata": {},
     "output_type": "execute_result"
    }
   ],
   "source": [
    "# 15\n",
    "\n",
    "# Замените отрицательные элементы массива нулем.\n",
    "\n",
    "array = np.array([-2, -4, 5])\n",
    "array[array < 0] = 0\n",
    "array"
   ]
  },
  {
   "cell_type": "code",
   "execution_count": 17,
   "id": "2964f1a1-3e8a-4215-abe2-2ae169702bf4",
   "metadata": {},
   "outputs": [
    {
     "data": {
      "text/plain": [
       "array([[1, 2, 3],\n",
       "       [2, 2, 1]])"
      ]
     },
     "execution_count": 17,
     "metadata": {},
     "output_type": "execute_result"
    }
   ],
   "source": [
    "# 16\n",
    "\n",
    "# На примере целочисленного массива x = np.array([[1,2,3], [1,1,1], [2,2,1], [2,2,2]], dtype=int) \n",
    "# составьте новый массив, не содержащий строки, полностью заполненные одним уникальным значением.\n",
    "\n",
    "x = np.array([[1,2,3], [1,1,1], [2,2,1], [2,2,2]], dtype=int)\n",
    "x[np.any(x != x[:, 0].reshape(4, 1), axis=1)]"
   ]
  },
  {
   "cell_type": "code",
   "execution_count": 18,
   "id": "fee9322b-1f4e-4597-b13f-65e192ea62fd",
   "metadata": {},
   "outputs": [
    {
     "name": "stdout",
     "output_type": "stream",
     "text": [
      "[6 3 7 4 6 9 2 6 7 4]\n"
     ]
    },
    {
     "data": {
      "text/plain": [
       "array([3, 4, 2, 4])"
      ]
     },
     "execution_count": 18,
     "metadata": {},
     "output_type": "execute_result"
    }
   ],
   "source": [
    "# 17\n",
    "\n",
    "# Для заданного одномерного массива x выведите все элементы, не превышающие своих соседей\n",
    "# (первый и последний элемент сравниваются только со вторым и предпоследним соответственно).\n",
    "\n",
    "# np.random.seed(21)\n",
    "np.random.seed(42)\n",
    "x = np.random.randint(10, size=10)\n",
    "print(x)\n",
    "\n",
    "a = np.zeros_like(x, dtype=bool)\n",
    "a[:-1] = x[:-1] <= x[1:]\n",
    "a[1:] = x[:-1] >= x[1:]\n",
    "x[a]"
   ]
  },
  {
   "cell_type": "code",
   "execution_count": 19,
   "id": "adc10002-64dd-4693-a480-33d7f8b29b59",
   "metadata": {},
   "outputs": [
    {
     "name": "stdout",
     "output_type": "stream",
     "text": [
      "[[8 3 8]\n",
      " [8 0 5]\n",
      " [3 5 7]]\n"
     ]
    },
    {
     "data": {
      "text/plain": [
       "array([[8, 0, 5],\n",
       "       [8, 3, 8],\n",
       "       [3, 5, 7]])"
      ]
     },
     "execution_count": 19,
     "metadata": {},
     "output_type": "execute_result"
    }
   ],
   "source": [
    "# 18\n",
    "\n",
    "# 1. Создайте двумерный массив 3x3, заполненный случайными числами от 0 до 9\n",
    "# 2. Отсортируйте строки массива по возрастанию значения во втором столбце\n",
    "\n",
    "np.random.seed(3)\n",
    "x = np.random.randint(9, size=9).reshape(3, 3)\n",
    "print(x)\n",
    "x[np.argsort(x[:, 1])]"
   ]
  },
  {
   "cell_type": "code",
   "execution_count": 20,
   "id": "86c5367a-edf4-4343-8511-3d4468d3513b",
   "metadata": {},
   "outputs": [
    {
     "data": {
      "text/plain": [
       "array([[4, 5, 6],\n",
       "       [1, 2, 3]])"
      ]
     },
     "execution_count": 20,
     "metadata": {},
     "output_type": "execute_result"
    }
   ],
   "source": [
    "# 19\n",
    "\n",
    "# Поменяйте местами первую и вторую строки двумерного массива\n",
    "\n",
    "array = np.array([[1, 2, 3],\n",
    "                  [4, 5, 6]])\n",
    "array[[0, 1]] = array[[1, 0]]\n",
    "array"
   ]
  },
  {
   "cell_type": "code",
   "execution_count": 21,
   "id": "72634269-b678-41c8-99b2-7be51cfcdb99",
   "metadata": {},
   "outputs": [
    {
     "data": {
      "text/plain": [
       "array([[ 1,  3],\n",
       "       [11, 13]])"
      ]
     },
     "execution_count": 21,
     "metadata": {},
     "output_type": "execute_result"
    }
   ],
   "source": [
    "# 20\n",
    "\n",
    "# 1. Создайте массив 3x5, заполненный числами от 0 до 14\n",
    "# 2. Выберите 1, 3 строки и 2, 4 столбцы, не удаляя элементы из массива\n",
    "\n",
    "array = np.arange(15).reshape(3, 5)\n",
    "array[[0, 2], :][:, [1, 3]]"
   ]
  },
  {
   "cell_type": "code",
   "execution_count": 22,
   "id": "c80dab60-8ed7-45ec-a85d-920a7a7bf8f6",
   "metadata": {},
   "outputs": [
    {
     "name": "stdout",
     "output_type": "stream",
     "text": [
      "[0 1 2 3 4]\n",
      "[1 2 2 3 4]\n",
      "[1 3 3 3 4]\n"
     ]
    }
   ],
   "source": [
    "# 21\n",
    "\n",
    "# Что будет выведено на экран?\n",
    "# x = np.arange(5)\n",
    "# x[[0,0,1]] = range(3)\n",
    "# print(x)\n",
    "# x[[1,2,1]] += 1\n",
    "# print(x)\n",
    "\n",
    "x = np.arange(5)\n",
    "print(x)\n",
    "x[[0, 0, 1]] = range(3)\n",
    "print(x)\n",
    "x[[1, 2, 1]] += 1\n",
    "print(x)"
   ]
  },
  {
   "cell_type": "code",
   "execution_count": 23,
   "id": "99afd334-5d5f-470c-9286-907b3012aeaf",
   "metadata": {},
   "outputs": [],
   "source": [
    "# 22\n",
    "\n",
    "# Перечислите все известные вам способы преобразования заданного n-мерного массива в одномерный. \n",
    "# Какой из способов работает быстрее и почему?\n",
    "\n",
    "# reshape (view or copy), ravel (view), flatten (copy), list(a.flat)"
   ]
  },
  {
   "cell_type": "code",
   "execution_count": 24,
   "id": "326566c6-d285-48b4-91de-1f4d04915284",
   "metadata": {},
   "outputs": [
    {
     "name": "stdout",
     "output_type": "stream",
     "text": [
      "[0.5488135  0.71518937 0.60276338 0.54488318 0.4236548  0.64589411\n",
      " 0.43758721 0.891773   0.96366276 0.38344152]\n"
     ]
    },
    {
     "data": {
      "text/plain": [
       "array([0.5488135 , 0.71518937, 0.60276338, 0.54488318, 0.4236548 ,\n",
       "       0.64589411, 0.43758721, 0.891773  , 0.61576628, 0.38344152])"
      ]
     },
     "execution_count": 24,
     "metadata": {},
     "output_type": "execute_result"
    }
   ],
   "source": [
    "# 23\n",
    "\n",
    "# 1. Создайте массив, заполненный случайными значениями\n",
    "# 2. Замените максимальные значения массива средним\n",
    "\n",
    "np.random.seed(0)\n",
    "x = np.random.rand(10)\n",
    "print(x)\n",
    "x.max(), x.mean()\n",
    "x[x==x.max()] = x.mean()\n",
    "x"
   ]
  },
  {
   "cell_type": "code",
   "execution_count": 25,
   "id": "a2e01b3d-8d1f-4a58-a320-e759c00a9857",
   "metadata": {},
   "outputs": [
    {
     "data": {
      "text/plain": [
       "array([17.2822359 , 97.99640353, 16.08190941, 30.96187825,  7.38515487,\n",
       "       27.81633868])"
      ]
     },
     "execution_count": 25,
     "metadata": {},
     "output_type": "execute_result"
    }
   ],
   "source": [
    "# 24 \n",
    "\n",
    "# 1. Создайте двумерный массив 6x6, заполненный случайными значениями\n",
    "# 2. Сумму по каждой строке поделите на минимальный элемент из столбца с тем же индексом\n",
    "\n",
    "np.random.seed(2)\n",
    "x = np.random.random((6, 6))\n",
    "summa = np.sum(x, axis=1)\n",
    "min_elements = np.amin(x, axis=0)\n",
    "summa / min_elements"
   ]
  },
  {
   "cell_type": "code",
   "execution_count": 26,
   "id": "9cfbb866-d983-48b2-bbe3-942d0a51feee",
   "metadata": {},
   "outputs": [
    {
     "name": "stdout",
     "output_type": "stream",
     "text": [
      "[8 5 9 9 9 3 0 0 2 8]\n"
     ]
    },
    {
     "data": {
      "text/plain": [
       "array([0.88888889, 0.55555556, 1.        , 1.        , 1.        ,\n",
       "       0.33333333, 0.        , 0.        , 0.22222222, 0.88888889])"
      ]
     },
     "execution_count": 26,
     "metadata": {},
     "output_type": "execute_result"
    }
   ],
   "source": [
    "# 25\n",
    "\n",
    "# 1. Создайте одномерный массив длины 10, заполненный случайными значениями\n",
    "# 2. Линейно отобразите элементы массива в отрезок [0, 1], при этом минимальный элемент должен отобразиться в 0, а максимальный - в 1\n",
    "\n",
    "x = np.random.randint(10, size=10)\n",
    "print(x)\n",
    "(x - np.min(x)) / (np.max(x) - np.min(x))"
   ]
  },
  {
   "cell_type": "code",
   "execution_count": 27,
   "id": "9520f28a-bafe-4d76-a35a-9ca0622ca996",
   "metadata": {},
   "outputs": [
    {
     "name": "stdout",
     "output_type": "stream",
     "text": [
      "[[nan nan nan 15. 16.]\n",
      " [10. nan nan nan 14.]\n",
      " [nan 17. 16. 15. nan]\n",
      " [11. 16. nan nan 12.]\n",
      " [nan nan 13. 19. nan]]\n",
      "[[10.5        16.5        14.5        15.         16.        ]\n",
      " [10.         16.5        14.5        16.33333333 14.        ]\n",
      " [10.5        17.         16.         15.         14.        ]\n",
      " [11.         16.         14.5        16.33333333 12.        ]\n",
      " [10.5        16.5        13.         19.         14.        ]]\n"
     ]
    }
   ],
   "source": [
    "# 26\n",
    "\n",
    "# Замените все вхождения nan в двумерный массив средним значением по соответствующему столбцу\\\n",
    "\n",
    "np.random.seed(100)\n",
    "x = np.random.randint(20, size=25).reshape(5, 5)\n",
    "x = x.astype(float)\n",
    "mean_values = np.mean(x, axis=1)\n",
    "x[x < 10] = np.nan\n",
    "print(x)\n",
    "means = np.nanmean(x, axis=0)\n",
    "inds = np.where(np.isnan(x))\n",
    "x[inds] = np.take(means, inds[1])\n",
    "print(x)"
   ]
  },
  {
   "cell_type": "code",
   "execution_count": 28,
   "id": "9dc3b63b-f0f6-4a91-a60a-d10d08adf114",
   "metadata": {},
   "outputs": [
    {
     "name": "stdout",
     "output_type": "stream",
     "text": [
      "[[0 0 1 1 0]\n",
      " [0 0 1 1 1]\n",
      " [0 1 1 1 0]\n",
      " [0 1 0 0 0]\n",
      " [0 1 1 0 0]]\n"
     ]
    },
    {
     "data": {
      "text/plain": [
       "array([ True, False, False, False, False])"
      ]
     },
     "execution_count": 28,
     "metadata": {},
     "output_type": "execute_result"
    }
   ],
   "source": [
    "# 27\n",
    "\n",
    "# Проверьте, есть ли в двумерном массиве столбец, полностью заполненый нулями.\n",
    "\n",
    "np.random.seed(3)\n",
    "x = np.random.randint(2, size=25).reshape(5, 5)\n",
    "x[-2][0] = 0\n",
    "print(x)\n",
    "np.all(x[:, :] == 0, axis=0)"
   ]
  },
  {
   "cell_type": "code",
   "execution_count": 29,
   "id": "4fdefaee-8b78-49ab-b3aa-eee97fba5406",
   "metadata": {},
   "outputs": [
    {
     "data": {
      "text/plain": [
       "array([[74, 45, 52, 61],\n",
       "       [27, 30, 48, 43],\n",
       "       [41, 48, 69, 54]])"
      ]
     },
     "execution_count": 29,
     "metadata": {},
     "output_type": "execute_result"
    }
   ],
   "source": [
    "# 28\n",
    "\n",
    "# 1. Создайте массив случайных чисел от 0 до 9 размером 3x4x3x4\n",
    "# 2. Вычислите суммы элементов по двум последним осям\n",
    "\n",
    "np.random.seed(3)\n",
    "x = np.random.randint(10, size=144).reshape(3, 4, 3, 4)\n",
    "np.sum(x, axis=(2, 3))"
   ]
  },
  {
   "cell_type": "code",
   "execution_count": 30,
   "id": "ea6ec1d0-8621-45ef-a42a-891aa1e74501",
   "metadata": {},
   "outputs": [
    {
     "name": "stdout",
     "output_type": "stream",
     "text": [
      "[8 9 3 8 8 0 5 3 9 9]\n",
      "[10  6  0 12  7 14 17  2  2  1]\n"
     ]
    },
    {
     "data": {
      "text/plain": [
       "array([ 8.,  6.,  3., 12.,  8., 14.,  5.,  2.,  9.,  1.])"
      ]
     },
     "execution_count": 30,
     "metadata": {},
     "output_type": "execute_result"
    }
   ],
   "source": [
    "# 29\n",
    "\n",
    "# 1. Любым способом создайте два массива одинаковой длины\n",
    "# 2. Создайте массив, в котором на четных позициях будут стоять элементы с соответствующих позиций первого массива,\n",
    "# а на нечетных - с соответствующих позиций второго\n",
    "\n",
    "np.random.seed(3)\n",
    "x = np.random.randint(10, size=10)\n",
    "y = np.random.randint(20, size=10)\n",
    "z = np.zeros(10)\n",
    "z[::2] = x[::2]\n",
    "z[1::2] = y[1::2]\n",
    "print(x)\n",
    "print(y)\n",
    "z"
   ]
  },
  {
   "cell_type": "code",
   "execution_count": 31,
   "id": "1c8434b6-d5f7-42be-a72d-90c6c77b3308",
   "metadata": {},
   "outputs": [
    {
     "name": "stdout",
     "output_type": "stream",
     "text": [
      "[[ 1.  2.]\n",
      " [nan  3.]\n",
      " [ 5.  5.]\n",
      " [nan nan]]\n"
     ]
    },
    {
     "data": {
      "text/plain": [
       "0.375"
      ]
     },
     "execution_count": 31,
     "metadata": {},
     "output_type": "execute_result"
    }
   ],
   "source": [
    "# 30\n",
    "\n",
    "# На примере массива x = np.array([[1., 2.], [np.nan, 3.], [5., 5.], [np.nan, np.nan]]) вычислите долю пропущенных значений\n",
    "\n",
    "x = np.array([[1., 2.], [np.nan, 3.], [5., 5.], [np.nan, np.nan]])\n",
    "print(x)\n",
    "np.isnan(x).sum()/np.prod(x.shape)"
   ]
  },
  {
   "cell_type": "code",
   "execution_count": 32,
   "id": "82dc74ce-8f59-48fe-b6ea-573746af0ed9",
   "metadata": {},
   "outputs": [
    {
     "data": {
      "text/plain": [
       "array([1., 2., 3., 5.])"
      ]
     },
     "execution_count": 32,
     "metadata": {},
     "output_type": "execute_result"
    }
   ],
   "source": [
    "# 31\n",
    "\n",
    "# На примере массива x = np.array([[1., 2.], [np.nan, 3.], [5., 5.], [np.nan, np.nan]])\n",
    "# составьте массив из уникальных значений массива без учета nan\n",
    "\n",
    "x = np.array([[1., 2.], [np.nan, 3.], [5., 5.], [np.nan, np.nan]])\n",
    "np.unique(x[~np.isnan(x)])"
   ]
  },
  {
   "cell_type": "code",
   "execution_count": 33,
   "id": "80b19607-458e-4ba4-919d-6c75e6901a27",
   "metadata": {},
   "outputs": [
    {
     "data": {
      "text/plain": [
       "5"
      ]
     },
     "execution_count": 33,
     "metadata": {},
     "output_type": "execute_result"
    }
   ],
   "source": [
    "# 32 \n",
    "\n",
    "# На примере массива x = np.array([6, 2, 0, 3, 0, 0, 5, 7, 0]) найдите максимальный элемент в массиве среди элементов,\n",
    "# перед которыми стоит нулевой\n",
    "\n",
    "x = np.array([6, 2, 0, 3, 0, 0, 5, 7, 0])\n",
    "np.max(x[1:][x[1:] == np.diff(x)])"
   ]
  },
  {
   "cell_type": "code",
   "execution_count": 34,
   "id": "99487dc6-07d9-41d2-8a95-9d908fd204a1",
   "metadata": {},
   "outputs": [
    {
     "data": {
      "text/plain": [
       "array([0.8       , 1.5       , 0.        , 0.66666667, 1.14285714,\n",
       "       0.        , 0.29411765, 1.5       , 4.5       , 9.        ])"
      ]
     },
     "execution_count": 34,
     "metadata": {},
     "output_type": "execute_result"
    }
   ],
   "source": [
    "# 33\n",
    "\n",
    "# Пусть заданы два массива одинакового размера. Поэлементно разделите один массив на другой. \n",
    "# В случае, если делитель равен нулю, соответствующему элементу результирующего массива присвойте нуль.\n",
    "\n",
    "np.random.seed(3)\n",
    "x = np.random.randint(10, size=10).astype(float)\n",
    "y = np.random.randint(20, size=10).astype(float)\n",
    "np.divide(x, y, out=np.zeros_like(x), where=y!=0)"
   ]
  },
  {
   "cell_type": "code",
   "execution_count": 35,
   "id": "877356df-7935-4481-8322-d78fbd7cc72b",
   "metadata": {},
   "outputs": [
    {
     "data": {
      "text/plain": [
       "array([2., 2., 2., 2., 1., 4., 1., 1., 2., 1.])"
      ]
     },
     "execution_count": 35,
     "metadata": {},
     "output_type": "execute_result"
    }
   ],
   "source": [
    "# 34 \n",
    "\n",
    "# Пусть заданы два массива x = np.ones(10) и i = np.array([0, 1, 2, 3, 5, 5, 5, 8]). \n",
    "# Прибавьте единицу к тем элементам массива x, индексы которых указаны в массиве i.\n",
    "# В случае, если некоторый индекс встретился в массиве i несколько раз, \n",
    "# прибавьте к соответствующему элементу массива x число вхождений данного индекса в массив i.\\\n",
    "\n",
    "x = np.ones(10)\n",
    "i = np.array([0, 1, 2, 3, 5, 5, 5, 8])\n",
    "\n",
    "x + np.bincount(i, minlength=len(x))"
   ]
  },
  {
   "cell_type": "code",
   "execution_count": 36,
   "id": "c78b1743-52c5-4393-b86f-db83e1d1dd9b",
   "metadata": {},
   "outputs": [
    {
     "data": {
      "text/plain": [
       "array([ 0,  0,  3,  8, 10, 10, 11])"
      ]
     },
     "execution_count": 36,
     "metadata": {},
     "output_type": "execute_result"
    }
   ],
   "source": [
    "# 35\n",
    "\n",
    "# По заданному массиву y = np.bincount([0, 0, 3, 8, 10, 10, 11]) постройте массив x такой, чтобы np.bincount(x) = y\n",
    "\n",
    "y = np.bincount([0, 0, 3, 8, 10, 10, 11]) \n",
    "x = np.repeat(np.arange(y.size), y)\n",
    "x"
   ]
  },
  {
   "cell_type": "code",
   "execution_count": 37,
   "id": "3c18d9dc-61eb-498d-9e85-d438b41957cf",
   "metadata": {},
   "outputs": [
    {
     "data": {
      "text/plain": [
       "array([0, 4, 6])"
      ]
     },
     "execution_count": 37,
     "metadata": {},
     "output_type": "execute_result"
    }
   ],
   "source": [
    "# 36\n",
    "\n",
    "#  Определите самые часто встречающиеся элементы в массиве целых неотрицательных чисел.\n",
    "# Решите задачу на примере массива x = np.array([0,1,2,0,6,6,7,4,5,4]).\n",
    "\n",
    "x = np.array([0, 1, 2, 0, 6, 6, 7, 4, 5, 4])\n",
    "unique, count = np.unique(x, return_counts=True)\n",
    "unique[count == count.max()]"
   ]
  },
  {
   "cell_type": "code",
   "execution_count": 38,
   "id": "5e0d702b-6bf2-4a15-9c57-c29b5a34b163",
   "metadata": {},
   "outputs": [
    {
     "data": {
      "text/plain": [
       "[array([[1, 2],\n",
       "        [1, 3]]),\n",
       " array([[2, 2],\n",
       "        [3, 4]]),\n",
       " array([[3, 5]])]"
      ]
     },
     "execution_count": 38,
     "metadata": {},
     "output_type": "execute_result"
    }
   ],
   "source": [
    "# 37\n",
    "\n",
    "# Разбейте двумерный массив на список двумерных массивов по уникальным значениям в первом столбце.\n",
    "# Решите задачу на примере массива x = np.array([[1, 2], [1, 3], [2, 2], [3, 4], [3, 5]]), \n",
    "# в результате должен получиться список [array([[1, 2], [1, 3]]), array([[2, 2]]), array([[3, 4], [3, 5]])].\n",
    "\n",
    "x = np.array([[1, 2], [1, 3], [2, 2], [3, 4], [3, 5]])\n",
    "np.array_split(x, len(np.unique(x[:, :][:, 0])))"
   ]
  },
  {
   "cell_type": "code",
   "execution_count": 39,
   "id": "18cc83f9-c828-4fef-840c-22c487a6e85b",
   "metadata": {},
   "outputs": [],
   "source": [
    "# 38\n",
    "\n",
    "# По заданному одномерному массиву неотрицательных чисел постройте список подмассивов, \n",
    "# сожержащих элементы из полуинтервалов [i * 10, (i+1) * 10), i = 0, 1, 2, …\n",
    "# Решите задачу на примере массива x = np.array([8, 2, 34, 0, 11, 18, 13, 2, 24, 10, 20]),\n",
    "# в результате должен получиться список [array([0, 2, 2, 8]), array([10, 11, 13, 18]), array([20, 24]), array([34])].\n",
    "\n",
    "x = np.array([8, 2, 34, 0, 11, 18, 13, 2, 24, 10, 20])\n",
    "groups = max(x) // 10 + 1\n",
    "# np.array_split(np.sort(x), groups)"
   ]
  },
  {
   "cell_type": "code",
   "execution_count": 40,
   "id": "f6245ffc-8f18-43f0-a8df-75f245225182",
   "metadata": {},
   "outputs": [],
   "source": [
    "# 39\n",
    "\n",
    "# Перечислите все известные вам способы соединения заданных двумерных массивов по вертикали. \n",
    "# Какой из способов работает быстрее?\n",
    "\n",
    "# np.concatenate (use twice memory), np.vstack, np.append"
   ]
  },
  {
   "cell_type": "code",
   "execution_count": 41,
   "id": "8b91679c-824d-45fe-9e47-5c051f0adedd",
   "metadata": {},
   "outputs": [
    {
     "data": {
      "text/plain": [
       "array([[0, 0],\n",
       "       [0, 1],\n",
       "       [0, 2],\n",
       "       [0, 3],\n",
       "       [0, 4],\n",
       "       [1, 0],\n",
       "       [1, 1],\n",
       "       [1, 2],\n",
       "       [1, 3],\n",
       "       [1, 4],\n",
       "       [2, 0],\n",
       "       [2, 1],\n",
       "       [2, 2],\n",
       "       [2, 3],\n",
       "       [2, 4]])"
      ]
     },
     "execution_count": 41,
     "metadata": {},
     "output_type": "execute_result"
    }
   ],
   "source": [
    "# 40\n",
    "\n",
    "# Для двух одномерных массивов x = np.arange(3) и y = np.arange(5) постройте \n",
    "# двумерный массив строки которого - всевозможные пары элементов из x и y.\n",
    "\n",
    "x = np.arange(3)\n",
    "y = np.arange(5)\n",
    "\n",
    "np.array(np.meshgrid(x, y)).T.reshape(-1,2)"
   ]
  },
  {
   "cell_type": "code",
   "execution_count": 42,
   "id": "78d76201-d301-44b4-85c6-f3a3674bba99",
   "metadata": {},
   "outputs": [
    {
     "data": {
      "text/plain": [
       "array([[1, 5],\n",
       "       [2, 6],\n",
       "       [3, 7],\n",
       "       [4, 8]])"
      ]
     },
     "execution_count": 42,
     "metadata": {},
     "output_type": "execute_result"
    }
   ],
   "source": [
    "# 41\n",
    "\n",
    "# По двум входным одномерным массивам одинаковой длины составьте массив пар элементов с одинаковыми индесами.\n",
    "# Решите задачу на примере массивов x = np.array([1,2,3,4]) и y = np.array([5,6,7,8]).\n",
    "\n",
    "x = np.array([1, 2, 3, 4])\n",
    "y = np.array([5, 6, 7, 8])\n",
    "np.array(list(zip(x, y)))"
   ]
  },
  {
   "cell_type": "code",
   "execution_count": 43,
   "id": "d0b1edb7-08f3-4e1c-a939-c73b4f2c8181",
   "metadata": {},
   "outputs": [],
   "source": [
    "# 42\n",
    "\n",
    "# По заданному непустому списку двумерных массивов одинаковых размеров составьте трехмерный массив \n",
    "# в котором вдоль нулевой оси расположены массивы из списка, между каждой парой которых \n",
    "# вставлен массив полностью заполненный нулями.\n",
    "# Решите задачу для списка l = [np.array([[1, 2], [3, 4]]), np.array([[5, 6], [7, 8]]), np.array([[9, 10], [11, 12]])].\n",
    "\n",
    "l = [np.array([[1, 2], [3, 4]]), np.array([[5, 6], [7, 8]]), np.array([[9, 10], [11, 12]])]"
   ]
  },
  {
   "cell_type": "code",
   "execution_count": 44,
   "id": "4952ead5-ce26-4285-8b6c-33b574067e6b",
   "metadata": {},
   "outputs": [
    {
     "data": {
      "text/plain": [
       "array([[3, 7, 2, 5],\n",
       "       [7, 2, 5, 0],\n",
       "       [2, 5, 0, 9],\n",
       "       [5, 0, 9, 8],\n",
       "       [0, 9, 8, 2],\n",
       "       [9, 8, 2, 4],\n",
       "       [8, 2, 4, 5]])"
      ]
     },
     "execution_count": 44,
     "metadata": {},
     "output_type": "execute_result"
    }
   ],
   "source": [
    "# 43\n",
    "\n",
    "# Преобразуйте одномерный массив x = np.array([3,7,2,5,0,9,8,2,4,5]) в двумерный массив, \n",
    "# первая строка которого - элементы массива x с индексами от 0 до 4, вторая строка - с 1 до 5 и т.д.\n",
    "\n",
    "array = np.array([3, 7, 2, 5, 0, 9, 8, 2, 4, 5])\n",
    "l = len(array) - (4 - 1)\n",
    "\n",
    "def func(x, y):\n",
    "    return array[x + y]\n",
    "\n",
    "np.fromfunction(func, (l, 4), dtype=int)"
   ]
  }
 ],
 "metadata": {
  "kernelspec": {
   "display_name": "Python 3 (ipykernel)",
   "language": "python",
   "name": "python3"
  },
  "language_info": {
   "codemirror_mode": {
    "name": "ipython",
    "version": 3
   },
   "file_extension": ".py",
   "mimetype": "text/x-python",
   "name": "python",
   "nbconvert_exporter": "python",
   "pygments_lexer": "ipython3",
   "version": "3.8.10"
  }
 },
 "nbformat": 4,
 "nbformat_minor": 5
}
