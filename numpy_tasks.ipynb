{
 "cells": [
  {
   "cell_type": "code",
   "execution_count": 1,
   "id": "5799551a-5967-40a3-9c65-2c38edc2cd01",
   "metadata": {},
   "outputs": [],
   "source": [
    "import numpy as np\n",
    "from math import pi"
   ]
  },
  {
   "cell_type": "code",
   "execution_count": 2,
   "id": "ea3de50e-5d95-44e7-a7c8-693739ffd538",
   "metadata": {},
   "outputs": [
    {
     "data": {
      "text/plain": [
       "  C_CONTIGUOUS : True\n",
       "  F_CONTIGUOUS : True\n",
       "  OWNDATA : True\n",
       "  WRITEABLE : False\n",
       "  ALIGNED : True\n",
       "  WRITEBACKIFCOPY : False\n",
       "  UPDATEIFCOPY : False"
      ]
     },
     "execution_count": 2,
     "metadata": {},
     "output_type": "execute_result"
    }
   ],
   "source": [
    "# 1\n",
    "\n",
    "# 1. Создайте массив длины 10, заполненный нулями\n",
    "# 2. Сделайте полученный массив неизменяемым\n",
    "array = np.zeros(10)\n",
    "array.flags.writeable = False\n",
    "array.flags"
   ]
  },
  {
   "cell_type": "code",
   "execution_count": 3,
   "id": "161d98dc-734a-4b79-b777-006bc3fe8955",
   "metadata": {},
   "outputs": [
    {
     "data": {
      "text/plain": [
       "[array([[0.        , 1.57079633, 3.14159265, 4.71238898, 6.28318531],\n",
       "        [0.        , 1.57079633, 3.14159265, 4.71238898, 6.28318531],\n",
       "        [0.        , 1.57079633, 3.14159265, 4.71238898, 6.28318531],\n",
       "        [0.        , 1.57079633, 3.14159265, 4.71238898, 6.28318531],\n",
       "        [0.        , 1.57079633, 3.14159265, 4.71238898, 6.28318531]]),\n",
       " array([[1.00000000e+010, 1.00000000e+010, 1.00000000e+010,\n",
       "         1.00000000e+010, 1.00000000e+010],\n",
       "        [3.16227766e+032, 3.16227766e+032, 3.16227766e+032,\n",
       "         3.16227766e+032, 3.16227766e+032],\n",
       "        [1.00000000e+055, 1.00000000e+055, 1.00000000e+055,\n",
       "         1.00000000e+055, 1.00000000e+055],\n",
       "        [3.16227766e+077, 3.16227766e+077, 3.16227766e+077,\n",
       "         3.16227766e+077, 3.16227766e+077],\n",
       "        [1.00000000e+100, 1.00000000e+100, 1.00000000e+100,\n",
       "         1.00000000e+100, 1.00000000e+100]])]"
      ]
     },
     "execution_count": 3,
     "metadata": {},
     "output_type": "execute_result"
    }
   ],
   "source": [
    "# 2\n",
    "\n",
    "# 1. Создайте массив, содержащий 5 равноотстоящих точек, покрывающих диапазон от 0 до 2*pi\n",
    "# 2. Создайте массив, содержащий 5 равноотстоящих в логарифмическом масштабе точек, покрывающих диапазон от 10 до 100\n",
    "# 3. Составьте из полученных массивов координатную сеть (meshgrid)\n",
    "\n",
    "array1 = np.linspace(0, 2*pi, num=5)\n",
    "array2 = np.logspace(10, 100, num=5)\n",
    "\n",
    "np.meshgrid(array1, array2)"
   ]
  },
  {
   "cell_type": "code",
   "execution_count": 4,
   "id": "a497c00f-d14b-4179-a665-c11a841f919c",
   "metadata": {},
   "outputs": [
    {
     "data": {
      "text/plain": [
       "array([[0, 0, 0, 0, 0],\n",
       "       [1, 0, 0, 0, 0],\n",
       "       [0, 2, 0, 0, 0],\n",
       "       [0, 0, 3, 0, 0],\n",
       "       [0, 0, 0, 4, 0]])"
      ]
     },
     "execution_count": 4,
     "metadata": {},
     "output_type": "execute_result"
    }
   ],
   "source": [
    "# 3\n",
    "# Создайте двумерный массив 5х5 с элементами 1, 2, 3 и 4 под главной диагональю, остальные элементы заполните нулями\n",
    "\n",
    "np.diag([1, 2, 3, 4], -1)"
   ]
  },
  {
   "cell_type": "code",
   "execution_count": 5,
   "id": "8d3b7100-8923-48c6-8436-9822ee8b451d",
   "metadata": {},
   "outputs": [
    {
     "data": {
      "text/plain": [
       "array([0, 1, 2, 3, 4, 5, 6, 7, 8, 9])"
      ]
     },
     "execution_count": 5,
     "metadata": {},
     "output_type": "execute_result"
    }
   ],
   "source": [
    "# 4\n",
    "\n",
    "# 1. Создайте функцию-генератор, последовательно возвращающую целые числа от 0 до 9\n",
    "# 2. Создайте массив из построенного генератора\n",
    "\n",
    "def gen():\n",
    "    for i in range(10):\n",
    "        yield i \n",
    "        \n",
    "np.fromiter(gen(), int)"
   ]
  },
  {
   "cell_type": "code",
   "execution_count": 6,
   "id": "ba0b55bc-a951-4345-857d-202f18d6fd78",
   "metadata": {},
   "outputs": [],
   "source": [
    "# 5\n",
    "\n",
    "# Что будет выведено на экран?\n",
    "# a = np.arange(4).reshape(2,2)\n",
    "# a += 0.5\n",
    "# print(a)\n",
    "\n",
    "# Error (type a is int)"
   ]
  },
  {
   "cell_type": "code",
   "execution_count": 7,
   "id": "4786d8e4-73e2-4a01-9cb5-1b33ddc1181e",
   "metadata": {},
   "outputs": [],
   "source": [
    "# 6\n",
    "\n",
    "# Что будет выведено на экран?\n",
    "# a = np.array([1])\n",
    "# if a:\n",
    "  #  print(\"True\")\n",
    "# else:\n",
    " #   print(\"False\")\n",
    "\n",
    "# a = np.array([1, 2, 3])\n",
    "# if a:\n",
    "  #  print(\"True\")\n",
    "# else:\n",
    "  #  print(\"False\")\n",
    "    \n",
    "# True\n",
    "# Error (ambigious)"
   ]
  },
  {
   "cell_type": "code",
   "execution_count": 8,
   "id": "e78e5311-f698-4c4c-ba6d-375f7dca3449",
   "metadata": {},
   "outputs": [],
   "source": [
    "# 7\n",
    "\n",
    "\n",
    "# Что будет выведено на экран?\n",
    "# print(0 * np.nan)\n",
    "# print(np.nan - np.nan)\n",
    "# print(np.nan == np.nan)\n",
    "# print(np.nan is np.nan)\n",
    "# print(-np.inf < np.nan < np.inf)\n",
    "\n",
    "'''\n",
    "1. nan\n",
    "2. nan\n",
    "3. False\n",
    "4. True\n",
    "5. False \n",
    "''';"
   ]
  },
  {
   "cell_type": "code",
   "execution_count": 9,
   "id": "8c350e27-c404-428a-a3d2-6dfbf6e93739",
   "metadata": {},
   "outputs": [],
   "source": [
    "# 8\n",
    "\n",
    "# Что будет выведено на экран?\n",
    "# print(np.isnan(np.array([np.nan]).astype(np.int)))\n",
    "\n",
    "# array([False])"
   ]
  },
  {
   "cell_type": "code",
   "execution_count": 10,
   "id": "fde1d0eb-9a27-4257-9b64-8ff3139a2888",
   "metadata": {},
   "outputs": [
    {
     "data": {
      "text/plain": [
       "array([[ 0,  1,  2,  3,  4],\n",
       "       [10, 11, 12, 13, 14],\n",
       "       [20, 21, 22, 23, 24],\n",
       "       [30, 31, 32, 33, 34]])"
      ]
     },
     "execution_count": 10,
     "metadata": {},
     "output_type": "execute_result"
    }
   ],
   "source": [
    "# 9\n",
    "\n",
    "# 1. Создайте масив из четырех элементов: 0, 10, 20, 30\n",
    "# 2. Создайте двухмерный массив 4x5, в котором первый столбец - массив с шага 1, а каждый элемент каждой строки, начиная со второго,  \n",
    "# больше предыдущего элемента этой же строки на 1.\n",
    "\n",
    "array = np.array([0, 10, 20, 30]).reshape(4, 1)\n",
    "array + np.arange(5)"
   ]
  },
  {
   "cell_type": "code",
   "execution_count": 11,
   "id": "336319ba-931f-4312-9e7f-3d6a893e958e",
   "metadata": {},
   "outputs": [],
   "source": [
    "# 10\n",
    "\n",
    "# Какой shape будет у результата операции np.arange(5).reshape(1,-1) + np.arange(5).reshape(-1,1)?\n",
    "\n",
    "# shape(1, 5) + shape(5, 1) = shape(5, 5)"
   ]
  },
  {
   "cell_type": "code",
   "execution_count": 12,
   "id": "c74c55b8-bd96-4540-a6e4-42f74a4211af",
   "metadata": {},
   "outputs": [
    {
     "data": {
      "text/plain": [
       "array([[0., 1., 0., 1., 0., 1., 0., 1.],\n",
       "       [1., 0., 1., 0., 1., 0., 1., 0.],\n",
       "       [0., 1., 0., 1., 0., 1., 0., 1.],\n",
       "       [1., 0., 1., 0., 1., 0., 1., 0.],\n",
       "       [0., 1., 0., 1., 0., 1., 0., 1.],\n",
       "       [1., 0., 1., 0., 1., 0., 1., 0.],\n",
       "       [0., 1., 0., 1., 0., 1., 0., 1.],\n",
       "       [1., 0., 1., 0., 1., 0., 1., 0.]])"
      ]
     },
     "execution_count": 12,
     "metadata": {},
     "output_type": "execute_result"
    }
   ],
   "source": [
    "# 11\n",
    "\n",
    "# Создайте двумерный массив 8х8, заполненный 0 и 1 в шахматном порядке\n",
    "\n",
    "x = np.ones((8, 8))\n",
    "x[::2, ::2] = 0\n",
    "x[1::2, 1::2] = 0\n",
    "x"
   ]
  },
  {
   "cell_type": "code",
   "execution_count": 13,
   "id": "4de5dde0-872f-4c6f-b212-e4942989903a",
   "metadata": {},
   "outputs": [
    {
     "data": {
      "text/plain": [
       "array([1, 0, 2, 0, 3, 0, 4, 0, 5])"
      ]
     },
     "execution_count": 13,
     "metadata": {},
     "output_type": "execute_result"
    }
   ],
   "source": [
    "# 12\n",
    "\n",
    "# 1. Создайте одномерный массив целых чисел от 1 до 5\n",
    "# 2. Вставьте 0 между каждой парой соседних элементов\n",
    "\n",
    "array = np.arange(1, 6)\n",
    "size = array.shape[0]\n",
    "np.insert(array, np.repeat(np.arange(1, size), 1), 0)"
   ]
  },
  {
   "cell_type": "code",
   "execution_count": 14,
   "id": "ba11ec8d-5ece-43f0-9969-7d408683418a",
   "metadata": {},
   "outputs": [],
   "source": [
    "# 13\n",
    "\n",
    "# Что будет выведено на экран?\n",
    "# x = np.arange(36).reshape(2,3,2,3)\n",
    "# print(x[...,0,...])\n",
    "\n",
    "# error, because we can't have two ellipsis in this case"
   ]
  },
  {
   "cell_type": "code",
   "execution_count": 15,
   "id": "d3e654c7-6f7f-4d99-b9c8-fa1033707f7f",
   "metadata": {},
   "outputs": [
    {
     "name": "stdout",
     "output_type": "stream",
     "text": [
      "[[ 0  1  2  3]\n",
      " [ 4  5  6  7]\n",
      " [ 8  9 10 11]\n",
      " [12 13 14 15]]\n",
      "[[ 0  0  2  3]\n",
      " [ 0  0  6  7]\n",
      " [ 0  0 10 11]\n",
      " [ 0  0 14 15]]\n"
     ]
    }
   ],
   "source": [
    "# 14\n",
    "\n",
    "# Что будет выведено на экран?\n",
    "# x = np.arange(16).reshape(4,4)\n",
    "# y = x[:,[2,3]]\n",
    "# y[:] = 0\n",
    "# print(x)\n",
    "# y = x[:,:2]\n",
    "# y[:] = 0\n",
    "# print(x)\n",
    "\n",
    "x = np.arange(16).reshape(4,4)\n",
    "y = x[:, [2,3]]\n",
    "y[:] = 0\n",
    "print(x)\n",
    "y = x[:, :2]\n",
    "y[:] = 0\n",
    "print(x)"
   ]
  },
  {
   "cell_type": "code",
   "execution_count": 16,
   "id": "092712e4-81b1-4b07-9667-f801d052b546",
   "metadata": {},
   "outputs": [
    {
     "data": {
      "text/plain": [
       "array([0, 0, 5])"
      ]
     },
     "execution_count": 16,
     "metadata": {},
     "output_type": "execute_result"
    }
   ],
   "source": [
    "# 15\n",
    "\n",
    "# Замените отрицательные элементы массива нулем.\n",
    "\n",
    "array = np.array([-2, -4, 5])\n",
    "array[array < 0] = 0\n",
    "array"
   ]
  },
  {
   "cell_type": "code",
   "execution_count": 17,
   "id": "2964f1a1-3e8a-4215-abe2-2ae169702bf4",
   "metadata": {},
   "outputs": [
    {
     "data": {
      "text/plain": [
       "array([[1, 2, 3],\n",
       "       [2, 2, 1]])"
      ]
     },
     "execution_count": 17,
     "metadata": {},
     "output_type": "execute_result"
    }
   ],
   "source": [
    "# 16\n",
    "\n",
    "# На примере целочисленного массива x = np.array([[1,2,3], [1,1,1], [2,2,1], [2,2,2]], dtype=int) \n",
    "# составьте новый массив, не содержащий строки, полностью заполненные одним уникальным значением.\n",
    "\n",
    "x = np.array([[1,2,3], [1,1,1], [2,2,1], [2,2,2]], dtype=int)\n",
    "x[np.any(x != x[:, 0].reshape(4, 1), axis=1)]"
   ]
  },
  {
   "cell_type": "code",
   "execution_count": 18,
   "id": "fee9322b-1f4e-4597-b13f-65e192ea62fd",
   "metadata": {},
   "outputs": [
    {
     "name": "stdout",
     "output_type": "stream",
     "text": [
<<<<<<< HEAD
      "[3 9 4 6 7 2 0 6 8 5]\n"
=======
      "[6 3 7 4 6 9 2 6 7 4]\n"
>>>>>>> master
     ]
    },
    {
     "data": {
      "text/plain": [
<<<<<<< HEAD
       "array([3, 4, 0, 5])"
=======
       "array([3, 4, 2, 4])"
>>>>>>> master
      ]
     },
     "execution_count": 18,
     "metadata": {},
     "output_type": "execute_result"
    }
   ],
   "source": [
    "# 17\n",
    "\n",
    "# Для заданного одномерного массива x выведите все элементы, не превышающие своих соседей\n",
    "# (первый и последний элемент сравниваются только со вторым и предпоследним соответственно).\n",
    "\n",
<<<<<<< HEAD
    "\n",
    "np.random.seed(20)\n",
    "x = np.random.randint(10, size=10)\n",
    "print(x)\n",
    "\n",
    "a = np.ones_like(x, dtype=bool)\n",
    "a[:-1] = x[:-1] <= x[1:]\n",
    "a[1:] &= x[:-1] >= x[1:]\n",
=======
    "# np.random.seed(21)\n",
    "np.random.seed(42)\n",
    "x = np.random.randint(10, size=10)\n",
    "print(x)\n",
    "\n",
    "a = np.zeros_like(x, dtype=bool)\n",
    "a[:-1] = x[:-1] <= x[1:]\n",
    "a[1:] = x[:-1] >= x[1:]\n",
>>>>>>> master
    "x[a]"
   ]
  },
  {
   "cell_type": "code",
   "execution_count": 19,
   "id": "adc10002-64dd-4693-a480-33d7f8b29b59",
   "metadata": {},
   "outputs": [
    {
     "name": "stdout",
     "output_type": "stream",
     "text": [
      "[[8 3 8]\n",
      " [8 0 5]\n",
      " [3 5 7]]\n"
     ]
    },
    {
     "data": {
      "text/plain": [
       "array([[8, 0, 5],\n",
       "       [8, 3, 8],\n",
       "       [3, 5, 7]])"
      ]
     },
     "execution_count": 19,
     "metadata": {},
     "output_type": "execute_result"
    }
   ],
   "source": [
    "# 18\n",
    "\n",
    "# 1. Создайте двумерный массив 3x3, заполненный случайными числами от 0 до 9\n",
    "# 2. Отсортируйте строки массива по возрастанию значения во втором столбце\n",
    "\n",
    "np.random.seed(3)\n",
    "x = np.random.randint(9, size=9).reshape(3, 3)\n",
    "print(x)\n",
    "x[np.argsort(x[:, 1])]"
   ]
  },
  {
   "cell_type": "code",
   "execution_count": 20,
<<<<<<< HEAD
   "id": "d1262f54-1cd3-4e87-98d0-26dd39d50069",
   "metadata": {},
   "outputs": [
    {
     "name": "stdout",
     "output_type": "stream",
     "text": [
      "6.13 µs ± 33.1 ns per loop (mean ± std. dev. of 7 runs, 100000 loops each)\n"
     ]
    }
   ],
   "source": [
    "%%timeit\n",
    "# np.random.seed(3)\n",
    "# x = np.random.randint(10, size=999).reshape(-1, 3)\n",
    "y = x[np.argsort(x[:, 0])]\n",
    "y[np.argsort(y[:, 1], kind='stable')];"
   ]
  },
  {
   "cell_type": "code",
   "execution_count": 21,
   "id": "4f4c2953-2a1d-4cf8-8ee8-30c5f0ee7d9b",
   "metadata": {},
   "outputs": [
    {
     "name": "stdout",
     "output_type": "stream",
     "text": [
      "1.45 µs ± 74.9 ns per loop (mean ± std. dev. of 7 runs, 1000000 loops each)\n"
     ]
    }
   ],
   "source": [
    "%%timeit\n",
    "# np.random.seed(3)\n",
    "# x = np.random.randint(10, size=999).reshape(-1, 3)\n",
    "np.lexsort((x[:, 0], x[:, 1]));"
   ]
  },
  {
   "cell_type": "code",
   "execution_count": 22,
=======
>>>>>>> master
   "id": "86c5367a-edf4-4343-8511-3d4468d3513b",
   "metadata": {},
   "outputs": [
    {
     "data": {
      "text/plain": [
       "array([[4, 5, 6],\n",
       "       [1, 2, 3]])"
      ]
     },
<<<<<<< HEAD
     "execution_count": 22,
=======
     "execution_count": 20,
>>>>>>> master
     "metadata": {},
     "output_type": "execute_result"
    }
   ],
   "source": [
    "# 19\n",
    "\n",
    "# Поменяйте местами первую и вторую строки двумерного массива\n",
    "\n",
    "array = np.array([[1, 2, 3],\n",
    "                  [4, 5, 6]])\n",
<<<<<<< HEAD
    "array[:2] = array[1::-1]\n",
=======
    "array[[0, 1]] = array[[1, 0]]\n",
>>>>>>> master
    "array"
   ]
  },
  {
   "cell_type": "code",
<<<<<<< HEAD
   "execution_count": 23,
=======
   "execution_count": 21,
>>>>>>> master
   "id": "72634269-b678-41c8-99b2-7be51cfcdb99",
   "metadata": {},
   "outputs": [
    {
<<<<<<< HEAD
     "name": "stdout",
     "output_type": "stream",
     "text": [
      "[[ 0  1  2  3  4]\n",
      " [ 5  6  7  8  9]\n",
      " [10 11 12 13 14]]\n"
     ]
    },
    {
=======
>>>>>>> master
     "data": {
      "text/plain": [
       "array([[ 1,  3],\n",
       "       [11, 13]])"
      ]
     },
<<<<<<< HEAD
     "execution_count": 23,
=======
     "execution_count": 21,
>>>>>>> master
     "metadata": {},
     "output_type": "execute_result"
    }
   ],
   "source": [
    "# 20\n",
    "\n",
    "# 1. Создайте массив 3x5, заполненный числами от 0 до 14\n",
    "# 2. Выберите 1, 3 строки и 2, 4 столбцы, не удаляя элементы из массива\n",
    "\n",
    "array = np.arange(15).reshape(3, 5)\n",
<<<<<<< HEAD
    "print(array)\n",
    "array[np.ix_([0, 2], [1, 3])]"
=======
    "array[[0, 2], :][:, [1, 3]]"
>>>>>>> master
   ]
  },
  {
   "cell_type": "code",
<<<<<<< HEAD
   "execution_count": 24,
=======
   "execution_count": 22,
>>>>>>> master
   "id": "c80dab60-8ed7-45ec-a85d-920a7a7bf8f6",
   "metadata": {},
   "outputs": [
    {
     "name": "stdout",
     "output_type": "stream",
     "text": [
      "[0 1 2 3 4]\n",
      "[1 2 2 3 4]\n",
<<<<<<< HEAD
      "[1 5 5 3 4]\n"
=======
      "[1 3 3 3 4]\n"
>>>>>>> master
     ]
    }
   ],
   "source": [
    "# 21\n",
    "\n",
    "# Что будет выведено на экран?\n",
    "# x = np.arange(5)\n",
    "# x[[0,0,1]] = range(3)\n",
    "# print(x)\n",
    "# x[[1,2,1]] += 1\n",
    "# print(x)\n",
    "\n",
    "x = np.arange(5)\n",
    "print(x)\n",
    "x[[0, 0, 1]] = range(3)\n",
    "print(x)\n",
    "x[[1, 2, 1]] += 1\n",
<<<<<<< HEAD
    "x[[1, 2, 1]] = x[[1, 2, 1]] + 1\n",
    "\n",
    "\n",
    "y = x[[1, 2, 1]]\n",
    "y = y.__iadd__(1)\n",
    "x[[1, 2, 1]] = y\n",
    "print(x)"
   ]
  },
  {
   "cell_type": "code",
   "execution_count": 25,
   "id": "e23c79d7-e314-4e5c-9ff6-3e96a8ac08dc",
   "metadata": {},
   "outputs": [
    {
     "name": "stdout",
     "output_type": "stream",
     "text": [
      "[0 3 3 3 4]\n"
     ]
    }
   ],
   "source": [
    "x = np.arange(5)\n",
    "np.add.at(x, [1, 2, 1], 1)\n",
=======
>>>>>>> master
    "print(x)"
   ]
  },
  {
   "cell_type": "code",
<<<<<<< HEAD
   "execution_count": 26,
   "id": "12af259d-bf76-430b-aa4b-f592553c1ee1",
   "metadata": {},
   "outputs": [
    {
     "data": {
      "text/plain": [
       "((2, 3, 4), (96, 32, 8))"
      ]
     },
     "execution_count": 26,
     "metadata": {},
     "output_type": "execute_result"
    }
   ],
   "source": [
    "x = np.empty((2, 3, 4))\n",
    "x.shape, x.strides"
   ]
  },
  {
   "cell_type": "code",
   "execution_count": 27,
   "id": "aea911f2-5083-4b65-b323-27f886532ee3",
   "metadata": {},
   "outputs": [
    {
     "data": {
      "text/plain": [
       "((4, 6), (48, 8))"
      ]
     },
     "execution_count": 27,
     "metadata": {},
     "output_type": "execute_result"
    }
   ],
   "source": [
    "x.shape = (4, 6)\n",
    "x.shape, x.strides"
   ]
  },
  {
   "cell_type": "code",
   "execution_count": 28,
   "id": "99afd334-5d5f-470c-9286-907b3012aeaf",
   "metadata": {},
   "outputs": [
    {
     "data": {
      "text/plain": [
       "(24,)"
      ]
     },
     "execution_count": 28,
     "metadata": {},
     "output_type": "execute_result"
    }
   ],
=======
   "execution_count": 23,
   "id": "99afd334-5d5f-470c-9286-907b3012aeaf",
   "metadata": {},
   "outputs": [],
>>>>>>> master
   "source": [
    "# 22\n",
    "\n",
    "# Перечислите все известные вам способы преобразования заданного n-мерного массива в одномерный. \n",
    "# Какой из способов работает быстрее и почему?\n",
    "\n",
<<<<<<< HEAD
    "# reshape (view or copy), ravel (view or copy), flatten (copy), list(a.flat)\n",
    "# np.ravel()\n",
    "# np.reshape()\n",
    "np.array(x.flat).shape"
=======
    "# reshape (view or copy), ravel (view), flatten (copy), list(a.flat)"
>>>>>>> master
   ]
  },
  {
   "cell_type": "code",
<<<<<<< HEAD
   "execution_count": 29,
=======
   "execution_count": 24,
>>>>>>> master
   "id": "326566c6-d285-48b4-91de-1f4d04915284",
   "metadata": {},
   "outputs": [
    {
     "name": "stdout",
     "output_type": "stream",
     "text": [
      "[0.5488135  0.71518937 0.60276338 0.54488318 0.4236548  0.64589411\n",
      " 0.43758721 0.891773   0.96366276 0.38344152]\n"
     ]
<<<<<<< HEAD
=======
    },
    {
     "data": {
      "text/plain": [
       "array([0.5488135 , 0.71518937, 0.60276338, 0.54488318, 0.4236548 ,\n",
       "       0.64589411, 0.43758721, 0.891773  , 0.61576628, 0.38344152])"
      ]
     },
     "execution_count": 24,
     "metadata": {},
     "output_type": "execute_result"
>>>>>>> master
    }
   ],
   "source": [
    "# 23\n",
    "\n",
    "# 1. Создайте массив, заполненный случайными значениями\n",
    "# 2. Замените максимальные значения массива средним\n",
    "\n",
    "np.random.seed(0)\n",
    "x = np.random.rand(10)\n",
    "print(x)\n",
<<<<<<< HEAD
    "\n",
    "x[x==x.max()] = x.mean()\n",
    "np.place(x, x==x.max(), x.mean())\n",
    "np.put(x, x.argmax(), x.mean())"
=======
    "x.max(), x.mean()\n",
    "x[x==x.max()] = x.mean()\n",
    "x"
>>>>>>> master
   ]
  },
  {
   "cell_type": "code",
<<<<<<< HEAD
   "execution_count": 30,
=======
   "execution_count": 25,
>>>>>>> master
   "id": "a2e01b3d-8d1f-4a58-a320-e759c00a9857",
   "metadata": {},
   "outputs": [
    {
     "data": {
      "text/plain": [
       "array([17.2822359 , 97.99640353, 16.08190941, 30.96187825,  7.38515487,\n",
       "       27.81633868])"
      ]
     },
<<<<<<< HEAD
     "execution_count": 30,
=======
     "execution_count": 25,
>>>>>>> master
     "metadata": {},
     "output_type": "execute_result"
    }
   ],
   "source": [
    "# 24 \n",
    "\n",
    "# 1. Создайте двумерный массив 6x6, заполненный случайными значениями\n",
    "# 2. Сумму по каждой строке поделите на минимальный элемент из столбца с тем же индексом\n",
    "\n",
    "np.random.seed(2)\n",
    "x = np.random.random((6, 6))\n",
    "summa = np.sum(x, axis=1)\n",
<<<<<<< HEAD
    "min_elements = np.amin(x, axis=0) \n",
=======
    "min_elements = np.amin(x, axis=0)\n",
>>>>>>> master
    "summa / min_elements"
   ]
  },
  {
   "cell_type": "code",
<<<<<<< HEAD
   "execution_count": 31,
=======
   "execution_count": 26,
>>>>>>> master
   "id": "9cfbb866-d983-48b2-bbe3-942d0a51feee",
   "metadata": {},
   "outputs": [
    {
     "name": "stdout",
     "output_type": "stream",
     "text": [
      "[8 5 9 9 9 3 0 0 2 8]\n"
     ]
    },
    {
     "data": {
      "text/plain": [
       "array([0.88888889, 0.55555556, 1.        , 1.        , 1.        ,\n",
       "       0.33333333, 0.        , 0.        , 0.22222222, 0.88888889])"
      ]
     },
<<<<<<< HEAD
     "execution_count": 31,
=======
     "execution_count": 26,
>>>>>>> master
     "metadata": {},
     "output_type": "execute_result"
    }
   ],
   "source": [
    "# 25\n",
    "\n",
    "# 1. Создайте одномерный массив длины 10, заполненный случайными значениями\n",
    "# 2. Линейно отобразите элементы массива в отрезок [0, 1], при этом минимальный элемент должен отобразиться в 0, а максимальный - в 1\n",
    "\n",
    "x = np.random.randint(10, size=10)\n",
    "print(x)\n",
<<<<<<< HEAD
    "minim = np.min(x)\n",
    "denom = np.ptp(x)\n",
    "(x - minim) / denom"
=======
    "(x - np.min(x)) / (np.max(x) - np.min(x))"
>>>>>>> master
   ]
  },
  {
   "cell_type": "code",
<<<<<<< HEAD
   "execution_count": 32,
=======
   "execution_count": 27,
>>>>>>> master
   "id": "9520f28a-bafe-4d76-a35a-9ca0622ca996",
   "metadata": {},
   "outputs": [
    {
     "name": "stdout",
     "output_type": "stream",
     "text": [
      "[[nan nan nan 15. 16.]\n",
      " [10. nan nan nan 14.]\n",
      " [nan 17. 16. 15. nan]\n",
      " [11. 16. nan nan 12.]\n",
      " [nan nan 13. 19. nan]]\n",
      "[[10.5        16.5        14.5        15.         16.        ]\n",
      " [10.         16.5        14.5        16.33333333 14.        ]\n",
      " [10.5        17.         16.         15.         14.        ]\n",
      " [11.         16.         14.5        16.33333333 12.        ]\n",
      " [10.5        16.5        13.         19.         14.        ]]\n"
     ]
    }
   ],
   "source": [
    "# 26\n",
    "\n",
    "# Замените все вхождения nan в двумерный массив средним значением по соответствующему столбцу\\\n",
    "\n",
    "np.random.seed(100)\n",
    "x = np.random.randint(20, size=25).reshape(5, 5)\n",
    "x = x.astype(float)\n",
<<<<<<< HEAD
    "\n",
    "x[x < 10] = np.nan\n",
    "print(x)\n",
    "\n",
    "means = np.nanmean(x, axis=0)\n",
    "inds = np.nonzero(np.isnan(x))\n",
    "x[inds] = means[inds[1]]\n",
=======
    "mean_values = np.mean(x, axis=1)\n",
    "x[x < 10] = np.nan\n",
    "print(x)\n",
    "means = np.nanmean(x, axis=0)\n",
    "inds = np.where(np.isnan(x))\n",
    "x[inds] = np.take(means, inds[1])\n",
>>>>>>> master
    "print(x)"
   ]
  },
  {
   "cell_type": "code",
<<<<<<< HEAD
   "execution_count": 33,
=======
   "execution_count": 28,
>>>>>>> master
   "id": "9dc3b63b-f0f6-4a91-a60a-d10d08adf114",
   "metadata": {},
   "outputs": [
    {
     "name": "stdout",
     "output_type": "stream",
     "text": [
      "[[0 0 1 1 0]\n",
      " [0 0 1 1 1]\n",
      " [0 1 1 1 0]\n",
      " [0 1 0 0 0]\n",
      " [0 1 1 0 0]]\n"
     ]
    },
    {
     "data": {
      "text/plain": [
       "array([ True, False, False, False, False])"
      ]
     },
<<<<<<< HEAD
     "execution_count": 33,
=======
     "execution_count": 28,
>>>>>>> master
     "metadata": {},
     "output_type": "execute_result"
    }
   ],
   "source": [
    "# 27\n",
    "\n",
    "# Проверьте, есть ли в двумерном массиве столбец, полностью заполненый нулями.\n",
    "\n",
    "np.random.seed(3)\n",
    "x = np.random.randint(2, size=25).reshape(5, 5)\n",
    "x[-2][0] = 0\n",
    "print(x)\n",
<<<<<<< HEAD
    "np.all(x == 0, axis=0) # array.array.astype(bool); ~np.any(array, axis=0)"
=======
    "np.all(x[:, :] == 0, axis=0)"
>>>>>>> master
   ]
  },
  {
   "cell_type": "code",
<<<<<<< HEAD
   "execution_count": 34,
=======
   "execution_count": 29,
>>>>>>> master
   "id": "4fdefaee-8b78-49ab-b3aa-eee97fba5406",
   "metadata": {},
   "outputs": [
    {
     "data": {
      "text/plain": [
       "array([[74, 45, 52, 61],\n",
       "       [27, 30, 48, 43],\n",
       "       [41, 48, 69, 54]])"
      ]
     },
<<<<<<< HEAD
     "execution_count": 34,
=======
     "execution_count": 29,
>>>>>>> master
     "metadata": {},
     "output_type": "execute_result"
    }
   ],
   "source": [
    "# 28\n",
    "\n",
    "# 1. Создайте массив случайных чисел от 0 до 9 размером 3x4x3x4\n",
    "# 2. Вычислите суммы элементов по двум последним осям\n",
    "\n",
    "np.random.seed(3)\n",
    "x = np.random.randint(10, size=144).reshape(3, 4, 3, 4)\n",
    "np.sum(x, axis=(2, 3))"
   ]
  },
  {
   "cell_type": "code",
<<<<<<< HEAD
   "execution_count": 35,
=======
   "execution_count": 30,
>>>>>>> master
   "id": "ea6ec1d0-8621-45ef-a42a-891aa1e74501",
   "metadata": {},
   "outputs": [
    {
     "name": "stdout",
     "output_type": "stream",
     "text": [
      "[8 9 3 8 8 0 5 3 9 9]\n",
      "[10  6  0 12  7 14 17  2  2  1]\n"
     ]
    },
    {
     "data": {
      "text/plain": [
       "array([ 8.,  6.,  3., 12.,  8., 14.,  5.,  2.,  9.,  1.])"
      ]
     },
<<<<<<< HEAD
     "execution_count": 35,
=======
     "execution_count": 30,
>>>>>>> master
     "metadata": {},
     "output_type": "execute_result"
    }
   ],
   "source": [
    "# 29\n",
    "\n",
    "# 1. Любым способом создайте два массива одинаковой длины\n",
    "# 2. Создайте массив, в котором на четных позициях будут стоять элементы с соответствующих позиций первого массива,\n",
    "# а на нечетных - с соответствующих позиций второго\n",
    "\n",
    "np.random.seed(3)\n",
    "x = np.random.randint(10, size=10)\n",
    "y = np.random.randint(20, size=10)\n",
<<<<<<< HEAD
    "z = np.zeros(10) # лучше empty\n",
=======
    "z = np.zeros(10)\n",
>>>>>>> master
    "z[::2] = x[::2]\n",
    "z[1::2] = y[1::2]\n",
    "print(x)\n",
    "print(y)\n",
    "z"
   ]
  },
  {
   "cell_type": "code",
<<<<<<< HEAD
   "execution_count": 36,
=======
   "execution_count": 31,
>>>>>>> master
   "id": "1c8434b6-d5f7-42be-a72d-90c6c77b3308",
   "metadata": {},
   "outputs": [
    {
     "name": "stdout",
     "output_type": "stream",
     "text": [
      "[[ 1.  2.]\n",
      " [nan  3.]\n",
      " [ 5.  5.]\n",
      " [nan nan]]\n"
     ]
    },
    {
     "data": {
      "text/plain": [
       "0.375"
      ]
     },
<<<<<<< HEAD
     "execution_count": 36,
=======
     "execution_count": 31,
>>>>>>> master
     "metadata": {},
     "output_type": "execute_result"
    }
   ],
   "source": [
    "# 30\n",
    "\n",
    "# На примере массива x = np.array([[1., 2.], [np.nan, 3.], [5., 5.], [np.nan, np.nan]]) вычислите долю пропущенных значений\n",
    "\n",
    "x = np.array([[1., 2.], [np.nan, 3.], [5., 5.], [np.nan, np.nan]])\n",
    "print(x)\n",
<<<<<<< HEAD
    "np.isnan(x).mean()"
=======
    "np.isnan(x).sum()/np.prod(x.shape)"
>>>>>>> master
   ]
  },
  {
   "cell_type": "code",
<<<<<<< HEAD
   "execution_count": 37,
=======
   "execution_count": 32,
>>>>>>> master
   "id": "82dc74ce-8f59-48fe-b6ea-573746af0ed9",
   "metadata": {},
   "outputs": [
    {
     "data": {
      "text/plain": [
       "array([1., 2., 3., 5.])"
      ]
     },
<<<<<<< HEAD
     "execution_count": 37,
=======
     "execution_count": 32,
>>>>>>> master
     "metadata": {},
     "output_type": "execute_result"
    }
   ],
   "source": [
    "# 31\n",
    "\n",
    "# На примере массива x = np.array([[1., 2.], [np.nan, 3.], [5., 5.], [np.nan, np.nan]])\n",
    "# составьте массив из уникальных значений массива без учета nan\n",
    "\n",
    "x = np.array([[1., 2.], [np.nan, 3.], [5., 5.], [np.nan, np.nan]])\n",
    "np.unique(x[~np.isnan(x)])"
   ]
  },
  {
   "cell_type": "code",
<<<<<<< HEAD
   "execution_count": 38,
=======
   "execution_count": 33,
>>>>>>> master
   "id": "80b19607-458e-4ba4-919d-6c75e6901a27",
   "metadata": {},
   "outputs": [
    {
     "data": {
      "text/plain": [
       "5"
      ]
     },
<<<<<<< HEAD
     "execution_count": 38,
=======
     "execution_count": 33,
>>>>>>> master
     "metadata": {},
     "output_type": "execute_result"
    }
   ],
   "source": [
    "# 32 \n",
    "\n",
    "# На примере массива x = np.array([6, 2, 0, 3, 0, 0, 5, 7, 0]) найдите максимальный элемент в массиве среди элементов,\n",
    "# перед которыми стоит нулевой\n",
    "\n",
    "x = np.array([6, 2, 0, 3, 0, 0, 5, 7, 0])\n",
    "np.max(x[1:][x[1:] == np.diff(x)])"
   ]
  },
  {
   "cell_type": "code",
<<<<<<< HEAD
   "execution_count": 39,
=======
   "execution_count": 34,
>>>>>>> master
   "id": "99487dc6-07d9-41d2-8a95-9d908fd204a1",
   "metadata": {},
   "outputs": [
    {
     "data": {
      "text/plain": [
       "array([0.8       , 1.5       , 0.        , 0.66666667, 1.14285714,\n",
       "       0.        , 0.29411765, 1.5       , 4.5       , 9.        ])"
      ]
     },
<<<<<<< HEAD
     "execution_count": 39,
=======
     "execution_count": 34,
>>>>>>> master
     "metadata": {},
     "output_type": "execute_result"
    }
   ],
   "source": [
    "# 33\n",
    "\n",
    "# Пусть заданы два массива одинакового размера. Поэлементно разделите один массив на другой. \n",
    "# В случае, если делитель равен нулю, соответствующему элементу результирующего массива присвойте нуль.\n",
    "\n",
    "np.random.seed(3)\n",
    "x = np.random.randint(10, size=10).astype(float)\n",
    "y = np.random.randint(20, size=10).astype(float)\n",
    "np.divide(x, y, out=np.zeros_like(x), where=y!=0)"
   ]
  },
  {
   "cell_type": "code",
<<<<<<< HEAD
   "execution_count": 40,
=======
   "execution_count": 35,
>>>>>>> master
   "id": "877356df-7935-4481-8322-d78fbd7cc72b",
   "metadata": {},
   "outputs": [
    {
     "data": {
      "text/plain": [
       "array([2., 2., 2., 2., 1., 4., 1., 1., 2., 1.])"
      ]
     },
<<<<<<< HEAD
     "execution_count": 40,
=======
     "execution_count": 35,
>>>>>>> master
     "metadata": {},
     "output_type": "execute_result"
    }
   ],
   "source": [
    "# 34 \n",
    "\n",
    "# Пусть заданы два массива x = np.ones(10) и i = np.array([0, 1, 2, 3, 5, 5, 5, 8]). \n",
    "# Прибавьте единицу к тем элементам массива x, индексы которых указаны в массиве i.\n",
    "# В случае, если некоторый индекс встретился в массиве i несколько раз, \n",
    "# прибавьте к соответствующему элементу массива x число вхождений данного индекса в массив i.\\\n",
    "\n",
    "x = np.ones(10)\n",
    "i = np.array([0, 1, 2, 3, 5, 5, 5, 8])\n",
    "\n",
    "x + np.bincount(i, minlength=len(x))"
   ]
  },
  {
   "cell_type": "code",
<<<<<<< HEAD
   "execution_count": 41,
=======
   "execution_count": 36,
>>>>>>> master
   "id": "c78b1743-52c5-4393-b86f-db83e1d1dd9b",
   "metadata": {},
   "outputs": [
    {
     "data": {
      "text/plain": [
       "array([ 0,  0,  3,  8, 10, 10, 11])"
      ]
     },
<<<<<<< HEAD
     "execution_count": 41,
=======
     "execution_count": 36,
>>>>>>> master
     "metadata": {},
     "output_type": "execute_result"
    }
   ],
   "source": [
    "# 35\n",
    "\n",
    "# По заданному массиву y = np.bincount([0, 0, 3, 8, 10, 10, 11]) постройте массив x такой, чтобы np.bincount(x) = y\n",
    "\n",
    "y = np.bincount([0, 0, 3, 8, 10, 10, 11]) \n",
    "x = np.repeat(np.arange(y.size), y)\n",
    "x"
   ]
  },
  {
   "cell_type": "code",
<<<<<<< HEAD
   "execution_count": 42,
=======
   "execution_count": 37,
>>>>>>> master
   "id": "3c18d9dc-61eb-498d-9e85-d438b41957cf",
   "metadata": {},
   "outputs": [
    {
     "data": {
      "text/plain": [
       "array([0, 4, 6])"
      ]
     },
<<<<<<< HEAD
     "execution_count": 42,
=======
     "execution_count": 37,
>>>>>>> master
     "metadata": {},
     "output_type": "execute_result"
    }
   ],
   "source": [
    "# 36\n",
    "\n",
    "#  Определите самые часто встречающиеся элементы в массиве целых неотрицательных чисел.\n",
    "# Решите задачу на примере массива x = np.array([0,1,2,0,6,6,7,4,5,4]).\n",
    "\n",
    "x = np.array([0, 1, 2, 0, 6, 6, 7, 4, 5, 4])\n",
    "unique, count = np.unique(x, return_counts=True)\n",
    "unique[count == count.max()]"
   ]
  },
  {
   "cell_type": "code",
<<<<<<< HEAD
   "execution_count": 43,
=======
   "execution_count": 38,
>>>>>>> master
   "id": "5e0d702b-6bf2-4a15-9c57-c29b5a34b163",
   "metadata": {},
   "outputs": [
    {
     "data": {
      "text/plain": [
       "[array([[1, 2],\n",
<<<<<<< HEAD
       "        [1, 2]]),\n",
       " array([[2, 3]]),\n",
       " array([[3, 4],\n",
       "        [3, 5]])]"
      ]
     },
     "execution_count": 43,
=======
       "        [1, 3]]),\n",
       " array([[2, 2],\n",
       "        [3, 4]]),\n",
       " array([[3, 5]])]"
      ]
     },
     "execution_count": 38,
>>>>>>> master
     "metadata": {},
     "output_type": "execute_result"
    }
   ],
   "source": [
<<<<<<< HEAD
    "# 37 \n",
=======
    "# 37\n",
>>>>>>> master
    "\n",
    "# Разбейте двумерный массив на список двумерных массивов по уникальным значениям в первом столбце.\n",
    "# Решите задачу на примере массива x = np.array([[1, 2], [1, 3], [2, 2], [3, 4], [3, 5]]), \n",
    "# в результате должен получиться список [array([[1, 2], [1, 3]]), array([[2, 2]]), array([[3, 4], [3, 5]])].\n",
    "\n",
    "x = np.array([[1, 2], [1, 3], [2, 2], [3, 4], [3, 5]])\n",
<<<<<<< HEAD
    "x = np.sort(x, axis=0)\n",
    "num, indices, counts = np.unique(x[:, 0], return_index=True, return_counts=True)\n",
    "\n",
    "np.array_split(x, indices[:-1]+counts[:-1])"
=======
    "np.array_split(x, len(np.unique(x[:, :][:, 0])))"
>>>>>>> master
   ]
  },
  {
   "cell_type": "code",
<<<<<<< HEAD
   "execution_count": 44,
   "id": "18cc83f9-c828-4fef-840c-22c487a6e85b",
   "metadata": {},
   "outputs": [
    {
     "data": {
      "text/plain": [
       "[array([0, 2, 2, 8]),\n",
       " array([10, 11, 13, 18]),\n",
       " array([20, 24]),\n",
       " array([], dtype=int64),\n",
       " array([], dtype=int64),\n",
       " array([], dtype=int64),\n",
       " array([], dtype=int64),\n",
       " array([], dtype=int64),\n",
       " array([84])]"
      ]
     },
     "execution_count": 44,
     "metadata": {},
     "output_type": "execute_result"
    }
   ],
   "source": [
    "# 38 \n",
=======
   "execution_count": 39,
   "id": "18cc83f9-c828-4fef-840c-22c487a6e85b",
   "metadata": {},
   "outputs": [],
   "source": [
    "# 38\n",
>>>>>>> master
    "\n",
    "# По заданному одномерному массиву неотрицательных чисел постройте список подмассивов, \n",
    "# сожержащих элементы из полуинтервалов [i * 10, (i+1) * 10), i = 0, 1, 2, …\n",
    "# Решите задачу на примере массива x = np.array([8, 2, 34, 0, 11, 18, 13, 2, 24, 10, 20]),\n",
    "# в результате должен получиться список [array([0, 2, 2, 8]), array([10, 11, 13, 18]), array([20, 24]), array([34])].\n",
    "\n",
<<<<<<< HEAD
    "x = np.array([8, 2, 84, 0, 11, 18, 13, 2, 24, 10, 20])\n",
    "x = np.sort(x)\n",
    "\n",
    "np.array_split(x, np.searchsorted(x, np.arange(10, x[-1], 10)))"
=======
    "x = np.array([8, 2, 34, 0, 11, 18, 13, 2, 24, 10, 20])\n",
    "groups = max(x) // 10 + 1\n",
    "# np.array_split(np.sort(x), groups)"
>>>>>>> master
   ]
  },
  {
   "cell_type": "code",
<<<<<<< HEAD
   "execution_count": 45,
=======
   "execution_count": 40,
>>>>>>> master
   "id": "f6245ffc-8f18-43f0-a8df-75f245225182",
   "metadata": {},
   "outputs": [],
   "source": [
    "# 39\n",
    "\n",
    "# Перечислите все известные вам способы соединения заданных двумерных массивов по вертикали. \n",
<<<<<<< HEAD
    "# Какой из способов работает быстрее?"
=======
    "# Какой из способов работает быстрее?\n",
    "\n",
    "# np.concatenate (use twice memory), np.vstack, np.append"
>>>>>>> master
   ]
  },
  {
   "cell_type": "code",
<<<<<<< HEAD
   "execution_count": 46,
=======
   "execution_count": 41,
>>>>>>> master
   "id": "8b91679c-824d-45fe-9e47-5c051f0adedd",
   "metadata": {},
   "outputs": [
    {
     "data": {
      "text/plain": [
       "array([[0, 0],\n",
       "       [0, 1],\n",
       "       [0, 2],\n",
       "       [0, 3],\n",
       "       [0, 4],\n",
       "       [1, 0],\n",
       "       [1, 1],\n",
       "       [1, 2],\n",
       "       [1, 3],\n",
       "       [1, 4],\n",
       "       [2, 0],\n",
       "       [2, 1],\n",
       "       [2, 2],\n",
       "       [2, 3],\n",
       "       [2, 4]])"
      ]
     },
<<<<<<< HEAD
     "execution_count": 46,
=======
     "execution_count": 41,
>>>>>>> master
     "metadata": {},
     "output_type": "execute_result"
    }
   ],
   "source": [
    "# 40\n",
    "\n",
    "# Для двух одномерных массивов x = np.arange(3) и y = np.arange(5) постройте \n",
    "# двумерный массив строки которого - всевозможные пары элементов из x и y.\n",
    "\n",
    "x = np.arange(3)\n",
    "y = np.arange(5)\n",
    "\n",
    "np.array(np.meshgrid(x, y)).T.reshape(-1,2)"
   ]
  },
  {
   "cell_type": "code",
<<<<<<< HEAD
   "execution_count": 47,
=======
   "execution_count": 42,
>>>>>>> master
   "id": "78d76201-d301-44b4-85c6-f3a3674bba99",
   "metadata": {},
   "outputs": [
    {
     "data": {
      "text/plain": [
<<<<<<< HEAD
       "array(<zip object at 0x7f1059ad8fc0>, dtype=object)"
      ]
     },
     "execution_count": 47,
=======
       "array([[1, 5],\n",
       "       [2, 6],\n",
       "       [3, 7],\n",
       "       [4, 8]])"
      ]
     },
     "execution_count": 42,
>>>>>>> master
     "metadata": {},
     "output_type": "execute_result"
    }
   ],
   "source": [
    "# 41\n",
    "\n",
    "# По двум входным одномерным массивам одинаковой длины составьте массив пар элементов с одинаковыми индесами.\n",
    "# Решите задачу на примере массивов x = np.array([1,2,3,4]) и y = np.array([5,6,7,8]).\n",
    "\n",
    "x = np.array([1, 2, 3, 4])\n",
    "y = np.array([5, 6, 7, 8])\n",
<<<<<<< HEAD
    "np.array(zip(x, y))"
   ]
  },
  {
   "cell_type": "code",
   "execution_count": 48,
   "id": "c4a3c2bb-f1dc-4f3b-b550-96545b912c17",
   "metadata": {},
   "outputs": [],
   "source": [
    "x2 = np.arange(10000)\n",
    "y2 = np.arange(1, 20000, 2)"
   ]
  },
  {
   "cell_type": "code",
   "execution_count": 49,
   "id": "ff4b90fc-8716-450a-a0ff-62c0d12a9bcf",
   "metadata": {},
   "outputs": [
    {
     "name": "stdout",
     "output_type": "stream",
     "text": [
      "1.19 µs ± 1.17 ns per loop (mean ± std. dev. of 7 runs, 1000000 loops each)\n"
     ]
    }
   ],
   "source": [
    "%%timeit\n",
    "\n",
    "np.array(zip(x2, y2))"
   ]
  },
  {
   "cell_type": "code",
   "execution_count": 50,
   "id": "0620ca95-f7c1-4b04-a143-bcd5433359db",
   "metadata": {},
   "outputs": [
    {
     "name": "stdout",
     "output_type": "stream",
     "text": [
      "20.6 µs ± 34.9 ns per loop (mean ± std. dev. of 7 runs, 10000 loops each)\n"
     ]
    }
   ],
   "source": [
    "%%timeit\n",
    "\n",
    "np.column_stack([x2, y2]) # 1 \n",
    "np.concatenate([x2.reshape(-1, 1), y2.reshape(-1, 1)], axis=1) # 2"
=======
    "np.array(list(zip(x, y)))"
>>>>>>> master
   ]
  },
  {
   "cell_type": "code",
<<<<<<< HEAD
   "execution_count": 51,
   "id": "d0b1edb7-08f3-4e1c-a939-c73b4f2c8181",
   "metadata": {},
   "outputs": [
    {
     "name": "stdout",
     "output_type": "stream",
     "text": [
      "[array([[1, 2],\n",
      "       [3, 4]]), array([[5, 6],\n",
      "       [7, 8]]), array([[ 9, 10],\n",
      "       [11, 12]])]\n"
     ]
    },
    {
     "data": {
      "text/plain": [
       "array([[[ 1,  2],\n",
       "        [ 0,  0],\n",
       "        [ 3,  4]],\n",
       "\n",
       "       [[ 5,  6],\n",
       "        [ 0,  0],\n",
       "        [ 7,  8]],\n",
       "\n",
       "       [[ 9, 10],\n",
       "        [ 0,  0],\n",
       "        [11, 12]]])"
      ]
     },
     "execution_count": 51,
     "metadata": {},
     "output_type": "execute_result"
    }
   ],
   "source": [
    "# 42\n",
    " \n",
=======
   "execution_count": 43,
   "id": "d0b1edb7-08f3-4e1c-a939-c73b4f2c8181",
   "metadata": {},
   "outputs": [],
   "source": [
    "# 42\n",
    "\n",
>>>>>>> master
    "# По заданному непустому списку двумерных массивов одинаковых размеров составьте трехмерный массив \n",
    "# в котором вдоль нулевой оси расположены массивы из списка, между каждой парой которых \n",
    "# вставлен массив полностью заполненный нулями.\n",
    "# Решите задачу для списка l = [np.array([[1, 2], [3, 4]]), np.array([[5, 6], [7, 8]]), np.array([[9, 10], [11, 12]])].\n",
    "\n",
<<<<<<< HEAD
    "l = [np.array([[1, 2], [3, 4]]), np.array([[5, 6], [7, 8]]), np.array([[9, 10], [11, 12]])]\n",
    "print(l)\n",
    "\n",
    "array = np.vstack(l).reshape(3, 2, 2)\n",
    "np.insert(array, 1, np.zeros(2), axis=1)"
=======
    "l = [np.array([[1, 2], [3, 4]]), np.array([[5, 6], [7, 8]]), np.array([[9, 10], [11, 12]])]"
>>>>>>> master
   ]
  },
  {
   "cell_type": "code",
<<<<<<< HEAD
   "execution_count": 52,
=======
   "execution_count": 44,
>>>>>>> master
   "id": "4952ead5-ce26-4285-8b6c-33b574067e6b",
   "metadata": {},
   "outputs": [
    {
     "data": {
      "text/plain": [
       "array([[3, 7, 2, 5],\n",
       "       [7, 2, 5, 0],\n",
       "       [2, 5, 0, 9],\n",
       "       [5, 0, 9, 8],\n",
       "       [0, 9, 8, 2],\n",
       "       [9, 8, 2, 4],\n",
<<<<<<< HEAD
       "       [8, 2, 4, 5],\n",
       "       [2, 4, 5, 8]])"
      ]
     },
     "execution_count": 52,
=======
       "       [8, 2, 4, 5]])"
      ]
     },
     "execution_count": 44,
>>>>>>> master
     "metadata": {},
     "output_type": "execute_result"
    }
   ],
   "source": [
    "# 43\n",
    "\n",
    "# Преобразуйте одномерный массив x = np.array([3,7,2,5,0,9,8,2,4,5]) в двумерный массив, \n",
    "# первая строка которого - элементы массива x с индексами от 0 до 4, вторая строка - с 1 до 5 и т.д.\n",
    "\n",
<<<<<<< HEAD
    "array = np.array([3, 7, 2, 5, 0, 9, 8, 2, 4, 5, 8])\n",
    "\n",
    "dw = 4\n",
    "N = len(array)\n",
    "dh = N - dw + 1\n",
    "\n",
    "shape = (dh, dw)\n",
    "strides = array.itemsize * np.array([1, 1])\n",
    "\n",
    "np.lib.stride_tricks.as_strided(array, shape=shape,  strides=strides)"
   ]
  },
  {
   "cell_type": "code",
   "execution_count": 53,
   "id": "4a01264d-7742-4e97-bde7-594f6f2272e3",
   "metadata": {},
   "outputs": [
    {
     "name": "stdout",
     "output_type": "stream",
     "text": [
      "[[ 0  2  4  6]\n",
      " [14 16 18 20]\n",
      " [28 30 32 34]\n",
      " [42 44 46 48]]\n"
     ]
    },
    {
     "data": {
      "text/plain": [
       "array([[[[ 0,  1,  2],\n",
       "         [ 4,  5,  6],\n",
       "         [ 8,  9, 10]],\n",
       "\n",
       "        [[ 1,  2,  3],\n",
       "         [ 5,  6,  7],\n",
       "         [ 9, 10, 11]]],\n",
       "\n",
       "\n",
       "       [[[ 4,  5,  6],\n",
       "         [ 8,  9, 10],\n",
       "         [12, 13, 14]],\n",
       "\n",
       "        [[ 5,  6,  7],\n",
       "         [ 9, 10, 11],\n",
       "         [13, 14, 15]]]])"
      ]
     },
     "execution_count": 53,
     "metadata": {},
     "output_type": "execute_result"
    }
   ],
   "source": [
    "# 44\n",
    "\n",
    "# Для заданного двумерного массива постройте трехмерный массив, содержащий всевозможные неперекрывающиеся блоки размера 3x3,\n",
    "# начиная с левого верхнего угла. Если высота/ширина исходного массива не кратна трем, \n",
    "# исключите из рассмотрения последние строки/столбцы.\n",
    "# Решите задачу на примере массива x = np.arange(49).reshape(7,7).\n",
    "\n",
    "x = np.arange(49).reshape(7, 7)[::2, ::2]\n",
    "print(x)\n",
    "\n",
    "h, w = x.shape\n",
    "n = 3\n",
    "\n",
    "shape = (h - n + 1, w - n + 1, n, n)\n",
    "strides = x.itemsize * np.array([w, 1, w, 1])\n",
    "\n",
    "np.lib.stride_tricks.as_strided(x, shape=shape, strides=strides)"
   ]
  },
  {
   "cell_type": "code",
   "execution_count": 54,
   "id": "52700088-01bc-4886-8632-b291e89d5877",
   "metadata": {},
   "outputs": [
    {
     "data": {
      "text/plain": [
       "(masked_array(data=[--, 0.0, 0.0, 0.0, 0.0, 0.0, 0.0, 0.0, 0.0, 0.0, 0.0,\n",
       "                    0.0, 0.0, 0.0, 0.0, 0.0, 0.0, 0.0, 0.0, 0.0],\n",
       "              mask=[ True, False, False, False, False, False, False, False,\n",
       "                    False, False, False, False, False, False, False, False,\n",
       "                    False, False, False, False],\n",
       "        fill_value=1e+20),\n",
       " 0.0)"
      ]
     },
     "execution_count": 54,
     "metadata": {},
     "output_type": "execute_result"
    }
   ],
   "source": [
    "# 45\n",
    "\n",
    "# Примените маску к элементам одномерного массива, отличающимся от среднего на величину,\n",
    "# большую чем 3 стандартных отклонения.\n",
    "# Решите задачу на примере массива из 20 элеметнов,\n",
    "# первый из которых равен 100, а остальные равны 0.\n",
    "\n",
    "x = np.zeros(20)\n",
    "x[0] = 100\n",
    "\n",
    "mx = np.ma.masked_where(np.abs(x-x.mean()) > x.std() * 3, x)\n",
    "mx, mx.std()"
   ]
  },
  {
   "cell_type": "code",
   "execution_count": 55,
   "id": "13def7c8-f5c8-43cc-a1af-f3095ae67b8d",
   "metadata": {},
   "outputs": [
    {
     "name": "stdout",
     "output_type": "stream",
     "text": [
      "[[-- -- 3]\n",
      " [4 -- 6]]\n"
     ]
    },
    {
     "data": {
      "text/plain": [
       "masked_array(\n",
       "  data=[[--, 3],\n",
       "        [4, 6]],\n",
       "  mask=[[ True, False],\n",
       "        [False, False]],\n",
       "  fill_value=999999)"
      ]
     },
     "execution_count": 55,
     "metadata": {},
     "output_type": "execute_result"
    }
   ],
   "source": [
    "# 46\n",
    "\n",
    "# Удалите из двумерного массива столбцы, ко всем элементам которых применена маска.\n",
    "# Решите задачу на примере массива x = np.ma.array([[1, 2, 3], [4, 5, 6]], mask=[[1, 1, 0], [0, 1, 0]])\n",
    "\n",
    "x = np.ma.array([[1, 2, 3], [4, 5, 6]], mask=[[1, 1, 0], [0, 1, 0]])\n",
    "print(x)\n",
    "mask = ~np.all(np.ma.getmaskarray(x), axis=0)\n",
    "x[:, mask]"
   ]
  },
  {
   "cell_type": "code",
   "execution_count": 56,
   "id": "a4404ea3-f10a-479d-bf76-eb51d5ec7aab",
   "metadata": {},
   "outputs": [
    {
     "name": "stdout",
     "output_type": "stream",
     "text": [
      "[[  0   1   2   3   4]\n",
      " [  5   6 200   8   9]\n",
      " [ 10  11  12  13  14]\n",
      " [ 15  16  17 150  19]\n",
      " [ 20  21  22  23  24]]\n"
     ]
    },
    {
     "data": {
      "text/plain": [
       "masked_array(\n",
       "  data=[[--, 1, 2, 3, --],\n",
       "        [--, 6, --, 8, 9],\n",
       "        [--, 11, 12, 13, --],\n",
       "        [--, 16, 17, --, 19],\n",
       "        [--, 21, 22, 23, --]],\n",
       "  mask=[[ True, False, False, False,  True],\n",
       "        [ True, False,  True, False, False],\n",
       "        [ True, False, False, False,  True],\n",
       "        [ True, False, False,  True, False],\n",
       "        [ True, False, False, False,  True]],\n",
       "  fill_value=999999)"
      ]
     },
     "execution_count": 56,
     "metadata": {},
     "output_type": "execute_result"
    }
   ],
   "source": [
    "# 47\n",
    "\n",
    "# Примените маску к минимальному и максимальному элементу каждой строки двумерного массива.\n",
    "# Решите задачу на примере массива x = np.arange(25).reshape(5, 5)\n",
    "\n",
    "x = np.arange(25).reshape(5, 5)\n",
    "x[3, 3] = 150\n",
    "x[1, 2] = 200\n",
    "print(x)\n",
    "\n",
    "maxes = np.ma.max(x, axis=1)\n",
    "minims = np.ma.min(x, axis=1)\n",
    "\n",
    "mask = (x < maxes[:, None]) & (x > minims[:, None])\n",
    "np.ma.array(x, mask=~mask)"
   ]
  },
  {
   "cell_type": "code",
   "execution_count": 57,
   "id": "ed83be27-fcdd-46a4-9b2b-85d1363a8663",
   "metadata": {},
   "outputs": [
    {
     "name": "stdout",
     "output_type": "stream",
     "text": [
      "[[  3.   3.   3.   8. 100.]\n",
      " [  3.   3.   8. 100.  -3.]\n",
      " [  3.   8. 100.  -3.  -7.]\n",
      " [  8. 100.  -3.  -7.   4.]\n",
      " [100.  -3.  -7.   4.   0.]\n",
      " [ -3.  -7.   4.   0.   2.]\n",
      " [ -7.   4.   0.   2.   2.]\n",
      " [  4.   0.   2.   2.   2.]]\n",
      "[3. 3. 3. 4. 0. 0. 2. 2.]\n"
     ]
    }
   ],
   "source": [
    "# 48 \n",
    "\n",
    "# Примените медианный фильтр с нечетной шириной окна k к заданному одномерному массиву \n",
    "# a: i-е значение результирующего массива вычисляется как медиана подмассива a[i - (k-1)/2: i + (k-1)/2 + 1].\n",
    "# В случае если границы окна выходят за границы массива, дополните исходный массив требуемым числом элементов a[0] или a[-1] с нужной стороны.\n",
    "# Решите задачу на примере массива a = np.array([3, 8, 100, -3, -7, 4, 0, 2]) и ширины окна k = 5.\n",
    "\n",
    "k = 5\n",
    "a = np.array([3, 8, 100, -3, -7, 4, 0, 2])\n",
    "term = (k - 1) // 2\n",
    "\n",
    "expanded_a = np.zeros((len(a), k))\n",
    "result = np.empty(len(a))\n",
    "j = term - 1\n",
    "\n",
    "for i, value in enumerate(a):\n",
    "    if i < term:\n",
    "        expanded_a[i, :term - i] = a[0]\n",
    "        expanded_a[i, term - i:] = a[: i + term + 1]\n",
    "    elif i >= len(a) - term:\n",
    "        expanded_a[i, j-term:] = a[-1]\n",
    "        expanded_a[i, :j-term] = a[i-term:]\n",
    "        j -= 1\n",
    "    else:\n",
    "        expanded_a[i, :] = a[i - term:i + term + 1]\n",
    "        \n",
    "print(expanded_a)\n",
    "print(np.median(expanded_a, axis=1))"
   ]
  },
  {
   "cell_type": "code",
   "execution_count": 58,
   "id": "a269c697-c7e5-4898-ab70-7bc55f3dc04a",
   "metadata": {},
   "outputs": [
    {
     "name": "stdout",
     "output_type": "stream",
     "text": [
      "[[10  1]\n",
      " [ 3  1]\n",
      " [ 8  2]\n",
      " [ 6  1]\n",
      " [12  5]]\n"
     ]
    },
    {
     "data": {
      "text/plain": [
       "array([13.,  6., 16.,  9., 12.])"
      ]
     },
     "execution_count": 58,
     "metadata": {},
     "output_type": "execute_result"
    }
   ],
   "source": [
    "# 49\n",
    "\n",
    "# По заданному массиву a размера Nx2 постройте одномерный массив длины N, i-й элемент которого\n",
    "# - сумма i-го элемента первого столбца массива a и элемента первого столбца, \n",
    "# индекс которого содержится в i-й строке второго столбца. В случае, если во втором столбце массива a содержится индекс,\n",
    "# выходящий за границы, к элементу первого столбца ничего не прибавляйте.\n",
    "# Решите задачу на примере массива a = np.array([[10, 1], [3, 1], [8, 2], [6, 1], [12, 5]]).\n",
    "\n",
    "a = np.array([[10, 1], [3, 1], [8, 2], [6, 1], [12, 5]])\n",
    "print(a)\n",
    "\n",
    "result = np.empty(a.shape[0])\n",
    "it = np.nditer(result, flags=['f_index'])\n",
    "\n",
    "for x in it:\n",
    "    ind = a[it.index, 1]\n",
    "    result[it.index] = a[it.index, 0] + (a[ind, 0] if len(a) > ind else 0)\n",
    "    \n",
    "result"
   ]
  },
  {
   "cell_type": "code",
   "execution_count": 59,
   "id": "dbbd7731-4a2a-491b-ae9c-0520ffa66841",
   "metadata": {},
   "outputs": [
    {
     "name": "stdout",
     "output_type": "stream",
     "text": [
      "[[10  1]\n",
      " [ 3  1]\n",
      " [ 8  2]\n",
      " [ 6  1]\n",
      " [12  5]]\n"
     ]
    },
    {
     "data": {
      "text/plain": [
       "array([13,  6, 16,  9, 12])"
      ]
     },
     "execution_count": 59,
     "metadata": {},
     "output_type": "execute_result"
    }
   ],
   "source": [
    "a = np.array([[10, 1], [3, 1], [8, 2], [6, 1], [12, 5]])\n",
    "print(a)\n",
    "res = a[:, 0].copy()\n",
    "# 2\n",
    "indexes = a[:, 1] \n",
    "add = np.zeros(len(a), dtype=a.dtype)\n",
    "add[indexes < len(a)] = a[indexes[indexes < len(a)], 0]\n",
    "res += add\n",
    "res"
   ]
  },
  {
   "cell_type": "code",
   "execution_count": 60,
   "id": "71079906-a0b6-4d28-a35b-a1d8ec14f339",
   "metadata": {},
   "outputs": [],
   "source": [
    "a2 = np.empty((1000, 2), dtype=int)"
   ]
  },
  {
   "cell_type": "code",
   "execution_count": 61,
   "id": "3151fb01-7c86-4f5a-b01d-eaa9fbcfd408",
   "metadata": {},
   "outputs": [
    {
     "name": "stdout",
     "output_type": "stream",
     "text": [
      "754 µs ± 2.99 µs per loop (mean ± std. dev. of 7 runs, 1000 loops each)\n"
     ]
    }
   ],
   "source": [
    "%%timeit\n",
    "\n",
    "result = np.empty(a2.shape[0])\n",
    "it = np.nditer(result, flags=['f_index'])\n",
    "\n",
    "for x in it:\n",
    "    ind = a2[it.index, 1]\n",
    "    result[it.index] = a2[it.index, 0] + (a2[ind, 0] if len(a2) > ind else 0)\n",
    "    \n",
    "result"
   ]
  },
  {
   "cell_type": "code",
   "execution_count": 62,
   "id": "6889e7ae-23ad-4553-8e9b-96f752781118",
   "metadata": {},
   "outputs": [
    {
     "name": "stdout",
     "output_type": "stream",
     "text": [
      "12.3 µs ± 398 ns per loop (mean ± std. dev. of 7 runs, 100000 loops each)\n"
     ]
    }
   ],
   "source": [
    "%%timeit\n",
    "\n",
    "res = a2[:, 0].copy()\n",
    "indexes = a2[:, 1] \n",
    "add = np.zeros(len(a2), dtype=a2.dtype)\n",
    "add[indexes < len(a2)] = a2[indexes[indexes < len(a2)], 0]\n",
    "res += add"
   ]
  },
  {
   "cell_type": "code",
   "execution_count": 63,
   "id": "c3230de9-c656-42a3-afe2-967f33177e50",
   "metadata": {},
   "outputs": [
    {
     "data": {
      "text/plain": [
       "{0: [0],\n",
       " 1: [1, 4],\n",
       " 2: [2, 5, 8],\n",
       " 3: [3, 6, 9, 12],\n",
       " 4: [7, 10, 13],\n",
       " 5: [11, 14],\n",
       " 6: [15]}"
      ]
     },
     "execution_count": 63,
     "metadata": {},
     "output_type": "execute_result"
    }
   ],
   "source": [
    "# 50\n",
    "\n",
    "# По заданному двумерному массиву размера NxN постройте словарь, ключи которого - индексы диагоналей, \n",
    "# параллельных побочной (нумерация начинается с 0), а значения - списки элементов исходного массива, \n",
    "# лежащих на соответствующих диагоналях.\n",
    "# Решите задачу на примере массива a = np.arange(16).reshape(4, 4), в результате должен получиться словарь\n",
    "#{0: [0],\n",
    "# 1: [1, 4],\n",
    "# 2: [2, 5, 8],\n",
    "# 3: [3, 6, 9, 12],\n",
    "# 4: [7, 10, 13],\n",
    "# 5: [11, 14],\n",
    "# 6: [15]}.\n",
    "\n",
    "\n",
    "a = np.arange(16).reshape(4, 4)\n",
    "max_ind = sum(a.shape) - len(a.shape)\n",
    "d = {i:[] for i in range(max_ind + 1)}\n",
    "\n",
    "it = np.nditer(a, flags=['multi_index'])\n",
    "\n",
    "for x in it:\n",
    "    d[sum(it.multi_index)].append(int(x))\n",
    "    \n",
    "d"
   ]
  },
  {
   "cell_type": "code",
   "execution_count": 64,
   "id": "f3dffbe2-dcf1-425a-88c8-8f79a841ead8",
   "metadata": {},
   "outputs": [],
   "source": [
    "a2 = np.arange(1024).reshape(32, 32)"
   ]
  },
  {
   "cell_type": "code",
   "execution_count": 65,
   "id": "a80fc9ac-bad7-4c2f-983f-316954c4477f",
   "metadata": {},
   "outputs": [
    {
     "name": "stdout",
     "output_type": "stream",
     "text": [
      "310 µs ± 802 ns per loop (mean ± std. dev. of 7 runs, 1000 loops each)\n"
     ]
    }
   ],
   "source": [
    "%%timeit\n",
    "\n",
    "max_ind = sum(a2.shape) - len(a2.shape)\n",
    "d = {i:[] for i in range(max_ind + 1)}\n",
    "\n",
    "it = np.nditer(a2, flags=['multi_index'])\n",
    "\n",
    "for x in it:\n",
    "    d[sum(it.multi_index)].append(int(x))"
   ]
  },
  {
   "cell_type": "code",
   "execution_count": 66,
   "id": "500d0faa-5e11-45ca-ae08-795016ceb330",
   "metadata": {},
   "outputs": [
    {
     "name": "stdout",
     "output_type": "stream",
     "text": [
      "23.1 µs ± 37.5 ns per loop (mean ± std. dev. of 7 runs, 10000 loops each)\n"
     ]
    }
   ],
   "source": [
    "%%timeit\n",
    "\n",
    "a_rotated = np.fliplr(a2)\n",
    "res = {a2.shape[1] - i - 1: a_rotated.diagonal(i) for i in range(-a2.shape[1] + 1, a2.shape[1])}"
   ]
  },
  {
   "cell_type": "code",
   "execution_count": 67,
   "id": "88558e28-51a1-4262-8d1c-0c870c78c268",
   "metadata": {},
   "outputs": [
    {
     "name": "stdout",
     "output_type": "stream",
     "text": [
      "35.9 µs ± 90.3 ns per loop (mean ± std. dev. of 7 runs, 10000 loops each)\n"
     ]
    }
   ],
   "source": [
    "%%timeit\n",
    "\n",
    "res = {a2.shape[1] - i - 1: a2[:, ::-1].diagonal(i) for i in range(-a2.shape[1] + 1, a2.shape[1])}"
=======
    "array = np.array([3, 7, 2, 5, 0, 9, 8, 2, 4, 5])\n",
    "l = len(array) - (4 - 1)\n",
    "\n",
    "def func(x, y):\n",
    "    return array[x + y]\n",
    "\n",
    "np.fromfunction(func, (l, 4), dtype=int)"
>>>>>>> master
   ]
  }
 ],
 "metadata": {
  "kernelspec": {
   "display_name": "Python 3 (ipykernel)",
   "language": "python",
   "name": "python3"
  },
  "language_info": {
   "codemirror_mode": {
    "name": "ipython",
    "version": 3
   },
   "file_extension": ".py",
   "mimetype": "text/x-python",
   "name": "python",
   "nbconvert_exporter": "python",
   "pygments_lexer": "ipython3",
   "version": "3.8.10"
  }
 },
 "nbformat": 4,
 "nbformat_minor": 5
}
