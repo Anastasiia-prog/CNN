{
 "cells": [
  {
   "cell_type": "code",
   "execution_count": 32,
   "id": "0ee90296-283f-4be2-b2ca-f3fbda090237",
   "metadata": {},
   "outputs": [],
   "source": [
    "from torchvision import datasets\n",
    "from torch.utils.data import DataLoader, random_split\n",
    "from torchvision import transforms as T\n",
    "import torch.nn.functional as F\n",
    "from torch.optim import SGD, Adam\n",
    "from torch import nn\n",
    "import torch\n",
    "import os\n",
    "from tqdm import tqdm\n",
    "import matplotlib.pyplot as plt\n",
    "import tarfile\n",
    "from torchvision.datasets.utils import download_url\n",
    "import numpy as np\n",
    "from imagenette_ds import load_imagenette\n",
    "from resblock import ResBlock\n",
    "from SEBlock import SE_Block\n",
    "from model_learning import Training_valid_testing_model"
   ]
  },
  {
   "cell_type": "code",
   "execution_count": 17,
   "id": "6bf78375-6184-4431-9f77-28fbd4e7c2c8",
   "metadata": {},
   "outputs": [],
   "source": [
    "train_loader, val_loader, test_loader, test_dataset = load_imagenette()"
   ]
  },
  {
   "cell_type": "code",
   "execution_count": 3,
   "id": "032551fd-026a-4dbb-a0da-99685664a077",
   "metadata": {},
   "outputs": [],
   "source": [
    "device = \"cuda:2\" if torch.cuda.is_available() else \"cpu\""
   ]
  },
  {
   "cell_type": "code",
   "execution_count": 4,
   "id": "cea5da20-94e9-4bf2-9690-9e0352c082d2",
   "metadata": {},
   "outputs": [],
   "source": [
    "class Resnet34_body(nn.Module):\n",
    "    def __init__(self):\n",
    "        super().__init__()\n",
    "        \n",
    "        convblocks2 = nn.ModuleList([ResBlock(in_channels=64, out_channels=64) for i in range(3)])\n",
    "        self.convblock2_n = nn.Sequential(*convblocks2)\n",
    "        \n",
    "        self.convblock3_1 = ResBlock(in_channels=64, out_channels=128, downsample=True)\n",
    "        convblocks3 = nn.ModuleList([ResBlock(in_channels=128, out_channels=128) for i in range(3)])\n",
    "        self.convblock3_n = nn.Sequential(*convblocks3)\n",
    "\n",
    "        self.convblock4_1 = ResBlock(in_channels=128, out_channels=256, downsample=True)\n",
    "        convblocks4 = nn.ModuleList([ResBlock(in_channels=256, out_channels=256) for i in range(5)])\n",
    "        self.convblock4_n = nn.Sequential(*convblocks4)\n",
    "\n",
    "        self.convblock5_1 = ResBlock(in_channels=256, out_channels=512, downsample=True)\n",
    "        convblocks5 = nn.ModuleList([ResBlock(in_channels=512, out_channels=512) for i in range(2)])\n",
    "        self.convblock5_n = nn.Sequential(*convblocks5)\n",
    "        \n",
    "        \n",
    "    def forward(self, x):\n",
    "        \n",
    "        x = self.convblock2_n(x)\n",
    "        \n",
    "        x = self.convblock3_1(x)\n",
    "        x = self.convblock3_n(x)\n",
    "        \n",
    "        x = self.convblock4_1(x)\n",
    "        x = self.convblock4_n(x)\n",
    "        \n",
    "        x = self.convblock5_1(x)\n",
    "        x = self.convblock5_n(x)\n",
    "        \n",
    "        return x\n",
    "\n",
    "        \n",
    "class ResNet34(nn.Module):\n",
    "    def __init__(self):\n",
    "        super().__init__()\n",
    "        self.network = nn.Sequential(nn.Conv2d(in_channels=3, out_channels=64, kernel_size=7, stride=2, padding=3),\n",
    "                                     nn.ReLU(),\n",
    "                                     nn.MaxPool2d(kernel_size=3, stride=2, padding=1),\n",
    "                                     Resnet34_body(),\n",
    "                                     nn.AdaptiveAvgPool2d(1),\n",
    "                                     nn.Flatten(),\n",
    "                                     nn.Linear(512, 10))\n",
    "        \n",
    "    def forward(self, x):\n",
    "        x = self.network(x)\n",
    "        \n",
    "        return x"
   ]
  },
  {
   "cell_type": "code",
   "execution_count": 24,
   "id": "ec126333-e6d7-4260-9f83-66dc473edc28",
   "metadata": {},
   "outputs": [],
   "source": [
    "model = ResNet34()\n",
    "model = model.to(device)\n",
    "num_epochs = 35\n",
    "learning_rate = 0.001\n",
    "loss_function = nn.CrossEntropyLoss()\n",
    "optimizer = Adam(params=model.parameters(), lr=learning_rate)"
   ]
  },
  {
   "cell_type": "code",
   "execution_count": 33,
   "id": "3f7a1e35-a22b-4ea8-b2e5-b8d093ced1b7",
   "metadata": {},
   "outputs": [],
   "source": [
    "model_learning = Training_valid_testing_model(model=model, loss_function=loss_function,\n",
    "                                              optimizer=optimizer, num_epochs=num_epochs, train_loader=train_loader,\n",
    "                                              val_loader=val_loader, test_loader=test_loader, test_dataset=test_dataset,\n",
    "                                              device=device)"
   ]
  },
  {
   "cell_type": "code",
   "execution_count": 7,
   "id": "37350360-f738-48fe-878a-e056b1a99c41",
   "metadata": {},
   "outputs": [
    {
     "name": "stdout",
     "output_type": "stream",
     "text": [
      "Epoch number is 1\n"
     ]
    },
    {
     "name": "stderr",
     "output_type": "stream",
     "text": [
      "592it [01:00,  9.73it/s]\n",
      "183it [00:11, 15.79it/s]\n"
     ]
    },
    {
     "name": "stdout",
     "output_type": "stream",
     "text": [
      "CrossEntropyLoss train 2.0216763933768145\n",
      "CrossEntropyLoss validation 3.063478202767711\n",
      "Validation accuracy: 13.675213675213675\n",
      "Epoch number is 2\n"
     ]
    },
    {
     "name": "stderr",
     "output_type": "stream",
     "text": [
      "592it [00:59, 10.03it/s]\n",
      "183it [00:11, 15.85it/s]\n"
     ]
    },
    {
     "name": "stdout",
     "output_type": "stream",
     "text": [
      "CrossEntropyLoss train 1.7384810600731824\n",
      "CrossEntropyLoss validation 1.648311087016851\n",
      "Validation accuracy: 44.547008547008545\n",
      "Epoch number is 3\n"
     ]
    },
    {
     "name": "stderr",
     "output_type": "stream",
     "text": [
      "592it [00:58, 10.07it/s]\n",
      "183it [00:11, 15.74it/s]\n"
     ]
    },
    {
     "name": "stdout",
     "output_type": "stream",
     "text": [
      "CrossEntropyLoss train 1.5623927236207433\n",
      "CrossEntropyLoss validation 1.3993272328637336\n",
      "Validation accuracy: 52.41025641025641\n",
      "Epoch number is 4\n"
     ]
    },
    {
     "name": "stderr",
     "output_type": "stream",
     "text": [
      "592it [00:58, 10.08it/s]\n",
      "183it [00:11, 15.77it/s]\n"
     ]
    },
    {
     "name": "stdout",
     "output_type": "stream",
     "text": [
      "CrossEntropyLoss train 1.3472039360250976\n",
      "CrossEntropyLoss validation 1.5332391087800428\n",
      "Validation accuracy: 54.22222222222222\n",
      "Epoch number is 5\n"
     ]
    },
    {
     "name": "stderr",
     "output_type": "stream",
     "text": [
      "592it [00:58, 10.15it/s]\n",
      "183it [00:11, 15.84it/s]\n"
     ]
    },
    {
     "name": "stdout",
     "output_type": "stream",
     "text": [
      "CrossEntropyLoss train 1.2102318256590012\n",
      "CrossEntropyLoss validation 1.4927605488261237\n",
      "Validation accuracy: 53.05982905982906\n",
      "Epoch number is 6\n"
     ]
    },
    {
     "name": "stderr",
     "output_type": "stream",
     "text": [
      "592it [00:58, 10.06it/s]\n",
      "183it [00:11, 15.90it/s]\n"
     ]
    },
    {
     "name": "stdout",
     "output_type": "stream",
     "text": [
      "CrossEntropyLoss train 1.1065919292033524\n",
      "CrossEntropyLoss validation 1.2340555062385206\n",
      "Validation accuracy: 61.12820512820513\n",
      "Epoch number is 7\n"
     ]
    },
    {
     "name": "stderr",
     "output_type": "stream",
     "text": [
      "592it [00:59,  9.91it/s]\n",
      "183it [00:11, 15.68it/s]\n"
     ]
    },
    {
     "name": "stdout",
     "output_type": "stream",
     "text": [
      "CrossEntropyLoss train 1.0480759091977332\n",
      "CrossEntropyLoss validation 1.0745493570963542\n",
      "Validation accuracy: 66.2905982905983\n",
      "Epoch number is 8\n"
     ]
    },
    {
     "name": "stderr",
     "output_type": "stream",
     "text": [
      "592it [00:59, 10.02it/s]\n",
      "183it [00:11, 15.63it/s]\n"
     ]
    },
    {
     "name": "stdout",
     "output_type": "stream",
     "text": [
      "CrossEntropyLoss train 0.9542090725657102\n",
      "CrossEntropyLoss validation 0.9431488451247658\n",
      "Validation accuracy: 70.66666666666667\n",
      "Epoch number is 9\n"
     ]
    },
    {
     "name": "stderr",
     "output_type": "stream",
     "text": [
      "592it [00:59, 10.02it/s]\n",
      "183it [00:10, 18.08it/s]\n"
     ]
    },
    {
     "name": "stdout",
     "output_type": "stream",
     "text": [
      "CrossEntropyLoss train 0.9074664793505862\n",
      "CrossEntropyLoss validation 0.9674142607248546\n",
      "Validation accuracy: 69.05982905982906\n",
      "Epoch number is 10\n"
     ]
    },
    {
     "name": "stderr",
     "output_type": "stream",
     "text": [
      "592it [00:57, 10.26it/s]\n",
      "183it [00:10, 16.67it/s]\n"
     ]
    },
    {
     "name": "stdout",
     "output_type": "stream",
     "text": [
      "CrossEntropyLoss train 0.842670809200688\n",
      "CrossEntropyLoss validation 1.2900728679419866\n",
      "Validation accuracy: 60.27350427350427\n",
      "Epoch number is 11\n"
     ]
    },
    {
     "name": "stderr",
     "output_type": "stream",
     "text": [
      "592it [00:56, 10.49it/s]\n",
      "183it [00:10, 16.76it/s]\n"
     ]
    },
    {
     "name": "stdout",
     "output_type": "stream",
     "text": [
      "CrossEntropyLoss train 0.7985720708462838\n",
      "CrossEntropyLoss validation 0.8727443393299489\n",
      "Validation accuracy: 71.82905982905983\n",
      "Epoch number is 12\n"
     ]
    },
    {
     "name": "stderr",
     "output_type": "stream",
     "text": [
      "592it [00:56, 10.48it/s]\n",
      "183it [00:09, 18.51it/s]\n"
     ]
    },
    {
     "name": "stdout",
     "output_type": "stream",
     "text": [
      "CrossEntropyLoss train 0.7673542013995953\n",
      "CrossEntropyLoss validation 0.8109403476526177\n",
      "Validation accuracy: 74.66666666666667\n",
      "Epoch number is 13\n"
     ]
    },
    {
     "name": "stderr",
     "output_type": "stream",
     "text": [
      "592it [00:55, 10.64it/s]\n",
      "183it [00:09, 18.61it/s]\n"
     ]
    },
    {
     "name": "stdout",
     "output_type": "stream",
     "text": [
      "CrossEntropyLoss train 0.7053665999776205\n",
      "CrossEntropyLoss validation 0.8403573534527763\n",
      "Validation accuracy: 73.64102564102564\n",
      "Epoch number is 14\n"
     ]
    },
    {
     "name": "stderr",
     "output_type": "stream",
     "text": [
      "592it [00:54, 10.77it/s]\n",
      "183it [00:09, 18.77it/s]\n"
     ]
    },
    {
     "name": "stdout",
     "output_type": "stream",
     "text": [
      "CrossEntropyLoss train 0.6834844992168851\n",
      "CrossEntropyLoss validation 0.8453581350260093\n",
      "Validation accuracy: 73.53846153846153\n",
      "Epoch number is 15\n"
     ]
    },
    {
     "name": "stderr",
     "output_type": "stream",
     "text": [
      "592it [00:59, 10.03it/s]\n",
      "183it [00:11, 15.81it/s]\n"
     ]
    },
    {
     "name": "stdout",
     "output_type": "stream",
     "text": [
      "CrossEntropyLoss train 0.6472806766805416\n",
      "CrossEntropyLoss validation 0.7578871553061438\n",
      "Validation accuracy: 76.54700854700855\n",
      "Epoch number is 16\n"
     ]
    },
    {
     "name": "stderr",
     "output_type": "stream",
     "text": [
      "592it [00:56, 10.55it/s]\n",
      "183it [00:09, 18.73it/s]\n"
     ]
    },
    {
     "name": "stdout",
     "output_type": "stream",
     "text": [
      "CrossEntropyLoss train 0.6182661617703333\n",
      "CrossEntropyLoss validation 0.7301331264236586\n",
      "Validation accuracy: 77.53846153846153\n",
      "Epoch number is 17\n"
     ]
    },
    {
     "name": "stderr",
     "output_type": "stream",
     "text": [
      "592it [00:55, 10.64it/s]\n",
      "183it [00:10, 18.30it/s]\n"
     ]
    },
    {
     "name": "stdout",
     "output_type": "stream",
     "text": [
      "CrossEntropyLoss train 0.5713032482670167\n",
      "CrossEntropyLoss validation 0.6892933874019508\n",
      "Validation accuracy: 77.98290598290598\n",
      "Epoch number is 18\n"
     ]
    },
    {
     "name": "stderr",
     "output_type": "stream",
     "text": [
      "592it [00:55, 10.68it/s]\n",
      "183it [00:09, 19.56it/s]\n"
     ]
    },
    {
     "name": "stdout",
     "output_type": "stream",
     "text": [
      "CrossEntropyLoss train 0.5542971368287564\n",
      "CrossEntropyLoss validation 0.766146082247867\n",
      "Validation accuracy: 76.68376068376068\n",
      "Epoch number is 19\n"
     ]
    },
    {
     "name": "stderr",
     "output_type": "stream",
     "text": [
      "592it [00:55, 10.57it/s]\n",
      "183it [00:09, 18.71it/s]\n"
     ]
    },
    {
     "name": "stdout",
     "output_type": "stream",
     "text": [
      "CrossEntropyLoss train 0.5286483122161716\n",
      "CrossEntropyLoss validation 0.7693875354251575\n",
      "Validation accuracy: 76.75213675213675\n",
      "Epoch number is 20\n"
     ]
    },
    {
     "name": "stderr",
     "output_type": "stream",
     "text": [
      "592it [00:54, 10.87it/s]\n",
      "183it [00:09, 18.66it/s]\n"
     ]
    },
    {
     "name": "stdout",
     "output_type": "stream",
     "text": [
      "CrossEntropyLoss train 0.486009786522167\n",
      "CrossEntropyLoss validation 0.6983166805219129\n",
      "Validation accuracy: 78.66666666666667\n",
      "Epoch number is 21\n"
     ]
    },
    {
     "name": "stderr",
     "output_type": "stream",
     "text": [
      "592it [00:55, 10.64it/s]\n",
      "183it [00:09, 18.71it/s]\n"
     ]
    },
    {
     "name": "stdout",
     "output_type": "stream",
     "text": [
      "CrossEntropyLoss train 0.45243080835034316\n",
      "CrossEntropyLoss validation 0.8163468740839775\n",
      "Validation accuracy: 77.2991452991453\n",
      "Epoch number is 22\n"
     ]
    },
    {
     "name": "stderr",
     "output_type": "stream",
     "text": [
      "592it [00:55, 10.67it/s]\n",
      "183it [00:09, 18.83it/s]\n"
     ]
    },
    {
     "name": "stdout",
     "output_type": "stream",
     "text": [
      "CrossEntropyLoss train 0.443252530754418\n",
      "CrossEntropyLoss validation 0.7569210917531141\n",
      "Validation accuracy: 77.88034188034187\n",
      "Epoch number is 23\n"
     ]
    },
    {
     "name": "stderr",
     "output_type": "stream",
     "text": [
      "592it [00:56, 10.52it/s]\n",
      "183it [00:09, 18.66it/s]\n"
     ]
    },
    {
     "name": "stdout",
     "output_type": "stream",
     "text": [
      "CrossEntropyLoss train 0.4108997567657482\n",
      "CrossEntropyLoss validation 0.7967941507778532\n",
      "Validation accuracy: 78.76923076923077\n",
      "Epoch number is 24\n"
     ]
    },
    {
     "name": "stderr",
     "output_type": "stream",
     "text": [
      "592it [00:55, 10.72it/s]\n",
      "183it [00:11, 15.28it/s]\n"
     ]
    },
    {
     "name": "stdout",
     "output_type": "stream",
     "text": [
      "CrossEntropyLoss train 0.39168650845090885\n",
      "CrossEntropyLoss validation 0.8394266776536983\n",
      "Validation accuracy: 76.82051282051282\n",
      "Epoch number is 25\n"
     ]
    },
    {
     "name": "stderr",
     "output_type": "stream",
     "text": [
      "592it [01:00,  9.84it/s]\n",
      "183it [00:11, 15.30it/s]\n"
     ]
    },
    {
     "name": "stdout",
     "output_type": "stream",
     "text": [
      "CrossEntropyLoss train 0.3775724517118588\n",
      "CrossEntropyLoss validation 0.9236287248264896\n",
      "Validation accuracy: 74.66666666666667\n",
      "Epoch number is 26\n"
     ]
    },
    {
     "name": "stderr",
     "output_type": "stream",
     "text": [
      "592it [00:58, 10.10it/s]\n",
      "183it [00:11, 15.32it/s]\n"
     ]
    },
    {
     "name": "stdout",
     "output_type": "stream",
     "text": [
      "CrossEntropyLoss train 0.36319240559414784\n",
      "CrossEntropyLoss validation 0.8923470953815296\n",
      "Validation accuracy: 75.41880341880342\n",
      "Epoch number is 27\n"
     ]
    },
    {
     "name": "stderr",
     "output_type": "stream",
     "text": [
      "592it [00:56, 10.51it/s]\n",
      "183it [00:09, 18.44it/s]\n"
     ]
    },
    {
     "name": "stdout",
     "output_type": "stream",
     "text": [
      "CrossEntropyLoss train 0.3437651574573907\n",
      "CrossEntropyLoss validation 0.8877231262094988\n",
      "Validation accuracy: 76.58119658119658\n",
      "Epoch number is 28\n"
     ]
    },
    {
     "name": "stderr",
     "output_type": "stream",
     "text": [
      "592it [00:55, 10.74it/s]\n",
      "183it [00:09, 18.73it/s]\n"
     ]
    },
    {
     "name": "stdout",
     "output_type": "stream",
     "text": [
      "CrossEntropyLoss train 0.32838095288182534\n",
      "CrossEntropyLoss validation 0.7911288682880298\n",
      "Validation accuracy: 79.52136752136752\n",
      "Epoch number is 29\n"
     ]
    },
    {
     "name": "stderr",
     "output_type": "stream",
     "text": [
      "592it [00:52, 11.18it/s]\n",
      "183it [00:09, 18.69it/s]\n"
     ]
    },
    {
     "name": "stdout",
     "output_type": "stream",
     "text": [
      "CrossEntropyLoss train 0.3033440076491191\n",
      "CrossEntropyLoss validation 0.7590276088382377\n",
      "Validation accuracy: 79.65811965811966\n",
      "Epoch number is 30\n"
     ]
    },
    {
     "name": "stderr",
     "output_type": "stream",
     "text": [
      "592it [00:55, 10.58it/s]\n",
      "183it [00:09, 18.47it/s]\n"
     ]
    },
    {
     "name": "stdout",
     "output_type": "stream",
     "text": [
      "CrossEntropyLoss train 0.29211376100696773\n",
      "CrossEntropyLoss validation 0.7386035626662559\n",
      "Validation accuracy: 80.23931623931624\n",
      "Epoch number is 31\n"
     ]
    },
    {
     "name": "stderr",
     "output_type": "stream",
     "text": [
      "592it [00:56, 10.46it/s]\n",
      "183it [00:12, 15.16it/s]\n"
     ]
    },
    {
     "name": "stdout",
     "output_type": "stream",
     "text": [
      "CrossEntropyLoss train 0.273393425217364\n",
      "CrossEntropyLoss validation 0.9153832279634281\n",
      "Validation accuracy: 77.33333333333333\n",
      "Epoch number is 32\n"
     ]
    },
    {
     "name": "stderr",
     "output_type": "stream",
     "text": [
      "592it [01:01,  9.66it/s]\n",
      "183it [00:11, 15.31it/s]\n"
     ]
    },
    {
     "name": "stdout",
     "output_type": "stream",
     "text": [
      "CrossEntropyLoss train 0.2461723266861628\n",
      "CrossEntropyLoss validation 0.8345802796831547\n",
      "Validation accuracy: 79.11111111111111\n",
      "Epoch number is 33\n"
     ]
    },
    {
     "name": "stderr",
     "output_type": "stream",
     "text": [
      "592it [00:57, 10.29it/s]\n",
      "183it [00:10, 17.90it/s]\n"
     ]
    },
    {
     "name": "stdout",
     "output_type": "stream",
     "text": [
      "CrossEntropyLoss train 0.24441128531219186\n",
      "CrossEntropyLoss validation 0.941322178503529\n",
      "Validation accuracy: 75.55555555555556\n",
      "Epoch number is 34\n"
     ]
    },
    {
     "name": "stderr",
     "output_type": "stream",
     "text": [
      "592it [01:00,  9.75it/s]\n",
      "183it [00:10, 17.19it/s]\n"
     ]
    },
    {
     "name": "stdout",
     "output_type": "stream",
     "text": [
      "CrossEntropyLoss train 0.24431806779151932\n",
      "CrossEntropyLoss validation 0.776960371988393\n",
      "Validation accuracy: 79.7948717948718\n",
      "Epoch number is 35\n"
     ]
    },
    {
     "name": "stderr",
     "output_type": "stream",
     "text": [
      "592it [00:59, 10.00it/s]\n",
      "183it [00:11, 15.52it/s]\n"
     ]
    },
    {
     "name": "stdout",
     "output_type": "stream",
     "text": [
      "CrossEntropyLoss train 0.22260654122077836\n",
      "CrossEntropyLoss validation 1.0221423825116758\n",
      "Validation accuracy: 75.45299145299145\n"
     ]
    },
    {
     "data": {
      "image/png": "[encoded data removed]",
      "text/plain": [
       "<Figure size 432x288 with 1 Axes>"
      ]
     },
     "metadata": {
      "needs_background": "light"
     },
     "output_type": "display_data"
    },
    {
     "data": {
      "image/png": "[encoded data removed]",
      "text/plain": [
       "<Figure size 432x288 with 1 Axes>"
      ]
     },
     "metadata": {
      "needs_background": "light"
     },
     "output_type": "display_data"
    }
   ],
   "source": [
    "model_learning.learning_run()"
   ]
  },
  {
   "cell_type": "code",
   "execution_count": 8,
   "id": "7809c8d0-5df0-466b-ad68-e38c8c546f94",
   "metadata": {},
   "outputs": [],
   "source": [
    "model_path = 'resnet34_model_imagenette320'\n",
    "torch.save(model.state_dict(), model_path)"
   ]
  },
  {
   "cell_type": "code",
   "execution_count": 29,
   "id": "99f30de9-2847-411e-ad3b-c9822d1c0ead",
   "metadata": {},
   "outputs": [
    {
     "name": "stdout",
     "output_type": "stream",
     "text": [
      "Test accuracy: None\n"
     ]
    }
   ],
   "source": [
    "test_accuracy = model_learning.testing_results()\n",
    "print('Test accuracy:', test_accuracy)"
   ]
  },
  {
   "cell_type": "code",
   "execution_count": 41,
   "id": "4ffd0cce-ab09-4370-8e77-3a140c3d38da",
   "metadata": {},
   "outputs": [],
   "source": [
    "# model_learning.predict_image(test_dataset[5][0])"
   ]
  },
  {
   "cell_type": "code",
   "execution_count": 42,
   "id": "05b1ce01-3146-49e8-a8a7-baed7ac9334d",
   "metadata": {},
   "outputs": [],
   "source": [
    "# model_learning.predict_image(test_dataset[600][0])"
   ]
  },
  {
   "cell_type": "code",
   "execution_count": null,
   "id": "d807f3bf-b434-460f-b742-8838a1293d30",
   "metadata": {},
   "outputs": [],
   "source": []
  }
 ],
 "metadata": {
  "kernelspec": {
   "display_name": "Python 3 (ipykernel)",
   "language": "python",
   "name": "python3"
  },
  "language_info": {
   "codemirror_mode": {
    "name": "ipython",
    "version": 3
   },
   "file_extension": ".py",
   "mimetype": "text/x-python",
   "name": "python",
   "nbconvert_exporter": "python",
   "pygments_lexer": "ipython3",
   "version": "3.8.10"
  }
 },
 "nbformat": 4,
 "nbformat_minor": 5
}
