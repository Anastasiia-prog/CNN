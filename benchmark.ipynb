{
 "cells": [
  {
   "cell_type": "code",
   "execution_count": 1,
   "id": "b73bc000-1f61-4858-b49e-f7d83f1a8300",
   "metadata": {},
   "outputs": [],
   "source": [
    "import timeit\n",
    "import torch\n",
    "from torch import nn\n",
    "from separable_conv import SeparableConv2d\n",
    "from statistics import mean"
   ]
  },
  {
   "cell_type": "code",
   "execution_count": 5,
   "id": "3aa9f45d-bd66-4f3e-a121-58a494d9e5c5",
   "metadata": {},
   "outputs": [],
   "source": [
    "def benchmark(in_channels, out_channels, kernel_size, groups, H, W, batch_size, conv_type=None):\n",
    "    device = \"cuda:0\" if torch.cuda.is_available() else \"cpu\"\n",
    "    # time variables\n",
    "    start = torch.cuda.Event(enable_timing=True)\n",
    "    end = torch.cuda.Event(enable_timing=True)\n",
    "    \n",
    "    start_forward = torch.cuda.Event(enable_timing=True)\n",
    "    end_forward = torch.cuda.Event(enable_timing=True)\n",
    "    \n",
    "    start_backward = torch.cuda.Event(enable_timing=True)\n",
    "    end_backward = torch.cuda.Event(enable_timing=True)\n",
    "    # to start record time\n",
    "    start.record()\n",
    "    # choose separable or conv2d\n",
    "    if conv_type == 'depth':\n",
    "        conv = SeparableConv2d(in_channels=in_channels, out_channels=out_channels, kernel_size=kernel_size)\n",
    "    else:\n",
    "        conv = nn.Conv2d(in_channels=in_channels, out_channels=out_channels, kernel_size=kernel_size, groups=groups)\n",
    "    # create toy image dataset\n",
    "    xs = torch.rand((batch_size, in_channels, H, W))\n",
    "    \n",
    "    conv.to(device)\n",
    "    \n",
    "    xs = xs.to(device)\n",
    "    # to start record forward operation\n",
    "    start_forward.record()\n",
    "    torch.cuda.empty_cache()\n",
    "    xs.requires_grad = True\n",
    "    \n",
    "    ys = conv(xs)\n",
    "    # to end record forward operations\n",
    "    end_forward.record()\n",
    "    # calculate memory in MB\n",
    "    mb = 1024 * 1024\n",
    "    forward_memory = torch.cuda.memory_allocated(device) / mb\n",
    "    # to start record backward operations\n",
    "    start_backward.record()\n",
    "    torch.cuda.empty_cache()\n",
    "    ys.backward(torch.ones_like(ys))\n",
    "    # to end record backward operations\n",
    "    end_backward.record()\n",
    "    \n",
    "    backward_memory = torch.cuda.memory_allocated()/mb\n",
    "    # to end record whole time\n",
    "    end.record()\n",
    "    # wait while finish all operations\n",
    "    torch.cuda.synchronize()\n",
    "    # calculate whole, forward and backward execution times\n",
    "    execution_time = start.elapsed_time(end) / 1000\n",
    "    execution_time_forward = start_forward.elapsed_time(end_forward) / 1000\n",
    "    execution_time_backward = start_backward.elapsed_time(end_backward) / 1000\n",
    "    \n",
    "    return forward_memory, backward_memory, execution_time, execution_time_forward, execution_time_backward"
   ]
  },
  {
   "cell_type": "code",
   "execution_count": 6,
   "id": "d374c817-0e9f-42c7-93e0-b3f9e42c6e32",
   "metadata": {},
   "outputs": [],
   "source": [
    "in_channels = [16, 32]\n",
    "out_channels = 64\n",
    "kernel_size = [3, 5]\n",
    "groups = 4\n",
    "H = [160, 224]\n",
    "W = [160, 224]\n",
    "batch_size = [16, 32]"
   ]
  },
  {
   "cell_type": "code",
   "execution_count": 7,
   "id": "d5e7eb88-331e-46eb-a503-ef82c9e789b9",
   "metadata": {},
   "outputs": [],
   "source": [
    "regular = {'forward':[], 'backward':[], 'time':[], 'time_forward':[], 'time_backward':[]}\n",
    "grouped = {'forward':[], 'backward':[], 'time':[], 'time_forward':[], 'time_backward':[]}\n",
    "separabled = {'forward':[], 'backward':[], 'time':[], 'time_forward':[], 'time_backward':[]}\n",
    "\n",
    "def dict_time_memory(vocabulary, f_memory, b_memory, whole_time, f_time, b_time):\n",
    "    vocabulary['forward'].append(f_memory)\n",
    "    vocabulary['backward'].append(b_memory)\n",
    "    vocabulary['time'].append(whole_time)\n",
    "    vocabulary['time_forward'].append(f_time)\n",
    "    vocabulary['time_backward'].append(b_time)\n",
    "    \n",
    "    return vocabulary"
   ]
  },
  {
   "cell_type": "code",
   "execution_count": 8,
   "id": "d5d8f886-d945-480c-b43e-84e0a58b4d5d",
   "metadata": {},
   "outputs": [],
   "source": [
    "for i in range(100):\n",
    "    # regular convolution\n",
    "    f_memory_reg, b_memory_reg, execution_time_reg, execution_time_f_reg, execution_time_b_reg = benchmark(in_channels=in_channels[0], out_channels=out_channels,\n",
    "                                                                                                                                   kernel_size=kernel_size[0], groups=1, H=H[0], W=W[0], batch_size=batch_size[0])\n",
    "    \n",
    "    dict_regular = dict_time_memory(regular, f_memory_reg, b_memory_reg, execution_time_reg, execution_time_f_reg, execution_time_b_reg)\n",
    "    # grouped convolution\n",
    "    f_memory_grouped, b_memory_grouped, execution_time_grouped, execution_time_f_grouped, execution_time_b_grouped = benchmark(in_channels=in_channels[0], out_channels=out_channels,\n",
    "                                                                                                                                         kernel_size=kernel_size[0], groups=4, H=H[0], W=W[0], batch_size=batch_size[0])\n",
    "    \n",
    "    dict_grouped = dict_time_memory(grouped, f_memory_grouped, b_memory_grouped, execution_time_grouped, execution_time_f_grouped, execution_time_b_grouped)\n",
    "    # separable convolution\n",
    "    f_memory_sep, b_memory_sep, execution_time_sep, execution_time_f_sep, execution_time_b_sep = benchmark(in_channels=in_channels[0], out_channels=out_channels,\n",
    "                                                                                                                  kernel_size=kernel_size[0], groups=1, H=H[0], W=W[0],\n",
    "                                                                                                                  batch_size=batch_size[0],conv_type='depth')\n",
    "    \n",
    "    dict_separabled = dict_time_memory(separabled, f_memory_sep, b_memory_sep, execution_time_sep, execution_time_f_sep, execution_time_b_sep)"
   ]
  },
  {
   "cell_type": "code",
   "execution_count": 9,
   "id": "394ca52a-019a-4a35-8620-4f2bd670c04a",
   "metadata": {},
   "outputs": [
    {
     "name": "stdout",
     "output_type": "stream",
     "text": [
      "Среднее значение памяти\n",
      "FORWARD-BACKWARD\n",
      "Обычная свертка: 124.03564453125 mb , 150.0712890625 mb\n",
      "Групповая свертка: 124.00927734375 mb , 150.0185546875 mb\n",
      "Сепарабельная свертка: 152.0048828125 mb , 152.009765625 mb\n"
     ]
    }
   ],
   "source": [
    "print('Среднее значение памяти')\n",
    "print('FORWARD-BACKWARD')\n",
    "print('Обычная свертка:', mean(dict_regular['forward']), 'mb', ',', mean(dict_regular['backward']), 'mb')\n",
    "print('Групповая свертка:', mean(dict_grouped['forward']), 'mb', ',',  mean(dict_grouped['backward']), 'mb')\n",
    "print('Сепарабельная свертка:', mean(dict_separabled['forward']), 'mb', ',', mean(dict_separabled['backward']), 'mb')"
   ]
  },
  {
   "cell_type": "code",
   "execution_count": 10,
   "id": "75ee8b03-a9e0-43f2-82ac-7383131467b6",
   "metadata": {},
   "outputs": [
    {
     "name": "stdout",
     "output_type": "stream",
     "text": [
      "Среднее время выполнения\n",
      "ОБЩЕЕ-FORWARD-BACKWARD\n",
      "Обычная свертка: 0.06699037525177003 sec , 0.012474384155273438 sec , 0.005242756481170654 sec\n",
      "Групповая свертка: 0.0534506273651123 sec , 0.0012544864010810852 sec , 0.004362536010742188 sec\n",
      "Сепарабельная свертка: 0.05114467216491699 sec , 0.0008200121593475341 sec , 0.002119809592962265 sec\n"
     ]
    }
   ],
   "source": [
    "print('Среднее время выполнения')\n",
    "print('ОБЩЕЕ-FORWARD-BACKWARD')\n",
    "print('Обычная свертка:', mean(dict_regular['time']), 'sec', ',', mean(dict_regular['time_forward']), 'sec', ',', mean(dict_regular['time_backward']), 'sec')\n",
    "print('Групповая свертка:', mean(dict_grouped['time']), 'sec', ',', mean(dict_grouped['time_forward']), 'sec', ',', mean(dict_grouped['time_backward']), 'sec')\n",
    "print('Сепарабельная свертка:', mean(dict_separabled['time']), 'sec', ',', mean(dict_separabled['time_forward']), 'sec', ',', mean(dict_separabled['time_backward']), 'sec')"
   ]
  },
  {
   "cell_type": "code",
   "execution_count": null,
   "id": "05cd4629-5146-41b3-9047-ea296dcf545f",
   "metadata": {},
   "outputs": [],
   "source": []
  }
 ],
 "metadata": {
  "kernelspec": {
   "display_name": "Python 3 (ipykernel)",
   "language": "python",
   "name": "python3"
  },
  "language_info": {
   "codemirror_mode": {
    "name": "ipython",
    "version": 3
   },
   "file_extension": ".py",
   "mimetype": "text/x-python",
   "name": "python",
   "nbconvert_exporter": "python",
   "pygments_lexer": "ipython3",
   "version": "3.8.10"
  }
 },
 "nbformat": 4,
 "nbformat_minor": 5
}
